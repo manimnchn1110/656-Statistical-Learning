{
 "cells": [
  {
   "cell_type": "markdown",
   "metadata": {},
   "source": [
    "BIA656 - HW1 - Assignment 1\n",
    "- Problem 1(Explore R)\n",
    "- a) Create the following vectors in R."
   ]
  },
  {
   "cell_type": "code",
   "execution_count": 1,
   "metadata": {},
   "outputs": [
    {
     "data": {
      "text/html": [
       "<ol class=list-inline>\n",
       "\t<li>5</li>\n",
       "\t<li>10</li>\n",
       "\t<li>15</li>\n",
       "\t<li>20</li>\n",
       "\t<li>25</li>\n",
       "\t<li>30</li>\n",
       "\t<li>35</li>\n",
       "\t<li>40</li>\n",
       "\t<li>45</li>\n",
       "\t<li>50</li>\n",
       "\t<li>55</li>\n",
       "\t<li>60</li>\n",
       "\t<li>65</li>\n",
       "\t<li>70</li>\n",
       "\t<li>75</li>\n",
       "\t<li>80</li>\n",
       "\t<li>85</li>\n",
       "\t<li>90</li>\n",
       "\t<li>95</li>\n",
       "\t<li>100</li>\n",
       "\t<li>105</li>\n",
       "\t<li>110</li>\n",
       "\t<li>115</li>\n",
       "\t<li>120</li>\n",
       "\t<li>125</li>\n",
       "\t<li>130</li>\n",
       "\t<li>135</li>\n",
       "\t<li>140</li>\n",
       "\t<li>145</li>\n",
       "\t<li>150</li>\n",
       "\t<li>155</li>\n",
       "\t<li>160</li>\n",
       "</ol>\n"
      ],
      "text/latex": [
       "\\begin{enumerate*}\n",
       "\\item 5\n",
       "\\item 10\n",
       "\\item 15\n",
       "\\item 20\n",
       "\\item 25\n",
       "\\item 30\n",
       "\\item 35\n",
       "\\item 40\n",
       "\\item 45\n",
       "\\item 50\n",
       "\\item 55\n",
       "\\item 60\n",
       "\\item 65\n",
       "\\item 70\n",
       "\\item 75\n",
       "\\item 80\n",
       "\\item 85\n",
       "\\item 90\n",
       "\\item 95\n",
       "\\item 100\n",
       "\\item 105\n",
       "\\item 110\n",
       "\\item 115\n",
       "\\item 120\n",
       "\\item 125\n",
       "\\item 130\n",
       "\\item 135\n",
       "\\item 140\n",
       "\\item 145\n",
       "\\item 150\n",
       "\\item 155\n",
       "\\item 160\n",
       "\\end{enumerate*}\n"
      ],
      "text/markdown": [
       "1. 5\n",
       "2. 10\n",
       "3. 15\n",
       "4. 20\n",
       "5. 25\n",
       "6. 30\n",
       "7. 35\n",
       "8. 40\n",
       "9. 45\n",
       "10. 50\n",
       "11. 55\n",
       "12. 60\n",
       "13. 65\n",
       "14. 70\n",
       "15. 75\n",
       "16. 80\n",
       "17. 85\n",
       "18. 90\n",
       "19. 95\n",
       "20. 100\n",
       "21. 105\n",
       "22. 110\n",
       "23. 115\n",
       "24. 120\n",
       "25. 125\n",
       "26. 130\n",
       "27. 135\n",
       "28. 140\n",
       "29. 145\n",
       "30. 150\n",
       "31. 155\n",
       "32. 160\n",
       "\n",
       "\n"
      ],
      "text/plain": [
       " [1]   5  10  15  20  25  30  35  40  45  50  55  60  65  70  75  80  85  90  95\n",
       "[20] 100 105 110 115 120 125 130 135 140 145 150 155 160"
      ]
     },
     "metadata": {},
     "output_type": "display_data"
    }
   ],
   "source": [
    "a <- NULL\n",
    "for (i in 1:32){\n",
    "  item = i * 5\n",
    "  a <-c(a, item)\n",
    "}\n",
    "a"
   ]
  },
  {
   "cell_type": "code",
   "execution_count": 2,
   "metadata": {},
   "outputs": [
    {
     "data": {
      "text/html": [
       "<ol class=list-inline>\n",
       "\t<li>87</li>\n",
       "\t<li>86</li>\n",
       "\t<li>85</li>\n",
       "\t<li>84</li>\n",
       "\t<li>83</li>\n",
       "\t<li>82</li>\n",
       "\t<li>81</li>\n",
       "\t<li>80</li>\n",
       "\t<li>79</li>\n",
       "\t<li>78</li>\n",
       "\t<li>77</li>\n",
       "\t<li>76</li>\n",
       "\t<li>75</li>\n",
       "\t<li>74</li>\n",
       "\t<li>73</li>\n",
       "\t<li>72</li>\n",
       "\t<li>71</li>\n",
       "\t<li>70</li>\n",
       "\t<li>69</li>\n",
       "\t<li>68</li>\n",
       "\t<li>67</li>\n",
       "\t<li>66</li>\n",
       "\t<li>65</li>\n",
       "\t<li>64</li>\n",
       "\t<li>63</li>\n",
       "\t<li>62</li>\n",
       "\t<li>61</li>\n",
       "\t<li>60</li>\n",
       "\t<li>59</li>\n",
       "\t<li>58</li>\n",
       "\t<li>57</li>\n",
       "\t<li>56</li>\n",
       "</ol>\n"
      ],
      "text/latex": [
       "\\begin{enumerate*}\n",
       "\\item 87\n",
       "\\item 86\n",
       "\\item 85\n",
       "\\item 84\n",
       "\\item 83\n",
       "\\item 82\n",
       "\\item 81\n",
       "\\item 80\n",
       "\\item 79\n",
       "\\item 78\n",
       "\\item 77\n",
       "\\item 76\n",
       "\\item 75\n",
       "\\item 74\n",
       "\\item 73\n",
       "\\item 72\n",
       "\\item 71\n",
       "\\item 70\n",
       "\\item 69\n",
       "\\item 68\n",
       "\\item 67\n",
       "\\item 66\n",
       "\\item 65\n",
       "\\item 64\n",
       "\\item 63\n",
       "\\item 62\n",
       "\\item 61\n",
       "\\item 60\n",
       "\\item 59\n",
       "\\item 58\n",
       "\\item 57\n",
       "\\item 56\n",
       "\\end{enumerate*}\n"
      ],
      "text/markdown": [
       "1. 87\n",
       "2. 86\n",
       "3. 85\n",
       "4. 84\n",
       "5. 83\n",
       "6. 82\n",
       "7. 81\n",
       "8. 80\n",
       "9. 79\n",
       "10. 78\n",
       "11. 77\n",
       "12. 76\n",
       "13. 75\n",
       "14. 74\n",
       "15. 73\n",
       "16. 72\n",
       "17. 71\n",
       "18. 70\n",
       "19. 69\n",
       "20. 68\n",
       "21. 67\n",
       "22. 66\n",
       "23. 65\n",
       "24. 64\n",
       "25. 63\n",
       "26. 62\n",
       "27. 61\n",
       "28. 60\n",
       "29. 59\n",
       "30. 58\n",
       "31. 57\n",
       "32. 56\n",
       "\n",
       "\n"
      ],
      "text/plain": [
       " [1] 87 86 85 84 83 82 81 80 79 78 77 76 75 74 73 72 71 70 69 68 67 66 65 64 63\n",
       "[26] 62 61 60 59 58 57 56"
      ]
     },
     "metadata": {},
     "output_type": "display_data"
    }
   ],
   "source": [
    "b <- NULL\n",
    "for (i in 1:32){\n",
    "  item = 88 - i\n",
    "  b <- c(b, item)\n",
    "}\n",
    "b"
   ]
  },
  {
   "cell_type": "markdown",
   "metadata": {},
   "source": [
    "- b) Use vector arthmetic to multiply these vectors and call the result d."
   ]
  },
  {
   "cell_type": "code",
   "execution_count": 3,
   "metadata": {},
   "outputs": [
    {
     "data": {
      "text/html": [
       "<ol class=list-inline>\n",
       "\t<li>435</li>\n",
       "\t<li>860</li>\n",
       "\t<li>1275</li>\n",
       "\t<li>1680</li>\n",
       "\t<li>2075</li>\n",
       "\t<li>2460</li>\n",
       "\t<li>2835</li>\n",
       "\t<li>3200</li>\n",
       "\t<li>3555</li>\n",
       "\t<li>3900</li>\n",
       "\t<li>4235</li>\n",
       "\t<li>4560</li>\n",
       "\t<li>4875</li>\n",
       "\t<li>5180</li>\n",
       "\t<li>5475</li>\n",
       "\t<li>5760</li>\n",
       "\t<li>6035</li>\n",
       "\t<li>6300</li>\n",
       "\t<li>6555</li>\n",
       "\t<li>6800</li>\n",
       "\t<li>7035</li>\n",
       "\t<li>7260</li>\n",
       "\t<li>7475</li>\n",
       "\t<li>7680</li>\n",
       "\t<li>7875</li>\n",
       "\t<li>8060</li>\n",
       "\t<li>8235</li>\n",
       "\t<li>8400</li>\n",
       "\t<li>8555</li>\n",
       "\t<li>8700</li>\n",
       "\t<li>8835</li>\n",
       "\t<li>8960</li>\n",
       "</ol>\n"
      ],
      "text/latex": [
       "\\begin{enumerate*}\n",
       "\\item 435\n",
       "\\item 860\n",
       "\\item 1275\n",
       "\\item 1680\n",
       "\\item 2075\n",
       "\\item 2460\n",
       "\\item 2835\n",
       "\\item 3200\n",
       "\\item 3555\n",
       "\\item 3900\n",
       "\\item 4235\n",
       "\\item 4560\n",
       "\\item 4875\n",
       "\\item 5180\n",
       "\\item 5475\n",
       "\\item 5760\n",
       "\\item 6035\n",
       "\\item 6300\n",
       "\\item 6555\n",
       "\\item 6800\n",
       "\\item 7035\n",
       "\\item 7260\n",
       "\\item 7475\n",
       "\\item 7680\n",
       "\\item 7875\n",
       "\\item 8060\n",
       "\\item 8235\n",
       "\\item 8400\n",
       "\\item 8555\n",
       "\\item 8700\n",
       "\\item 8835\n",
       "\\item 8960\n",
       "\\end{enumerate*}\n"
      ],
      "text/markdown": [
       "1. 435\n",
       "2. 860\n",
       "3. 1275\n",
       "4. 1680\n",
       "5. 2075\n",
       "6. 2460\n",
       "7. 2835\n",
       "8. 3200\n",
       "9. 3555\n",
       "10. 3900\n",
       "11. 4235\n",
       "12. 4560\n",
       "13. 4875\n",
       "14. 5180\n",
       "15. 5475\n",
       "16. 5760\n",
       "17. 6035\n",
       "18. 6300\n",
       "19. 6555\n",
       "20. 6800\n",
       "21. 7035\n",
       "22. 7260\n",
       "23. 7475\n",
       "24. 7680\n",
       "25. 7875\n",
       "26. 8060\n",
       "27. 8235\n",
       "28. 8400\n",
       "29. 8555\n",
       "30. 8700\n",
       "31. 8835\n",
       "32. 8960\n",
       "\n",
       "\n"
      ],
      "text/plain": [
       " [1]  435  860 1275 1680 2075 2460 2835 3200 3555 3900 4235 4560 4875 5180 5475\n",
       "[16] 5760 6035 6300 6555 6800 7035 7260 7475 7680 7875 8060 8235 8400 8555 8700\n",
       "[31] 8835 8960"
      ]
     },
     "metadata": {},
     "output_type": "display_data"
    }
   ],
   "source": [
    "d <- a * b\n",
    "d"
   ]
  },
  {
   "cell_type": "markdown",
   "metadata": {},
   "source": [
    "- c) What are the 19th, 20th, and 21st elements of d)?"
   ]
  },
  {
   "cell_type": "code",
   "execution_count": 4,
   "metadata": {},
   "outputs": [
    {
     "data": {
      "text/html": [
       "6555"
      ],
      "text/latex": [
       "6555"
      ],
      "text/markdown": [
       "6555"
      ],
      "text/plain": [
       "[1] 6555"
      ]
     },
     "metadata": {},
     "output_type": "display_data"
    },
    {
     "data": {
      "text/html": [
       "6800"
      ],
      "text/latex": [
       "6800"
      ],
      "text/markdown": [
       "6800"
      ],
      "text/plain": [
       "[1] 6800"
      ]
     },
     "metadata": {},
     "output_type": "display_data"
    },
    {
     "data": {
      "text/html": [
       "7035"
      ],
      "text/latex": [
       "7035"
      ],
      "text/markdown": [
       "7035"
      ],
      "text/plain": [
       "[1] 7035"
      ]
     },
     "metadata": {},
     "output_type": "display_data"
    }
   ],
   "source": [
    "d[19]\n",
    "d[20]\n",
    "d[21]"
   ]
  },
  {
   "cell_type": "markdown",
   "metadata": {},
   "source": [
    "- d)What are all of the elements of d) which are less than 2000?"
   ]
  },
  {
   "cell_type": "code",
   "execution_count": 5,
   "metadata": {},
   "outputs": [
    {
     "data": {
      "text/html": [
       "<ol class=list-inline>\n",
       "\t<li>435</li>\n",
       "\t<li>860</li>\n",
       "\t<li>1275</li>\n",
       "\t<li>1680</li>\n",
       "</ol>\n"
      ],
      "text/latex": [
       "\\begin{enumerate*}\n",
       "\\item 435\n",
       "\\item 860\n",
       "\\item 1275\n",
       "\\item 1680\n",
       "\\end{enumerate*}\n"
      ],
      "text/markdown": [
       "1. 435\n",
       "2. 860\n",
       "3. 1275\n",
       "4. 1680\n",
       "\n",
       "\n"
      ],
      "text/plain": [
       "[1]  435  860 1275 1680"
      ]
     },
     "metadata": {},
     "output_type": "display_data"
    }
   ],
   "source": [
    "e <- NULL\n",
    "for (i in 1:length(d)){if(d[i] <= 2000){e <- c(e, d[i])}}\n",
    "e"
   ]
  },
  {
   "cell_type": "markdown",
   "metadata": {},
   "source": [
    "- e)How many elements of d) are greater than 6000?"
   ]
  },
  {
   "cell_type": "code",
   "execution_count": 6,
   "metadata": {},
   "outputs": [
    {
     "data": {
      "text/html": [
       "<ol class=list-inline>\n",
       "\t<li>6035</li>\n",
       "\t<li>6300</li>\n",
       "\t<li>6555</li>\n",
       "\t<li>6800</li>\n",
       "\t<li>7035</li>\n",
       "\t<li>7260</li>\n",
       "\t<li>7475</li>\n",
       "\t<li>7680</li>\n",
       "\t<li>7875</li>\n",
       "\t<li>8060</li>\n",
       "\t<li>8235</li>\n",
       "\t<li>8400</li>\n",
       "\t<li>8555</li>\n",
       "\t<li>8700</li>\n",
       "\t<li>8835</li>\n",
       "\t<li>8960</li>\n",
       "</ol>\n"
      ],
      "text/latex": [
       "\\begin{enumerate*}\n",
       "\\item 6035\n",
       "\\item 6300\n",
       "\\item 6555\n",
       "\\item 6800\n",
       "\\item 7035\n",
       "\\item 7260\n",
       "\\item 7475\n",
       "\\item 7680\n",
       "\\item 7875\n",
       "\\item 8060\n",
       "\\item 8235\n",
       "\\item 8400\n",
       "\\item 8555\n",
       "\\item 8700\n",
       "\\item 8835\n",
       "\\item 8960\n",
       "\\end{enumerate*}\n"
      ],
      "text/markdown": [
       "1. 6035\n",
       "2. 6300\n",
       "3. 6555\n",
       "4. 6800\n",
       "5. 7035\n",
       "6. 7260\n",
       "7. 7475\n",
       "8. 7680\n",
       "9. 7875\n",
       "10. 8060\n",
       "11. 8235\n",
       "12. 8400\n",
       "13. 8555\n",
       "14. 8700\n",
       "15. 8835\n",
       "16. 8960\n",
       "\n",
       "\n"
      ],
      "text/plain": [
       " [1] 6035 6300 6555 6800 7035 7260 7475 7680 7875 8060 8235 8400 8555 8700 8835\n",
       "[16] 8960"
      ]
     },
     "metadata": {},
     "output_type": "display_data"
    },
    {
     "data": {
      "text/html": [
       "16"
      ],
      "text/latex": [
       "16"
      ],
      "text/markdown": [
       "16"
      ],
      "text/plain": [
       "[1] 16"
      ]
     },
     "metadata": {},
     "output_type": "display_data"
    }
   ],
   "source": [
    "f <- NULL\n",
    "for (i in 1: length(d)){if(d[i] >= 6000){f <- c(f, d[i])}}\n",
    "f\n",
    "\n",
    "length(f)"
   ]
  },
  {
   "cell_type": "markdown",
   "metadata": {},
   "source": [
    "- Compute the following statistics of d):\n",
    "- f)Sum\n"
   ]
  },
  {
   "cell_type": "code",
   "execution_count": 7,
   "metadata": {},
   "outputs": [
    {
     "data": {
      "text/html": [
       "175120"
      ],
      "text/latex": [
       "175120"
      ],
      "text/markdown": [
       "175120"
      ],
      "text/plain": [
       "[1] 175120"
      ]
     },
     "metadata": {},
     "output_type": "display_data"
    }
   ],
   "source": [
    "sum(d)"
   ]
  },
  {
   "cell_type": "markdown",
   "metadata": {},
   "source": [
    "- g)Median"
   ]
  },
  {
   "cell_type": "code",
   "execution_count": 8,
   "metadata": {},
   "outputs": [
    {
     "data": {
      "text/html": [
       "5472.5"
      ],
      "text/latex": [
       "5472.5"
      ],
      "text/markdown": [
       "5472.5"
      ],
      "text/plain": [
       "[1] 5472.5"
      ]
     },
     "metadata": {},
     "output_type": "display_data"
    }
   ],
   "source": [
    "mean(d)"
   ]
  },
  {
   "cell_type": "markdown",
   "metadata": {},
   "source": [
    "- h)Standard deviation"
   ]
  },
  {
   "cell_type": "code",
   "execution_count": 9,
   "metadata": {},
   "outputs": [
    {
     "data": {
      "text/html": [
       "2608.56282270525"
      ],
      "text/latex": [
       "2608.56282270525"
      ],
      "text/markdown": [
       "2608.56282270525"
      ],
      "text/plain": [
       "[1] 2608.563"
      ]
     },
     "metadata": {},
     "output_type": "display_data"
    }
   ],
   "source": [
    "sd(d)"
   ]
  },
  {
   "cell_type": "markdown",
   "metadata": {},
   "source": [
    "#Problem 1 End"
   ]
  }
 ],
 "metadata": {
  "kernelspec": {
   "display_name": "R",
   "language": "R",
   "name": "ir"
  },
  "language_info": {
   "codemirror_mode": "r",
   "file_extension": ".r",
   "mimetype": "text/x-r-source",
   "name": "R",
   "pygments_lexer": "r",
   "version": "3.4.2"
  }
 },
 "nbformat": 4,
 "nbformat_minor": 2
}
