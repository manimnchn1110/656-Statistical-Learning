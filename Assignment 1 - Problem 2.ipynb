{
 "cells": [
  {
   "cell_type": "markdown",
   "metadata": {},
   "source": [
    "Problem 2(Explore Python)\n",
    "- Import pandas and read data"
   ]
  },
  {
   "cell_type": "code",
   "execution_count": 1,
   "metadata": {},
   "outputs": [
    {
     "data": {
      "text/html": [
       "<div>\n",
       "<style scoped>\n",
       "    .dataframe tbody tr th:only-of-type {\n",
       "        vertical-align: middle;\n",
       "    }\n",
       "\n",
       "    .dataframe tbody tr th {\n",
       "        vertical-align: top;\n",
       "    }\n",
       "\n",
       "    .dataframe thead th {\n",
       "        text-align: right;\n",
       "    }\n",
       "</style>\n",
       "<table border=\"1\" class=\"dataframe\">\n",
       "  <thead>\n",
       "    <tr style=\"text-align: right;\">\n",
       "      <th></th>\n",
       "      <th>Annual income</th>\n",
       "      <th>Sex</th>\n",
       "      <th>Marital Status</th>\n",
       "      <th>Age</th>\n",
       "      <th>Education</th>\n",
       "      <th>Occupation</th>\n",
       "      <th>How long have you lived in the SF/O/SJ area</th>\n",
       "      <th>Dual Incomes</th>\n",
       "      <th>Persons in your household</th>\n",
       "      <th>Persons in household under 18</th>\n",
       "      <th>Householder Status</th>\n",
       "      <th>Type of Home</th>\n",
       "      <th>Ethnic Classification</th>\n",
       "      <th>language spoken most often</th>\n",
       "    </tr>\n",
       "  </thead>\n",
       "  <tbody>\n",
       "    <tr>\n",
       "      <th>0</th>\n",
       "      <td>9</td>\n",
       "      <td>2</td>\n",
       "      <td>1.0</td>\n",
       "      <td>5</td>\n",
       "      <td>4.0</td>\n",
       "      <td>5.0</td>\n",
       "      <td>5.0</td>\n",
       "      <td>3</td>\n",
       "      <td>3.0</td>\n",
       "      <td>0</td>\n",
       "      <td>1.0</td>\n",
       "      <td>1.0</td>\n",
       "      <td>7.0</td>\n",
       "      <td>NaN</td>\n",
       "    </tr>\n",
       "    <tr>\n",
       "      <th>1</th>\n",
       "      <td>9</td>\n",
       "      <td>1</td>\n",
       "      <td>1.0</td>\n",
       "      <td>5</td>\n",
       "      <td>5.0</td>\n",
       "      <td>5.0</td>\n",
       "      <td>5.0</td>\n",
       "      <td>3</td>\n",
       "      <td>5.0</td>\n",
       "      <td>2</td>\n",
       "      <td>1.0</td>\n",
       "      <td>1.0</td>\n",
       "      <td>7.0</td>\n",
       "      <td>1.0</td>\n",
       "    </tr>\n",
       "    <tr>\n",
       "      <th>2</th>\n",
       "      <td>9</td>\n",
       "      <td>2</td>\n",
       "      <td>1.0</td>\n",
       "      <td>3</td>\n",
       "      <td>5.0</td>\n",
       "      <td>1.0</td>\n",
       "      <td>5.0</td>\n",
       "      <td>2</td>\n",
       "      <td>3.0</td>\n",
       "      <td>1</td>\n",
       "      <td>2.0</td>\n",
       "      <td>3.0</td>\n",
       "      <td>7.0</td>\n",
       "      <td>1.0</td>\n",
       "    </tr>\n",
       "    <tr>\n",
       "      <th>3</th>\n",
       "      <td>1</td>\n",
       "      <td>2</td>\n",
       "      <td>5.0</td>\n",
       "      <td>1</td>\n",
       "      <td>2.0</td>\n",
       "      <td>6.0</td>\n",
       "      <td>5.0</td>\n",
       "      <td>1</td>\n",
       "      <td>4.0</td>\n",
       "      <td>2</td>\n",
       "      <td>3.0</td>\n",
       "      <td>1.0</td>\n",
       "      <td>7.0</td>\n",
       "      <td>1.0</td>\n",
       "    </tr>\n",
       "    <tr>\n",
       "      <th>4</th>\n",
       "      <td>1</td>\n",
       "      <td>2</td>\n",
       "      <td>5.0</td>\n",
       "      <td>1</td>\n",
       "      <td>2.0</td>\n",
       "      <td>6.0</td>\n",
       "      <td>3.0</td>\n",
       "      <td>1</td>\n",
       "      <td>4.0</td>\n",
       "      <td>2</td>\n",
       "      <td>3.0</td>\n",
       "      <td>1.0</td>\n",
       "      <td>7.0</td>\n",
       "      <td>1.0</td>\n",
       "    </tr>\n",
       "  </tbody>\n",
       "</table>\n",
       "</div>"
      ],
      "text/plain": [
       "   Annual income  Sex  Marital Status  Age  Education  Occupation  \\\n",
       "0              9    2             1.0    5        4.0         5.0   \n",
       "1              9    1             1.0    5        5.0         5.0   \n",
       "2              9    2             1.0    3        5.0         1.0   \n",
       "3              1    2             5.0    1        2.0         6.0   \n",
       "4              1    2             5.0    1        2.0         6.0   \n",
       "\n",
       "   How long have you lived in the SF/O/SJ area  Dual Incomes  \\\n",
       "0                                          5.0             3   \n",
       "1                                          5.0             3   \n",
       "2                                          5.0             2   \n",
       "3                                          5.0             1   \n",
       "4                                          3.0             1   \n",
       "\n",
       "   Persons in your household  Persons in household under 18  \\\n",
       "0                        3.0                              0   \n",
       "1                        5.0                              2   \n",
       "2                        3.0                              1   \n",
       "3                        4.0                              2   \n",
       "4                        4.0                              2   \n",
       "\n",
       "   Householder Status  Type of Home  Ethnic Classification  \\\n",
       "0                 1.0           1.0                    7.0   \n",
       "1                 1.0           1.0                    7.0   \n",
       "2                 2.0           3.0                    7.0   \n",
       "3                 3.0           1.0                    7.0   \n",
       "4                 3.0           1.0                    7.0   \n",
       "\n",
       "   language spoken most often  \n",
       "0                         NaN  \n",
       "1                         1.0  \n",
       "2                         1.0  \n",
       "3                         1.0  \n",
       "4                         1.0  "
      ]
     },
     "execution_count": 1,
     "metadata": {},
     "output_type": "execute_result"
    }
   ],
   "source": [
    "import pandas as pd\n",
    "import numpy as np\n",
    "Column_name = ['Annual income', \n",
    "               'Sex', \n",
    "               'Marital Status', \n",
    "               'Age',\n",
    "               'Education', \n",
    "               'Occupation', \n",
    "               'How long have you lived in the SF/O/SJ area', \n",
    "               'Dual Incomes', \n",
    "               'Persons in your household', \n",
    "               'Persons in household under 18', \n",
    "               'Householder Status', \n",
    "               'Type of Home', \n",
    "               'Ethnic Classification',\n",
    "               'language spoken most often']\n",
    "data = pd.DataFrame(pd.read_table('income1.data',header=None, delim_whitespace=True, names = Column_name))\n",
    "data.head()"
   ]
  },
  {
   "cell_type": "markdown",
   "metadata": {},
   "source": [
    "- a)Indicate the number of lines in the file."
   ]
  },
  {
   "cell_type": "code",
   "execution_count": 2,
   "metadata": {},
   "outputs": [
    {
     "data": {
      "text/plain": [
       "8993"
      ]
     },
     "execution_count": 2,
     "metadata": {},
     "output_type": "execute_result"
    }
   ],
   "source": [
    "len(data)"
   ]
  },
  {
   "cell_type": "markdown",
   "metadata": {},
   "source": [
    "- b) Indicate the number of lines in the file after eliminating those lines that have fields\n",
    "characterized by unavailable (NA) data."
   ]
  },
  {
   "cell_type": "code",
   "execution_count": 3,
   "metadata": {},
   "outputs": [
    {
     "data": {
      "text/plain": [
       "6876"
      ]
     },
     "execution_count": 3,
     "metadata": {},
     "output_type": "execute_result"
    }
   ],
   "source": [
    "data = data.dropna(axis=0,how='any')\n",
    "len(data)"
   ]
  },
  {
   "cell_type": "markdown",
   "metadata": {},
   "source": [
    "- c) Indicate the most common education level (the fifth column corresponds to education\n",
    "level)."
   ]
  },
  {
   "cell_type": "code",
   "execution_count": 4,
   "metadata": {},
   "outputs": [
    {
     "name": "stdout",
     "output_type": "stream",
     "text": [
      "1 to 3 years of college    2407\n",
      "Graduated high school      1479\n",
      "College graduate           1207\n",
      "Grad Study                  820\n",
      "Grades 9 to 11              787\n",
      "Grade 8 or less             176\n",
      "Name: Education, dtype: int64\n"
     ]
    }
   ],
   "source": [
    "most_common_edu_lev = data['Education'].replace([1,2,3,4,5,6], ['Grade 8 or less', \n",
    "                                                                'Grades 9 to 11', \n",
    "                                                                'Graduated high school', \n",
    "                                                                '1 to 3 years of college',\n",
    "                                                                'College graduate', \n",
    "                                                                'Grad Study'])\n",
    "most_common_edu_lev = most_common_edu_lev.value_counts()\n",
    "print(most_common_edu_lev)"
   ]
  },
  {
   "cell_type": "markdown",
   "metadata": {},
   "source": [
    "**Answer: The most common education level is 4 which represent 1 to 3 years of college level.**"
   ]
  },
  {
   "cell_type": "markdown",
   "metadata": {},
   "source": [
    "- d) Indicate the level of income for households with some graduate school.\n",
    "    - Graduate study - Education = 6\n",
    "    - Annual income of household = 'Annual income'"
   ]
  },
  {
   "cell_type": "code",
   "execution_count": 5,
   "metadata": {},
   "outputs": [
    {
     "name": "stdout",
     "output_type": "stream",
     "text": [
      "$75,000 or more       245\n",
      "$50,000 to $74,999    189\n",
      "$40,000 to $49,999    121\n",
      "$30,000 to $39,999     95\n",
      "$25,000 to $29,999     40\n",
      "$20,000 to $24,999     40\n",
      "$15,000 to $19,999     33\n",
      "Less than $10,000      29\n",
      "$10,000 to $14,999     28\n",
      "Name: Annual income, dtype: int64\n"
     ]
    }
   ],
   "source": [
    "Income_education = data.loc[data[\"Education\"] == 6.0,\n",
    "                            ['Annual income', \n",
    "                             'Education']].sort_values(['Annual income'], \n",
    "                                                       ascending=False)\n",
    "Income_education['Annual income'] = Income_education['Annual income'].replace([1,2,3,4,5,6,7,8,9],\n",
    "                                                                              ['Less than $10,000', \n",
    "                                                                               '$10,000 to $14,999', \n",
    "                                                                               '$15,000 to $19,999', \n",
    "                                                                               '$20,000 to $24,999', \n",
    "                                                                               '$25,000 to $29,999', \n",
    "                                                                               '$30,000 to $39,999', \n",
    "                                                                               '$40,000 to $49,999', \n",
    "                                                                               '$50,000 to $74,999', \n",
    "                                                                               '$75,000 or more'])\n",
    "Income_education\n",
    "Level_income_graduate = Income_education['Annual income'].value_counts()\n",
    "print(Level_income_graduate)"
   ]
  },
  {
   "cell_type": "markdown",
   "metadata": {},
   "source": [
    "#Problem 2 End"
   ]
  }
 ],
 "metadata": {
  "kernelspec": {
   "display_name": "Python 3",
   "language": "python",
   "name": "python3"
  },
  "language_info": {
   "codemirror_mode": {
    "name": "ipython",
    "version": 3
   },
   "file_extension": ".py",
   "mimetype": "text/x-python",
   "name": "python",
   "nbconvert_exporter": "python",
   "pygments_lexer": "ipython3",
   "version": "3.6.3"
  }
 },
 "nbformat": 4,
 "nbformat_minor": 2
}
