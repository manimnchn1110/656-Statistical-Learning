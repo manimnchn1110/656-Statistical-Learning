{
 "cells": [
  {
   "cell_type": "markdown",
   "metadata": {},
   "source": [
    "Problem 3(LDA, QDA, KNN)  \n",
    "  \n",
    "This question should be answered using the Weekly data set, which is part of the ISLR package in R. The file have been included in the assignment as Weekly.csv. It contains 1, 089 weekly returns for 21 years, from the beginning of 1990 to the end of 2010."
   ]
  },
  {
   "cell_type": "code",
   "execution_count": 1,
   "metadata": {},
   "outputs": [],
   "source": [
    "#install.packages('ISLR')\n",
    "#install.packages('aod')\n",
    "#install.packages('ggplot2')\n",
    "#install.packages('MASS')\n",
    "#install.packages('class')"
   ]
  },
  {
   "cell_type": "code",
   "execution_count": 2,
   "metadata": {},
   "outputs": [],
   "source": [
    "library(ISLR)\n",
    "library(aod)\n",
    "library(ggplot2)\n",
    "library(MASS)\n",
    "library(class)"
   ]
  },
  {
   "cell_type": "code",
   "execution_count": 3,
   "metadata": {},
   "outputs": [
    {
     "data": {
      "text/html": [
       "<table>\n",
       "<thead><tr><th scope=col>Year</th><th scope=col>Lag1</th><th scope=col>Lag2</th><th scope=col>Lag3</th><th scope=col>Lag4</th><th scope=col>Lag5</th><th scope=col>Volume</th><th scope=col>Today</th><th scope=col>Direction</th></tr></thead>\n",
       "<tbody>\n",
       "\t<tr><td>1990     </td><td> 0.816   </td><td> 1.572   </td><td>-3.936   </td><td>-0.229   </td><td>-3.484   </td><td>0.1549760</td><td>-0.270   </td><td>Down     </td></tr>\n",
       "\t<tr><td>1990     </td><td>-0.270   </td><td> 0.816   </td><td> 1.572   </td><td>-3.936   </td><td>-0.229   </td><td>0.1485740</td><td>-2.576   </td><td>Down     </td></tr>\n",
       "\t<tr><td>1990     </td><td>-2.576   </td><td>-0.270   </td><td> 0.816   </td><td> 1.572   </td><td>-3.936   </td><td>0.1598375</td><td> 3.514   </td><td>Up       </td></tr>\n",
       "\t<tr><td>1990     </td><td> 3.514   </td><td>-2.576   </td><td>-0.270   </td><td> 0.816   </td><td> 1.572   </td><td>0.1616300</td><td> 0.712   </td><td>Up       </td></tr>\n",
       "\t<tr><td>1990     </td><td> 0.712   </td><td> 3.514   </td><td>-2.576   </td><td>-0.270   </td><td> 0.816   </td><td>0.1537280</td><td> 1.178   </td><td>Up       </td></tr>\n",
       "\t<tr><td>1990     </td><td> 1.178   </td><td> 0.712   </td><td> 3.514   </td><td>-2.576   </td><td>-0.270   </td><td>0.1544440</td><td>-1.372   </td><td>Down     </td></tr>\n",
       "</tbody>\n",
       "</table>\n"
      ],
      "text/latex": [
       "\\begin{tabular}{r|lllllllll}\n",
       " Year & Lag1 & Lag2 & Lag3 & Lag4 & Lag5 & Volume & Today & Direction\\\\\n",
       "\\hline\n",
       "\t 1990      &  0.816    &  1.572    & -3.936    & -0.229    & -3.484    & 0.1549760 & -0.270    & Down     \\\\\n",
       "\t 1990      & -0.270    &  0.816    &  1.572    & -3.936    & -0.229    & 0.1485740 & -2.576    & Down     \\\\\n",
       "\t 1990      & -2.576    & -0.270    &  0.816    &  1.572    & -3.936    & 0.1598375 &  3.514    & Up       \\\\\n",
       "\t 1990      &  3.514    & -2.576    & -0.270    &  0.816    &  1.572    & 0.1616300 &  0.712    & Up       \\\\\n",
       "\t 1990      &  0.712    &  3.514    & -2.576    & -0.270    &  0.816    & 0.1537280 &  1.178    & Up       \\\\\n",
       "\t 1990      &  1.178    &  0.712    &  3.514    & -2.576    & -0.270    & 0.1544440 & -1.372    & Down     \\\\\n",
       "\\end{tabular}\n"
      ],
      "text/markdown": [
       "\n",
       "Year | Lag1 | Lag2 | Lag3 | Lag4 | Lag5 | Volume | Today | Direction | \n",
       "|---|---|---|---|---|---|\n",
       "| 1990      |  0.816    |  1.572    | -3.936    | -0.229    | -3.484    | 0.1549760 | -0.270    | Down      | \n",
       "| 1990      | -0.270    |  0.816    |  1.572    | -3.936    | -0.229    | 0.1485740 | -2.576    | Down      | \n",
       "| 1990      | -2.576    | -0.270    |  0.816    |  1.572    | -3.936    | 0.1598375 |  3.514    | Up        | \n",
       "| 1990      |  3.514    | -2.576    | -0.270    |  0.816    |  1.572    | 0.1616300 |  0.712    | Up        | \n",
       "| 1990      |  0.712    |  3.514    | -2.576    | -0.270    |  0.816    | 0.1537280 |  1.178    | Up        | \n",
       "| 1990      |  1.178    |  0.712    |  3.514    | -2.576    | -0.270    | 0.1544440 | -1.372    | Down      | \n",
       "\n",
       "\n"
      ],
      "text/plain": [
       "  Year Lag1   Lag2   Lag3   Lag4   Lag5   Volume    Today  Direction\n",
       "1 1990  0.816  1.572 -3.936 -0.229 -3.484 0.1549760 -0.270 Down     \n",
       "2 1990 -0.270  0.816  1.572 -3.936 -0.229 0.1485740 -2.576 Down     \n",
       "3 1990 -2.576 -0.270  0.816  1.572 -3.936 0.1598375  3.514 Up       \n",
       "4 1990  3.514 -2.576 -0.270  0.816  1.572 0.1616300  0.712 Up       \n",
       "5 1990  0.712  3.514 -2.576 -0.270  0.816 0.1537280  1.178 Up       \n",
       "6 1990  1.178  0.712  3.514 -2.576 -0.270 0.1544440 -1.372 Down     "
      ]
     },
     "metadata": {},
     "output_type": "display_data"
    }
   ],
   "source": [
    "head(Weekly)"
   ]
  },
  {
   "cell_type": "markdown",
   "metadata": {},
   "source": [
    "a) Produce some numerical and graphical summaries of the Weekly data. Do there appear\n",
    "to be any patterns?  "
   ]
  },
  {
   "cell_type": "code",
   "execution_count": 4,
   "metadata": {},
   "outputs": [
    {
     "data": {
      "text/plain": [
       "      Year           Lag1               Lag2               Lag3         \n",
       " Min.   :1990   Min.   :-18.1950   Min.   :-18.1950   Min.   :-18.1950  \n",
       " 1st Qu.:1995   1st Qu.: -1.1540   1st Qu.: -1.1540   1st Qu.: -1.1580  \n",
       " Median :2000   Median :  0.2410   Median :  0.2410   Median :  0.2410  \n",
       " Mean   :2000   Mean   :  0.1506   Mean   :  0.1511   Mean   :  0.1472  \n",
       " 3rd Qu.:2005   3rd Qu.:  1.4050   3rd Qu.:  1.4090   3rd Qu.:  1.4090  \n",
       " Max.   :2010   Max.   : 12.0260   Max.   : 12.0260   Max.   : 12.0260  \n",
       "      Lag4               Lag5              Volume            Today         \n",
       " Min.   :-18.1950   Min.   :-18.1950   Min.   :0.08747   Min.   :-18.1950  \n",
       " 1st Qu.: -1.1580   1st Qu.: -1.1660   1st Qu.:0.33202   1st Qu.: -1.1540  \n",
       " Median :  0.2380   Median :  0.2340   Median :1.00268   Median :  0.2410  \n",
       " Mean   :  0.1458   Mean   :  0.1399   Mean   :1.57462   Mean   :  0.1499  \n",
       " 3rd Qu.:  1.4090   3rd Qu.:  1.4050   3rd Qu.:2.05373   3rd Qu.:  1.4050  \n",
       " Max.   : 12.0260   Max.   : 12.0260   Max.   :9.32821   Max.   : 12.0260  \n",
       " Direction \n",
       " Down:484  \n",
       " Up  :605  \n",
       "           \n",
       "           \n",
       "           \n",
       "           "
      ]
     },
     "metadata": {},
     "output_type": "display_data"
    }
   ],
   "source": [
    "summary(Weekly)"
   ]
  },
  {
   "cell_type": "markdown",
   "metadata": {},
   "source": [
    "**Answer: The differences among lag1, lag2, lag3, lag4 and lag5 seems slightly.  \n",
    "Min and max for both of them are same.  \n",
    "Mean for them also seems similar.  **"
   ]
  },
  {
   "cell_type": "markdown",
   "metadata": {},
   "source": [
    "b) Use the full data set to perform a logistic regression with Direction as the response and the five lag variables plus Volume as predictors.  \n",
    "Use the summary function to print the results.   \n",
    "Do any of the predictors appear to be statistically significant? If so, which ones?"
   ]
  },
  {
   "cell_type": "code",
   "execution_count": 5,
   "metadata": {},
   "outputs": [
    {
     "data": {
      "text/plain": [
       "\n",
       "Call:\n",
       "glm(formula = Direction ~ Lag1 + Lag2 + Lag3 + Lag4 + Lag5 + \n",
       "    Volume, family = binomial(link = \"logit\"), data = Weekly)\n",
       "\n",
       "Deviance Residuals: \n",
       "    Min       1Q   Median       3Q      Max  \n",
       "-1.6949  -1.2565   0.9913   1.0849   1.4579  \n",
       "\n",
       "Coefficients:\n",
       "            Estimate Std. Error z value Pr(>|z|)   \n",
       "(Intercept)  0.26686    0.08593   3.106   0.0019 **\n",
       "Lag1        -0.04127    0.02641  -1.563   0.1181   \n",
       "Lag2         0.05844    0.02686   2.175   0.0296 * \n",
       "Lag3        -0.01606    0.02666  -0.602   0.5469   \n",
       "Lag4        -0.02779    0.02646  -1.050   0.2937   \n",
       "Lag5        -0.01447    0.02638  -0.549   0.5833   \n",
       "Volume      -0.02274    0.03690  -0.616   0.5377   \n",
       "---\n",
       "Signif. codes:  0 ‘***’ 0.001 ‘**’ 0.01 ‘*’ 0.05 ‘.’ 0.1 ‘ ’ 1\n",
       "\n",
       "(Dispersion parameter for binomial family taken to be 1)\n",
       "\n",
       "    Null deviance: 1496.2  on 1088  degrees of freedom\n",
       "Residual deviance: 1486.4  on 1082  degrees of freedom\n",
       "AIC: 1500.4\n",
       "\n",
       "Number of Fisher Scoring iterations: 4\n"
      ]
     },
     "metadata": {},
     "output_type": "display_data"
    }
   ],
   "source": [
    "glm.fit = glm(Direction~Lag1+Lag2+Lag3+Lag4+Lag5+Volume, data = Weekly, family=binomial(link = 'logit'))\n",
    "summary(glm.fit)"
   ]
  },
  {
   "cell_type": "markdown",
   "metadata": {},
   "source": [
    "**Answer: Lag1 and Lag2 are the two predictors which will be statistically significant.**"
   ]
  },
  {
   "cell_type": "markdown",
   "metadata": {
    "collapsed": true
   },
   "source": [
    "c) Compute the confusion matrix and overall fraction of correct predictions. Explain what the confusion matrix is telling you about the types of mistakes made by logistic regression."
   ]
  },
  {
   "cell_type": "code",
   "execution_count": 6,
   "metadata": {},
   "outputs": [
    {
     "data": {
      "text/html": [
       "<table>\n",
       "<thead><tr><th></th><th scope=col>Up</th></tr></thead>\n",
       "<tbody>\n",
       "\t<tr><th scope=row>Down</th><td>0</td></tr>\n",
       "\t<tr><th scope=row>Up</th><td>1</td></tr>\n",
       "</tbody>\n",
       "</table>\n"
      ],
      "text/latex": [
       "\\begin{tabular}{r|l}\n",
       "  & Up\\\\\n",
       "\\hline\n",
       "\tDown & 0\\\\\n",
       "\tUp & 1\\\\\n",
       "\\end{tabular}\n"
      ],
      "text/markdown": [
       "\n",
       "| <!--/--> | Up | \n",
       "|---|---|\n",
       "| Down | 0 | \n",
       "| Up | 1 | \n",
       "\n",
       "\n"
      ],
      "text/plain": [
       "     Up\n",
       "Down 0 \n",
       "Up   1 "
      ]
     },
     "metadata": {},
     "output_type": "display_data"
    },
    {
     "data": {
      "text/plain": [
       "        \n",
       "glm.pred Down  Up\n",
       "    Down   54  48\n",
       "    Up    430 557"
      ]
     },
     "metadata": {},
     "output_type": "display_data"
    }
   ],
   "source": [
    "glm.probs=predict(glm.fit,newdata = Weekly, type=\"response\")\n",
    "glm.pred=rep(\"Down\",dim(Weekly)[1])\n",
    "glm.pred[glm.probs>0.5]=\"Up\"\n",
    "prediction.glm=cbind(Weekly,glm.pred)\n",
    "colnames(prediction.glm)[10]=\"Direction prediction\"\n",
    "contrasts(Weekly$Direction)\n",
    "table(glm.pred, Weekly$Direction)"
   ]
  },
  {
   "cell_type": "markdown",
   "metadata": {},
   "source": [
    "**Assume Down - False ('0'); Up - True('1')  \n",
    "TypeI: The model incorrectly predict Up and create 430 errors.  \n",
    "TypeII: The model incorrectly predict Down and create 48 errors.  **"
   ]
  },
  {
   "cell_type": "code",
   "execution_count": 7,
   "metadata": {},
   "outputs": [
    {
     "data": {
      "text/html": [
       "0.561065197428834"
      ],
      "text/latex": [
       "0.561065197428834"
      ],
      "text/markdown": [
       "0.561065197428834"
      ],
      "text/plain": [
       "[1] 0.5610652"
      ]
     },
     "metadata": {},
     "output_type": "display_data"
    },
    {
     "data": {
      "text/html": [
       "0.111570247933884"
      ],
      "text/latex": [
       "0.111570247933884"
      ],
      "text/markdown": [
       "0.111570247933884"
      ],
      "text/plain": [
       "[1] 0.1115702"
      ]
     },
     "metadata": {},
     "output_type": "display_data"
    },
    {
     "data": {
      "text/html": [
       "0.920661157024793"
      ],
      "text/latex": [
       "0.920661157024793"
      ],
      "text/markdown": [
       "0.920661157024793"
      ],
      "text/plain": [
       "[1] 0.9206612"
      ]
     },
     "metadata": {},
     "output_type": "display_data"
    }
   ],
   "source": [
    "mean(glm.pred == Weekly$Direction)\n",
    "54/(54+430)\n",
    "557/(557+48)"
   ]
  },
  {
   "cell_type": "markdown",
   "metadata": {},
   "source": [
    "**Accuracy: 0.5610  \n",
    "Sensitivity: 0.1115  \n",
    "Specificity: 0.9206  **"
   ]
  },
  {
   "cell_type": "markdown",
   "metadata": {},
   "source": [
    "d) Now fit the logistic regression model using a training data period from 1990 to 2008, with Lag2 as the only predictor. Compute the confusion matrix and the overall fraction of correct predictions for the held out data (that is, the data from 2009 and 2010)."
   ]
  },
  {
   "cell_type": "code",
   "execution_count": 8,
   "metadata": {},
   "outputs": [],
   "source": [
    "training=Weekly[Weekly$Year <= 2008,]\n",
    "test=Weekly[Weekly$Year > 2008, ]"
   ]
  },
  {
   "cell_type": "code",
   "execution_count": 9,
   "metadata": {
    "scrolled": true
   },
   "outputs": [
    {
     "data": {
      "text/plain": [
       "        \n",
       "glm.pred Down  Up\n",
       "    Down   61  73\n",
       "    Up    380 471"
      ]
     },
     "metadata": {},
     "output_type": "display_data"
    }
   ],
   "source": [
    "glm.fit=glm(Direction~Lag2,data=training,family=binomial(link = 'logit'))\n",
    "glm.probs=predict(glm.fit,newdata = test, type=\"response\")\n",
    "glm.pred=rep(\"Down\",dim(training)[1])\n",
    "glm.pred[glm.probs>0.5]=\"Up\"\n",
    "prediction.glm=cbind(training,glm.pred)\n",
    "colnames(prediction.glm)[10]=\"Direction prediction\"\n",
    "table(glm.pred, training$Direction)"
   ]
  },
  {
   "cell_type": "code",
   "execution_count": 10,
   "metadata": {},
   "outputs": [
    {
     "data": {
      "text/html": [
       "0.54010152284264"
      ],
      "text/latex": [
       "0.54010152284264"
      ],
      "text/markdown": [
       "0.54010152284264"
      ],
      "text/plain": [
       "[1] 0.5401015"
      ]
     },
     "metadata": {},
     "output_type": "display_data"
    },
    {
     "data": {
      "text/html": [
       "0.111570247933884"
      ],
      "text/latex": [
       "0.111570247933884"
      ],
      "text/markdown": [
       "0.111570247933884"
      ],
      "text/plain": [
       "[1] 0.1115702"
      ]
     },
     "metadata": {},
     "output_type": "display_data"
    },
    {
     "data": {
      "text/html": [
       "0.920661157024793"
      ],
      "text/latex": [
       "0.920661157024793"
      ],
      "text/markdown": [
       "0.920661157024793"
      ],
      "text/plain": [
       "[1] 0.9206612"
      ]
     },
     "metadata": {},
     "output_type": "display_data"
    }
   ],
   "source": [
    "mean(glm.pred == training$Direction)\n",
    "54/(54+430)\n",
    "557/(557+48)"
   ]
  },
  {
   "cell_type": "markdown",
   "metadata": {},
   "source": [
    "**Accuracy: 0.5401  \n",
    "Sensitivity: 0.1115    \n",
    "Specificity: 0.9206  **"
   ]
  },
  {
   "cell_type": "markdown",
   "metadata": {},
   "source": [
    "e) Repeat d) using LDA."
   ]
  },
  {
   "cell_type": "code",
   "execution_count": 11,
   "metadata": {},
   "outputs": [
    {
     "data": {
      "text/html": [
       "<table>\n",
       "<thead><tr><th></th><th scope=col>Year</th><th scope=col>Lag1</th><th scope=col>Lag2</th><th scope=col>Lag3</th><th scope=col>Lag4</th><th scope=col>Lag5</th><th scope=col>Volume</th><th scope=col>Today</th><th scope=col>Direction</th><th scope=col>Direction prediction</th></tr></thead>\n",
       "<tbody>\n",
       "\t<tr><th scope=row>986</th><td>2009    </td><td> 6.760  </td><td>-1.698  </td><td> 0.926  </td><td> 0.418  </td><td>-2.251  </td><td>3.793110</td><td>-4.448  </td><td>Down    </td><td>Up      </td></tr>\n",
       "\t<tr><th scope=row>987</th><td>2009    </td><td>-4.448  </td><td> 6.760  </td><td>-1.698  </td><td> 0.926  </td><td> 0.418  </td><td>5.043904</td><td>-4.518  </td><td>Down    </td><td>Up      </td></tr>\n",
       "\t<tr><th scope=row>988</th><td>2009    </td><td>-4.518  </td><td>-4.448  </td><td> 6.760  </td><td>-1.698  </td><td> 0.926  </td><td>5.948758</td><td>-2.137  </td><td>Down    </td><td>Down    </td></tr>\n",
       "\t<tr><th scope=row>989</th><td>2009    </td><td>-2.137  </td><td>-4.518  </td><td>-4.448  </td><td> 6.760  </td><td>-1.698  </td><td>6.129763</td><td>-0.730  </td><td>Down    </td><td>Down    </td></tr>\n",
       "\t<tr><th scope=row>990</th><td>2009    </td><td>-0.730  </td><td>-2.137  </td><td>-4.518  </td><td>-4.448  </td><td> 6.760  </td><td>5.602004</td><td> 5.173  </td><td>Up      </td><td>Up      </td></tr>\n",
       "\t<tr><th scope=row>991</th><td>2009    </td><td> 5.173  </td><td>-0.730  </td><td>-2.137  </td><td>-4.518  </td><td>-4.448  </td><td>6.217632</td><td>-4.808  </td><td>Down    </td><td>Up      </td></tr>\n",
       "</tbody>\n",
       "</table>\n"
      ],
      "text/latex": [
       "\\begin{tabular}{r|llllllllll}\n",
       "  & Year & Lag1 & Lag2 & Lag3 & Lag4 & Lag5 & Volume & Today & Direction & Direction prediction\\\\\n",
       "\\hline\n",
       "\t986 & 2009     &  6.760   & -1.698   &  0.926   &  0.418   & -2.251   & 3.793110 & -4.448   & Down     & Up      \\\\\n",
       "\t987 & 2009     & -4.448   &  6.760   & -1.698   &  0.926   &  0.418   & 5.043904 & -4.518   & Down     & Up      \\\\\n",
       "\t988 & 2009     & -4.518   & -4.448   &  6.760   & -1.698   &  0.926   & 5.948758 & -2.137   & Down     & Down    \\\\\n",
       "\t989 & 2009     & -2.137   & -4.518   & -4.448   &  6.760   & -1.698   & 6.129763 & -0.730   & Down     & Down    \\\\\n",
       "\t990 & 2009     & -0.730   & -2.137   & -4.518   & -4.448   &  6.760   & 5.602004 &  5.173   & Up       & Up      \\\\\n",
       "\t991 & 2009     &  5.173   & -0.730   & -2.137   & -4.518   & -4.448   & 6.217632 & -4.808   & Down     & Up      \\\\\n",
       "\\end{tabular}\n"
      ],
      "text/markdown": [
       "\n",
       "| <!--/--> | Year | Lag1 | Lag2 | Lag3 | Lag4 | Lag5 | Volume | Today | Direction | Direction prediction | \n",
       "|---|---|---|---|---|---|\n",
       "| 986 | 2009     |  6.760   | -1.698   |  0.926   |  0.418   | -2.251   | 3.793110 | -4.448   | Down     | Up       | \n",
       "| 987 | 2009     | -4.448   |  6.760   | -1.698   |  0.926   |  0.418   | 5.043904 | -4.518   | Down     | Up       | \n",
       "| 988 | 2009     | -4.518   | -4.448   |  6.760   | -1.698   |  0.926   | 5.948758 | -2.137   | Down     | Down     | \n",
       "| 989 | 2009     | -2.137   | -4.518   | -4.448   |  6.760   | -1.698   | 6.129763 | -0.730   | Down     | Down     | \n",
       "| 990 | 2009     | -0.730   | -2.137   | -4.518   | -4.448   |  6.760   | 5.602004 |  5.173   | Up       | Up       | \n",
       "| 991 | 2009     |  5.173   | -0.730   | -2.137   | -4.518   | -4.448   | 6.217632 | -4.808   | Down     | Up       | \n",
       "\n",
       "\n"
      ],
      "text/plain": [
       "    Year Lag1   Lag2   Lag3   Lag4   Lag5   Volume   Today  Direction\n",
       "986 2009  6.760 -1.698  0.926  0.418 -2.251 3.793110 -4.448 Down     \n",
       "987 2009 -4.448  6.760 -1.698  0.926  0.418 5.043904 -4.518 Down     \n",
       "988 2009 -4.518 -4.448  6.760 -1.698  0.926 5.948758 -2.137 Down     \n",
       "989 2009 -2.137 -4.518 -4.448  6.760 -1.698 6.129763 -0.730 Down     \n",
       "990 2009 -0.730 -2.137 -4.518 -4.448  6.760 5.602004  5.173 Up       \n",
       "991 2009  5.173 -0.730 -2.137 -4.518 -4.448 6.217632 -4.808 Down     \n",
       "    Direction prediction\n",
       "986 Up                  \n",
       "987 Up                  \n",
       "988 Down                \n",
       "989 Down                \n",
       "990 Up                  \n",
       "991 Up                  "
      ]
     },
     "metadata": {},
     "output_type": "display_data"
    },
    {
     "data": {
      "text/plain": [
       "         \n",
       "lda.class Down Up\n",
       "     Down    9  5\n",
       "     Up     34 56"
      ]
     },
     "metadata": {},
     "output_type": "display_data"
    },
    {
     "data": {
      "text/html": [
       "0.625"
      ],
      "text/latex": [
       "0.625"
      ],
      "text/markdown": [
       "0.625"
      ],
      "text/plain": [
       "[1] 0.625"
      ]
     },
     "metadata": {},
     "output_type": "display_data"
    }
   ],
   "source": [
    "lda.fit = lda(Direction~Lag2,data=training)\n",
    "lda.pred = predict(lda.fit, test)\n",
    "lda.class = lda.pred$class\n",
    "prediction.lda=cbind(test, lda.class)\n",
    "colnames(prediction.lda)[10] = \"Direction prediction\"\n",
    "head(prediction.lda)\n",
    "table(lda.class, test$Direction)\n",
    "mean(lda.class == test$Direction)"
   ]
  },
  {
   "cell_type": "markdown",
   "metadata": {},
   "source": [
    "**Accuracy: 0.625 **"
   ]
  },
  {
   "cell_type": "markdown",
   "metadata": {},
   "source": [
    "f) Repeat d) using QDA."
   ]
  },
  {
   "cell_type": "code",
   "execution_count": 12,
   "metadata": {},
   "outputs": [
    {
     "data": {
      "text/html": [
       "<table>\n",
       "<thead><tr><th></th><th scope=col>Year</th><th scope=col>Lag1</th><th scope=col>Lag2</th><th scope=col>Lag3</th><th scope=col>Lag4</th><th scope=col>Lag5</th><th scope=col>Volume</th><th scope=col>Today</th><th scope=col>Direction</th><th scope=col>Direction prediction</th></tr></thead>\n",
       "<tbody>\n",
       "\t<tr><th scope=row>986</th><td>2009    </td><td> 6.760  </td><td>-1.698  </td><td> 0.926  </td><td> 0.418  </td><td>-2.251  </td><td>3.793110</td><td>-4.448  </td><td>Down    </td><td>Up      </td></tr>\n",
       "\t<tr><th scope=row>987</th><td>2009    </td><td>-4.448  </td><td> 6.760  </td><td>-1.698  </td><td> 0.926  </td><td> 0.418  </td><td>5.043904</td><td>-4.518  </td><td>Down    </td><td>Up      </td></tr>\n",
       "\t<tr><th scope=row>988</th><td>2009    </td><td>-4.518  </td><td>-4.448  </td><td> 6.760  </td><td>-1.698  </td><td> 0.926  </td><td>5.948758</td><td>-2.137  </td><td>Down    </td><td>Up      </td></tr>\n",
       "\t<tr><th scope=row>989</th><td>2009    </td><td>-2.137  </td><td>-4.518  </td><td>-4.448  </td><td> 6.760  </td><td>-1.698  </td><td>6.129763</td><td>-0.730  </td><td>Down    </td><td>Up      </td></tr>\n",
       "\t<tr><th scope=row>990</th><td>2009    </td><td>-0.730  </td><td>-2.137  </td><td>-4.518  </td><td>-4.448  </td><td> 6.760  </td><td>5.602004</td><td> 5.173  </td><td>Up      </td><td>Up      </td></tr>\n",
       "\t<tr><th scope=row>991</th><td>2009    </td><td> 5.173  </td><td>-0.730  </td><td>-2.137  </td><td>-4.518  </td><td>-4.448  </td><td>6.217632</td><td>-4.808  </td><td>Down    </td><td>Up      </td></tr>\n",
       "</tbody>\n",
       "</table>\n"
      ],
      "text/latex": [
       "\\begin{tabular}{r|llllllllll}\n",
       "  & Year & Lag1 & Lag2 & Lag3 & Lag4 & Lag5 & Volume & Today & Direction & Direction prediction\\\\\n",
       "\\hline\n",
       "\t986 & 2009     &  6.760   & -1.698   &  0.926   &  0.418   & -2.251   & 3.793110 & -4.448   & Down     & Up      \\\\\n",
       "\t987 & 2009     & -4.448   &  6.760   & -1.698   &  0.926   &  0.418   & 5.043904 & -4.518   & Down     & Up      \\\\\n",
       "\t988 & 2009     & -4.518   & -4.448   &  6.760   & -1.698   &  0.926   & 5.948758 & -2.137   & Down     & Up      \\\\\n",
       "\t989 & 2009     & -2.137   & -4.518   & -4.448   &  6.760   & -1.698   & 6.129763 & -0.730   & Down     & Up      \\\\\n",
       "\t990 & 2009     & -0.730   & -2.137   & -4.518   & -4.448   &  6.760   & 5.602004 &  5.173   & Up       & Up      \\\\\n",
       "\t991 & 2009     &  5.173   & -0.730   & -2.137   & -4.518   & -4.448   & 6.217632 & -4.808   & Down     & Up      \\\\\n",
       "\\end{tabular}\n"
      ],
      "text/markdown": [
       "\n",
       "| <!--/--> | Year | Lag1 | Lag2 | Lag3 | Lag4 | Lag5 | Volume | Today | Direction | Direction prediction | \n",
       "|---|---|---|---|---|---|\n",
       "| 986 | 2009     |  6.760   | -1.698   |  0.926   |  0.418   | -2.251   | 3.793110 | -4.448   | Down     | Up       | \n",
       "| 987 | 2009     | -4.448   |  6.760   | -1.698   |  0.926   |  0.418   | 5.043904 | -4.518   | Down     | Up       | \n",
       "| 988 | 2009     | -4.518   | -4.448   |  6.760   | -1.698   |  0.926   | 5.948758 | -2.137   | Down     | Up       | \n",
       "| 989 | 2009     | -2.137   | -4.518   | -4.448   |  6.760   | -1.698   | 6.129763 | -0.730   | Down     | Up       | \n",
       "| 990 | 2009     | -0.730   | -2.137   | -4.518   | -4.448   |  6.760   | 5.602004 |  5.173   | Up       | Up       | \n",
       "| 991 | 2009     |  5.173   | -0.730   | -2.137   | -4.518   | -4.448   | 6.217632 | -4.808   | Down     | Up       | \n",
       "\n",
       "\n"
      ],
      "text/plain": [
       "    Year Lag1   Lag2   Lag3   Lag4   Lag5   Volume   Today  Direction\n",
       "986 2009  6.760 -1.698  0.926  0.418 -2.251 3.793110 -4.448 Down     \n",
       "987 2009 -4.448  6.760 -1.698  0.926  0.418 5.043904 -4.518 Down     \n",
       "988 2009 -4.518 -4.448  6.760 -1.698  0.926 5.948758 -2.137 Down     \n",
       "989 2009 -2.137 -4.518 -4.448  6.760 -1.698 6.129763 -0.730 Down     \n",
       "990 2009 -0.730 -2.137 -4.518 -4.448  6.760 5.602004  5.173 Up       \n",
       "991 2009  5.173 -0.730 -2.137 -4.518 -4.448 6.217632 -4.808 Down     \n",
       "    Direction prediction\n",
       "986 Up                  \n",
       "987 Up                  \n",
       "988 Up                  \n",
       "989 Up                  \n",
       "990 Up                  \n",
       "991 Up                  "
      ]
     },
     "metadata": {},
     "output_type": "display_data"
    },
    {
     "data": {
      "text/plain": [
       "         \n",
       "qda.class Down Up\n",
       "     Down    0  0\n",
       "     Up     43 61"
      ]
     },
     "metadata": {},
     "output_type": "display_data"
    },
    {
     "data": {
      "text/html": [
       "0.586538461538462"
      ],
      "text/latex": [
       "0.586538461538462"
      ],
      "text/markdown": [
       "0.586538461538462"
      ],
      "text/plain": [
       "[1] 0.5865385"
      ]
     },
     "metadata": {},
     "output_type": "display_data"
    }
   ],
   "source": [
    "qda.fit = qda(Direction~Lag2, data = training)\n",
    "qda.pred = predict(qda.fit, test)\n",
    "qda.class = qda.pred$class\n",
    "prediction.qda=cbind(test, qda.class)\n",
    "colnames(prediction.qda)[10] = \"Direction prediction\"\n",
    "head(prediction.qda)\n",
    "table(qda.class, test$Direction)\n",
    "mean(qda.class == test$Direction)"
   ]
  },
  {
   "cell_type": "markdown",
   "metadata": {},
   "source": [
    "**Accuracy = 0.5865**"
   ]
  },
  {
   "cell_type": "markdown",
   "metadata": {},
   "source": [
    "g) Repeat d) using KNN with K = 1."
   ]
  },
  {
   "cell_type": "code",
   "execution_count": 13,
   "metadata": {},
   "outputs": [
    {
     "data": {
      "text/html": [
       "<table>\n",
       "<thead><tr><th></th><th scope=col>Year</th><th scope=col>Lag1</th><th scope=col>Lag2</th><th scope=col>Lag3</th><th scope=col>Lag4</th><th scope=col>Lag5</th><th scope=col>Volume</th><th scope=col>Today</th><th scope=col>Direction</th><th scope=col>Direction prediction</th></tr></thead>\n",
       "<tbody>\n",
       "\t<tr><th scope=row>986</th><td>2009    </td><td> 6.760  </td><td>-1.698  </td><td> 0.926  </td><td> 0.418  </td><td>-2.251  </td><td>3.793110</td><td>-4.448  </td><td>Down    </td><td>Up      </td></tr>\n",
       "\t<tr><th scope=row>987</th><td>2009    </td><td>-4.448  </td><td> 6.760  </td><td>-1.698  </td><td> 0.926  </td><td> 0.418  </td><td>5.043904</td><td>-4.518  </td><td>Down    </td><td>Up      </td></tr>\n",
       "\t<tr><th scope=row>988</th><td>2009    </td><td>-4.518  </td><td>-4.448  </td><td> 6.760  </td><td>-1.698  </td><td> 0.926  </td><td>5.948758</td><td>-2.137  </td><td>Down    </td><td>Down    </td></tr>\n",
       "\t<tr><th scope=row>989</th><td>2009    </td><td>-2.137  </td><td>-4.518  </td><td>-4.448  </td><td> 6.760  </td><td>-1.698  </td><td>6.129763</td><td>-0.730  </td><td>Down    </td><td>Down    </td></tr>\n",
       "\t<tr><th scope=row>990</th><td>2009    </td><td>-0.730  </td><td>-2.137  </td><td>-4.518  </td><td>-4.448  </td><td> 6.760  </td><td>5.602004</td><td> 5.173  </td><td>Up      </td><td>Down    </td></tr>\n",
       "\t<tr><th scope=row>991</th><td>2009    </td><td> 5.173  </td><td>-0.730  </td><td>-2.137  </td><td>-4.518  </td><td>-4.448  </td><td>6.217632</td><td>-4.808  </td><td>Down    </td><td>Up      </td></tr>\n",
       "</tbody>\n",
       "</table>\n"
      ],
      "text/latex": [
       "\\begin{tabular}{r|llllllllll}\n",
       "  & Year & Lag1 & Lag2 & Lag3 & Lag4 & Lag5 & Volume & Today & Direction & Direction prediction\\\\\n",
       "\\hline\n",
       "\t986 & 2009     &  6.760   & -1.698   &  0.926   &  0.418   & -2.251   & 3.793110 & -4.448   & Down     & Up      \\\\\n",
       "\t987 & 2009     & -4.448   &  6.760   & -1.698   &  0.926   &  0.418   & 5.043904 & -4.518   & Down     & Up      \\\\\n",
       "\t988 & 2009     & -4.518   & -4.448   &  6.760   & -1.698   &  0.926   & 5.948758 & -2.137   & Down     & Down    \\\\\n",
       "\t989 & 2009     & -2.137   & -4.518   & -4.448   &  6.760   & -1.698   & 6.129763 & -0.730   & Down     & Down    \\\\\n",
       "\t990 & 2009     & -0.730   & -2.137   & -4.518   & -4.448   &  6.760   & 5.602004 &  5.173   & Up       & Down    \\\\\n",
       "\t991 & 2009     &  5.173   & -0.730   & -2.137   & -4.518   & -4.448   & 6.217632 & -4.808   & Down     & Up      \\\\\n",
       "\\end{tabular}\n"
      ],
      "text/markdown": [
       "\n",
       "| <!--/--> | Year | Lag1 | Lag2 | Lag3 | Lag4 | Lag5 | Volume | Today | Direction | Direction prediction | \n",
       "|---|---|---|---|---|---|\n",
       "| 986 | 2009     |  6.760   | -1.698   |  0.926   |  0.418   | -2.251   | 3.793110 | -4.448   | Down     | Up       | \n",
       "| 987 | 2009     | -4.448   |  6.760   | -1.698   |  0.926   |  0.418   | 5.043904 | -4.518   | Down     | Up       | \n",
       "| 988 | 2009     | -4.518   | -4.448   |  6.760   | -1.698   |  0.926   | 5.948758 | -2.137   | Down     | Down     | \n",
       "| 989 | 2009     | -2.137   | -4.518   | -4.448   |  6.760   | -1.698   | 6.129763 | -0.730   | Down     | Down     | \n",
       "| 990 | 2009     | -0.730   | -2.137   | -4.518   | -4.448   |  6.760   | 5.602004 |  5.173   | Up       | Down     | \n",
       "| 991 | 2009     |  5.173   | -0.730   | -2.137   | -4.518   | -4.448   | 6.217632 | -4.808   | Down     | Up       | \n",
       "\n",
       "\n"
      ],
      "text/plain": [
       "    Year Lag1   Lag2   Lag3   Lag4   Lag5   Volume   Today  Direction\n",
       "986 2009  6.760 -1.698  0.926  0.418 -2.251 3.793110 -4.448 Down     \n",
       "987 2009 -4.448  6.760 -1.698  0.926  0.418 5.043904 -4.518 Down     \n",
       "988 2009 -4.518 -4.448  6.760 -1.698  0.926 5.948758 -2.137 Down     \n",
       "989 2009 -2.137 -4.518 -4.448  6.760 -1.698 6.129763 -0.730 Down     \n",
       "990 2009 -0.730 -2.137 -4.518 -4.448  6.760 5.602004  5.173 Up       \n",
       "991 2009  5.173 -0.730 -2.137 -4.518 -4.448 6.217632 -4.808 Down     \n",
       "    Direction prediction\n",
       "986 Up                  \n",
       "987 Up                  \n",
       "988 Down                \n",
       "989 Down                \n",
       "990 Down                \n",
       "991 Up                  "
      ]
     },
     "metadata": {},
     "output_type": "display_data"
    },
    {
     "data": {
      "text/plain": [
       "        \n",
       "knn.pred Down Up\n",
       "    Down   21 29\n",
       "    Up     22 32"
      ]
     },
     "metadata": {},
     "output_type": "display_data"
    }
   ],
   "source": [
    "test.x=cbind(test$index,test$Lag2)\n",
    "training.x=cbind(training$index,training$Lag2)\n",
    "test.x=cbind(test$Lag2)\n",
    "knn.pred=knn(training.x,test.x,training$Direction,k=1)\n",
    "prediction.knn=cbind(test,knn.pred)\n",
    "colnames(prediction.knn)[10]=\"Direction prediction\"\n",
    "head(prediction.knn)\n",
    "table(knn.pred ,test$Direction)"
   ]
  },
  {
   "cell_type": "code",
   "execution_count": 23,
   "metadata": {},
   "outputs": [
    {
     "data": {
      "text/html": [
       "0.480769230769231"
      ],
      "text/latex": [
       "0.480769230769231"
      ],
      "text/markdown": [
       "0.480769230769231"
      ],
      "text/plain": [
       "[1] 0.4807692"
      ]
     },
     "metadata": {},
     "output_type": "display_data"
    },
    {
     "data": {
      "text/html": [
       "0.488372093023256"
      ],
      "text/latex": [
       "0.488372093023256"
      ],
      "text/markdown": [
       "0.488372093023256"
      ],
      "text/plain": [
       "[1] 0.4883721"
      ]
     },
     "metadata": {},
     "output_type": "display_data"
    },
    {
     "data": {
      "text/html": [
       "0.508196721311475"
      ],
      "text/latex": [
       "0.508196721311475"
      ],
      "text/markdown": [
       "0.508196721311475"
      ],
      "text/plain": [
       "[1] 0.5081967"
      ]
     },
     "metadata": {},
     "output_type": "display_data"
    }
   ],
   "source": [
    "mean(knn.pred == test$Direction)\n",
    "21/(21+22)\n",
    "31/(31+30)"
   ]
  },
  {
   "cell_type": "markdown",
   "metadata": {},
   "source": [
    "**Accuracy: 0.5096  \n",
    "Sensitivity: 0.4883  \n",
    "Specificity: 0.5081**"
   ]
  },
  {
   "cell_type": "markdown",
   "metadata": {},
   "source": [
    "h) Which of these methods appears to provide the best results on this data?"
   ]
  },
  {
   "cell_type": "markdown",
   "metadata": {},
   "source": [
    "**Logistic Regression Accuracy: 0.5401  \n",
    "LDA Accuracy: 0.625  \n",
    "QDA Accuracy = 0.5865  \n",
    "KNN Accuracy: 0.5096  \n",
    "So the LDA model provide the best results on this data**"
   ]
  },
  {
   "cell_type": "markdown",
   "metadata": {},
   "source": [
    "i) Experiment with different combinations of predictors, including possible transformations and interactions, for each of the methods.   \n",
    "Report the variables, method, and associated confusion matrix that appears to provide the best results on the held out data.(Note that you should also experiment with values for K in the KNN classifier.)"
   ]
  },
  {
   "cell_type": "markdown",
   "metadata": {},
   "source": [
    "- Test KNN with K = 5"
   ]
  },
  {
   "cell_type": "code",
   "execution_count": 15,
   "metadata": {},
   "outputs": [
    {
     "data": {
      "text/html": [
       "<table>\n",
       "<thead><tr><th></th><th scope=col>Year</th><th scope=col>Lag1</th><th scope=col>Lag2</th><th scope=col>Lag3</th><th scope=col>Lag4</th><th scope=col>Lag5</th><th scope=col>Volume</th><th scope=col>Today</th><th scope=col>Direction</th><th scope=col>Direction prediction</th></tr></thead>\n",
       "<tbody>\n",
       "\t<tr><th scope=row>986</th><td>2009    </td><td> 6.760  </td><td>-1.698  </td><td> 0.926  </td><td> 0.418  </td><td>-2.251  </td><td>3.793110</td><td>-4.448  </td><td>Down    </td><td>Up      </td></tr>\n",
       "\t<tr><th scope=row>987</th><td>2009    </td><td>-4.448  </td><td> 6.760  </td><td>-1.698  </td><td> 0.926  </td><td> 0.418  </td><td>5.043904</td><td>-4.518  </td><td>Down    </td><td>Up      </td></tr>\n",
       "\t<tr><th scope=row>988</th><td>2009    </td><td>-4.518  </td><td>-4.448  </td><td> 6.760  </td><td>-1.698  </td><td> 0.926  </td><td>5.948758</td><td>-2.137  </td><td>Down    </td><td>Down    </td></tr>\n",
       "\t<tr><th scope=row>989</th><td>2009    </td><td>-2.137  </td><td>-4.518  </td><td>-4.448  </td><td> 6.760  </td><td>-1.698  </td><td>6.129763</td><td>-0.730  </td><td>Down    </td><td>Down    </td></tr>\n",
       "\t<tr><th scope=row>990</th><td>2009    </td><td>-0.730  </td><td>-2.137  </td><td>-4.518  </td><td>-4.448  </td><td> 6.760  </td><td>5.602004</td><td> 5.173  </td><td>Up      </td><td>Up      </td></tr>\n",
       "\t<tr><th scope=row>991</th><td>2009    </td><td> 5.173  </td><td>-0.730  </td><td>-2.137  </td><td>-4.518  </td><td>-4.448  </td><td>6.217632</td><td>-4.808  </td><td>Down    </td><td>Up      </td></tr>\n",
       "</tbody>\n",
       "</table>\n"
      ],
      "text/latex": [
       "\\begin{tabular}{r|llllllllll}\n",
       "  & Year & Lag1 & Lag2 & Lag3 & Lag4 & Lag5 & Volume & Today & Direction & Direction prediction\\\\\n",
       "\\hline\n",
       "\t986 & 2009     &  6.760   & -1.698   &  0.926   &  0.418   & -2.251   & 3.793110 & -4.448   & Down     & Up      \\\\\n",
       "\t987 & 2009     & -4.448   &  6.760   & -1.698   &  0.926   &  0.418   & 5.043904 & -4.518   & Down     & Up      \\\\\n",
       "\t988 & 2009     & -4.518   & -4.448   &  6.760   & -1.698   &  0.926   & 5.948758 & -2.137   & Down     & Down    \\\\\n",
       "\t989 & 2009     & -2.137   & -4.518   & -4.448   &  6.760   & -1.698   & 6.129763 & -0.730   & Down     & Down    \\\\\n",
       "\t990 & 2009     & -0.730   & -2.137   & -4.518   & -4.448   &  6.760   & 5.602004 &  5.173   & Up       & Up      \\\\\n",
       "\t991 & 2009     &  5.173   & -0.730   & -2.137   & -4.518   & -4.448   & 6.217632 & -4.808   & Down     & Up      \\\\\n",
       "\\end{tabular}\n"
      ],
      "text/markdown": [
       "\n",
       "| <!--/--> | Year | Lag1 | Lag2 | Lag3 | Lag4 | Lag5 | Volume | Today | Direction | Direction prediction | \n",
       "|---|---|---|---|---|---|\n",
       "| 986 | 2009     |  6.760   | -1.698   |  0.926   |  0.418   | -2.251   | 3.793110 | -4.448   | Down     | Up       | \n",
       "| 987 | 2009     | -4.448   |  6.760   | -1.698   |  0.926   |  0.418   | 5.043904 | -4.518   | Down     | Up       | \n",
       "| 988 | 2009     | -4.518   | -4.448   |  6.760   | -1.698   |  0.926   | 5.948758 | -2.137   | Down     | Down     | \n",
       "| 989 | 2009     | -2.137   | -4.518   | -4.448   |  6.760   | -1.698   | 6.129763 | -0.730   | Down     | Down     | \n",
       "| 990 | 2009     | -0.730   | -2.137   | -4.518   | -4.448   |  6.760   | 5.602004 |  5.173   | Up       | Up       | \n",
       "| 991 | 2009     |  5.173   | -0.730   | -2.137   | -4.518   | -4.448   | 6.217632 | -4.808   | Down     | Up       | \n",
       "\n",
       "\n"
      ],
      "text/plain": [
       "    Year Lag1   Lag2   Lag3   Lag4   Lag5   Volume   Today  Direction\n",
       "986 2009  6.760 -1.698  0.926  0.418 -2.251 3.793110 -4.448 Down     \n",
       "987 2009 -4.448  6.760 -1.698  0.926  0.418 5.043904 -4.518 Down     \n",
       "988 2009 -4.518 -4.448  6.760 -1.698  0.926 5.948758 -2.137 Down     \n",
       "989 2009 -2.137 -4.518 -4.448  6.760 -1.698 6.129763 -0.730 Down     \n",
       "990 2009 -0.730 -2.137 -4.518 -4.448  6.760 5.602004  5.173 Up       \n",
       "991 2009  5.173 -0.730 -2.137 -4.518 -4.448 6.217632 -4.808 Down     \n",
       "    Direction prediction\n",
       "986 Up                  \n",
       "987 Up                  \n",
       "988 Down                \n",
       "989 Down                \n",
       "990 Up                  \n",
       "991 Up                  "
      ]
     },
     "metadata": {},
     "output_type": "display_data"
    },
    {
     "data": {
      "text/plain": [
       "        \n",
       "knn.pred Down Up\n",
       "    Down   15 22\n",
       "    Up     28 39"
      ]
     },
     "metadata": {},
     "output_type": "display_data"
    },
    {
     "data": {
      "text/html": [
       "0.519230769230769"
      ],
      "text/latex": [
       "0.519230769230769"
      ],
      "text/markdown": [
       "0.519230769230769"
      ],
      "text/plain": [
       "[1] 0.5192308"
      ]
     },
     "metadata": {},
     "output_type": "display_data"
    }
   ],
   "source": [
    "test.x=cbind(test$index,test$Lag2)\n",
    "training.x=cbind(training$index,training$Lag2)\n",
    "test.x=cbind(test$Lag2)\n",
    "knn.pred=knn(training.x,test.x,training$Direction,k=5)\n",
    "prediction.knn=cbind(test,knn.pred)\n",
    "colnames(prediction.knn)[10]=\"Direction prediction\"\n",
    "head(prediction.knn)\n",
    "table(knn.pred ,test$Direction)\n",
    "mean(knn.pred == test$Direction)"
   ]
  },
  {
   "cell_type": "markdown",
   "metadata": {},
   "source": [
    "**Accuracy: 0.5192  **"
   ]
  },
  {
   "cell_type": "markdown",
   "metadata": {},
   "source": [
    "- Test KNN with K = 10"
   ]
  },
  {
   "cell_type": "code",
   "execution_count": 16,
   "metadata": {},
   "outputs": [
    {
     "data": {
      "text/html": [
       "<table>\n",
       "<thead><tr><th></th><th scope=col>Year</th><th scope=col>Lag1</th><th scope=col>Lag2</th><th scope=col>Lag3</th><th scope=col>Lag4</th><th scope=col>Lag5</th><th scope=col>Volume</th><th scope=col>Today</th><th scope=col>Direction</th><th scope=col>Direction prediction</th></tr></thead>\n",
       "<tbody>\n",
       "\t<tr><th scope=row>986</th><td>2009    </td><td> 6.760  </td><td>-1.698  </td><td> 0.926  </td><td> 0.418  </td><td>-2.251  </td><td>3.793110</td><td>-4.448  </td><td>Down    </td><td>Down    </td></tr>\n",
       "\t<tr><th scope=row>987</th><td>2009    </td><td>-4.448  </td><td> 6.760  </td><td>-1.698  </td><td> 0.926  </td><td> 0.418  </td><td>5.043904</td><td>-4.518  </td><td>Down    </td><td>Up      </td></tr>\n",
       "\t<tr><th scope=row>988</th><td>2009    </td><td>-4.518  </td><td>-4.448  </td><td> 6.760  </td><td>-1.698  </td><td> 0.926  </td><td>5.948758</td><td>-2.137  </td><td>Down    </td><td>Down    </td></tr>\n",
       "\t<tr><th scope=row>989</th><td>2009    </td><td>-2.137  </td><td>-4.518  </td><td>-4.448  </td><td> 6.760  </td><td>-1.698  </td><td>6.129763</td><td>-0.730  </td><td>Down    </td><td>Down    </td></tr>\n",
       "\t<tr><th scope=row>990</th><td>2009    </td><td>-0.730  </td><td>-2.137  </td><td>-4.518  </td><td>-4.448  </td><td> 6.760  </td><td>5.602004</td><td> 5.173  </td><td>Up      </td><td>Up      </td></tr>\n",
       "\t<tr><th scope=row>991</th><td>2009    </td><td> 5.173  </td><td>-0.730  </td><td>-2.137  </td><td>-4.518  </td><td>-4.448  </td><td>6.217632</td><td>-4.808  </td><td>Down    </td><td>Up      </td></tr>\n",
       "</tbody>\n",
       "</table>\n"
      ],
      "text/latex": [
       "\\begin{tabular}{r|llllllllll}\n",
       "  & Year & Lag1 & Lag2 & Lag3 & Lag4 & Lag5 & Volume & Today & Direction & Direction prediction\\\\\n",
       "\\hline\n",
       "\t986 & 2009     &  6.760   & -1.698   &  0.926   &  0.418   & -2.251   & 3.793110 & -4.448   & Down     & Down    \\\\\n",
       "\t987 & 2009     & -4.448   &  6.760   & -1.698   &  0.926   &  0.418   & 5.043904 & -4.518   & Down     & Up      \\\\\n",
       "\t988 & 2009     & -4.518   & -4.448   &  6.760   & -1.698   &  0.926   & 5.948758 & -2.137   & Down     & Down    \\\\\n",
       "\t989 & 2009     & -2.137   & -4.518   & -4.448   &  6.760   & -1.698   & 6.129763 & -0.730   & Down     & Down    \\\\\n",
       "\t990 & 2009     & -0.730   & -2.137   & -4.518   & -4.448   &  6.760   & 5.602004 &  5.173   & Up       & Up      \\\\\n",
       "\t991 & 2009     &  5.173   & -0.730   & -2.137   & -4.518   & -4.448   & 6.217632 & -4.808   & Down     & Up      \\\\\n",
       "\\end{tabular}\n"
      ],
      "text/markdown": [
       "\n",
       "| <!--/--> | Year | Lag1 | Lag2 | Lag3 | Lag4 | Lag5 | Volume | Today | Direction | Direction prediction | \n",
       "|---|---|---|---|---|---|\n",
       "| 986 | 2009     |  6.760   | -1.698   |  0.926   |  0.418   | -2.251   | 3.793110 | -4.448   | Down     | Down     | \n",
       "| 987 | 2009     | -4.448   |  6.760   | -1.698   |  0.926   |  0.418   | 5.043904 | -4.518   | Down     | Up       | \n",
       "| 988 | 2009     | -4.518   | -4.448   |  6.760   | -1.698   |  0.926   | 5.948758 | -2.137   | Down     | Down     | \n",
       "| 989 | 2009     | -2.137   | -4.518   | -4.448   |  6.760   | -1.698   | 6.129763 | -0.730   | Down     | Down     | \n",
       "| 990 | 2009     | -0.730   | -2.137   | -4.518   | -4.448   |  6.760   | 5.602004 |  5.173   | Up       | Up       | \n",
       "| 991 | 2009     |  5.173   | -0.730   | -2.137   | -4.518   | -4.448   | 6.217632 | -4.808   | Down     | Up       | \n",
       "\n",
       "\n"
      ],
      "text/plain": [
       "    Year Lag1   Lag2   Lag3   Lag4   Lag5   Volume   Today  Direction\n",
       "986 2009  6.760 -1.698  0.926  0.418 -2.251 3.793110 -4.448 Down     \n",
       "987 2009 -4.448  6.760 -1.698  0.926  0.418 5.043904 -4.518 Down     \n",
       "988 2009 -4.518 -4.448  6.760 -1.698  0.926 5.948758 -2.137 Down     \n",
       "989 2009 -2.137 -4.518 -4.448  6.760 -1.698 6.129763 -0.730 Down     \n",
       "990 2009 -0.730 -2.137 -4.518 -4.448  6.760 5.602004  5.173 Up       \n",
       "991 2009  5.173 -0.730 -2.137 -4.518 -4.448 6.217632 -4.808 Down     \n",
       "    Direction prediction\n",
       "986 Down                \n",
       "987 Up                  \n",
       "988 Down                \n",
       "989 Down                \n",
       "990 Up                  \n",
       "991 Up                  "
      ]
     },
     "metadata": {},
     "output_type": "display_data"
    },
    {
     "data": {
      "text/plain": [
       "        \n",
       "knn.pred Down Up\n",
       "    Down   15 20\n",
       "    Up     28 41"
      ]
     },
     "metadata": {},
     "output_type": "display_data"
    },
    {
     "data": {
      "text/html": [
       "0.538461538461538"
      ],
      "text/latex": [
       "0.538461538461538"
      ],
      "text/markdown": [
       "0.538461538461538"
      ],
      "text/plain": [
       "[1] 0.5384615"
      ]
     },
     "metadata": {},
     "output_type": "display_data"
    }
   ],
   "source": [
    "test.x=cbind(test$index,test$Lag2)\n",
    "training.x=cbind(training$index,training$Lag2)\n",
    "test.x=cbind(test$Lag2)\n",
    "knn.pred=knn(training.x,test.x,training$Direction,k=10)\n",
    "prediction.knn=cbind(test,knn.pred)\n",
    "colnames(prediction.knn)[10]=\"Direction prediction\"\n",
    "head(prediction.knn)\n",
    "table(knn.pred ,test$Direction)\n",
    "mean(knn.pred == test$Direction)"
   ]
  },
  {
   "cell_type": "markdown",
   "metadata": {},
   "source": [
    "**Accuracy: 0.5384 **"
   ]
  },
  {
   "cell_type": "markdown",
   "metadata": {},
   "source": [
    "- Test Logistic Regression, LDA, QDA, KNN - K=1\n",
    "- With Training (1990 to 2009) + test(2009 - 2010);  \n",
    "- Predictor Lag2"
   ]
  },
  {
   "cell_type": "code",
   "execution_count": 17,
   "metadata": {},
   "outputs": [],
   "source": [
    "training=Weekly[Weekly$Year <= 2009,]\n",
    "test=Weekly[Weekly$Year > 2009, ]"
   ]
  },
  {
   "cell_type": "markdown",
   "metadata": {},
   "source": [
    "    - Logistic Regression"
   ]
  },
  {
   "cell_type": "code",
   "execution_count": 18,
   "metadata": {},
   "outputs": [
    {
     "data": {
      "text/plain": [
       "        \n",
       "glm.pred Down  Up\n",
       "    Down   20  40\n",
       "    Up    444 533"
      ]
     },
     "metadata": {},
     "output_type": "display_data"
    },
    {
     "data": {
      "text/html": [
       "0.533269045323047"
      ],
      "text/latex": [
       "0.533269045323047"
      ],
      "text/markdown": [
       "0.533269045323047"
      ],
      "text/plain": [
       "[1] 0.533269"
      ]
     },
     "metadata": {},
     "output_type": "display_data"
    }
   ],
   "source": [
    "glm.fit=glm(Direction~Lag2,data=training,family=binomial(link = 'logit'))\n",
    "glm.probs=predict(glm.fit,newdata = test, type=\"response\")\n",
    "glm.pred=rep(\"Down\",dim(training)[1])\n",
    "glm.pred[glm.probs>0.5]=\"Up\"\n",
    "prediction.glm=cbind(training,glm.pred)\n",
    "colnames(prediction.glm)[10]=\"Direction prediction\"\n",
    "table(glm.pred, training$Direction)\n",
    "mean(glm.pred == training$Direction)"
   ]
  },
  {
   "cell_type": "markdown",
   "metadata": {},
   "source": [
    "**Accuracy: 0.5332**"
   ]
  },
  {
   "cell_type": "markdown",
   "metadata": {},
   "source": [
    "    - LDA"
   ]
  },
  {
   "cell_type": "code",
   "execution_count": 19,
   "metadata": {},
   "outputs": [
    {
     "data": {
      "text/html": [
       "<table>\n",
       "<thead><tr><th></th><th scope=col>Year</th><th scope=col>Lag1</th><th scope=col>Lag2</th><th scope=col>Lag3</th><th scope=col>Lag4</th><th scope=col>Lag5</th><th scope=col>Volume</th><th scope=col>Today</th><th scope=col>Direction</th><th scope=col>Direction prediction</th></tr></thead>\n",
       "<tbody>\n",
       "\t<tr><th scope=row>1038</th><td>2010    </td><td>-1.010  </td><td> 2.178  </td><td>-0.356  </td><td> 0.039  </td><td> 1.328  </td><td>2.390427</td><td> 2.680  </td><td>Up      </td><td>Up      </td></tr>\n",
       "\t<tr><th scope=row>1039</th><td>2010    </td><td> 2.680  </td><td>-1.010  </td><td> 2.178  </td><td>-0.356  </td><td> 0.039  </td><td>4.223070</td><td>-0.782  </td><td>Down    </td><td>Up      </td></tr>\n",
       "\t<tr><th scope=row>1040</th><td>2010    </td><td>-0.782  </td><td> 2.680  </td><td>-1.010  </td><td> 2.178  </td><td>-0.356  </td><td>4.363246</td><td>-3.897  </td><td>Down    </td><td>Up      </td></tr>\n",
       "\t<tr><th scope=row>1041</th><td>2010    </td><td>-3.897  </td><td>-0.782  </td><td> 2.680  </td><td>-1.010  </td><td> 2.178  </td><td>5.654582</td><td>-1.639  </td><td>Down    </td><td>Up      </td></tr>\n",
       "\t<tr><th scope=row>1042</th><td>2010    </td><td>-1.639  </td><td>-3.897  </td><td>-0.782  </td><td> 2.680  </td><td>-1.010  </td><td>5.079534</td><td>-0.715  </td><td>Down    </td><td>Up      </td></tr>\n",
       "\t<tr><th scope=row>1043</th><td>2010    </td><td>-0.715  </td><td>-1.639  </td><td>-3.897  </td><td>-0.782  </td><td> 2.680  </td><td>5.082238</td><td> 0.874  </td><td>Up      </td><td>Up      </td></tr>\n",
       "</tbody>\n",
       "</table>\n"
      ],
      "text/latex": [
       "\\begin{tabular}{r|llllllllll}\n",
       "  & Year & Lag1 & Lag2 & Lag3 & Lag4 & Lag5 & Volume & Today & Direction & Direction prediction\\\\\n",
       "\\hline\n",
       "\t1038 & 2010     & -1.010   &  2.178   & -0.356   &  0.039   &  1.328   & 2.390427 &  2.680   & Up       & Up      \\\\\n",
       "\t1039 & 2010     &  2.680   & -1.010   &  2.178   & -0.356   &  0.039   & 4.223070 & -0.782   & Down     & Up      \\\\\n",
       "\t1040 & 2010     & -0.782   &  2.680   & -1.010   &  2.178   & -0.356   & 4.363246 & -3.897   & Down     & Up      \\\\\n",
       "\t1041 & 2010     & -3.897   & -0.782   &  2.680   & -1.010   &  2.178   & 5.654582 & -1.639   & Down     & Up      \\\\\n",
       "\t1042 & 2010     & -1.639   & -3.897   & -0.782   &  2.680   & -1.010   & 5.079534 & -0.715   & Down     & Up      \\\\\n",
       "\t1043 & 2010     & -0.715   & -1.639   & -3.897   & -0.782   &  2.680   & 5.082238 &  0.874   & Up       & Up      \\\\\n",
       "\\end{tabular}\n"
      ],
      "text/markdown": [
       "\n",
       "| <!--/--> | Year | Lag1 | Lag2 | Lag3 | Lag4 | Lag5 | Volume | Today | Direction | Direction prediction | \n",
       "|---|---|---|---|---|---|\n",
       "| 1038 | 2010     | -1.010   |  2.178   | -0.356   |  0.039   |  1.328   | 2.390427 |  2.680   | Up       | Up       | \n",
       "| 1039 | 2010     |  2.680   | -1.010   |  2.178   | -0.356   |  0.039   | 4.223070 | -0.782   | Down     | Up       | \n",
       "| 1040 | 2010     | -0.782   |  2.680   | -1.010   |  2.178   | -0.356   | 4.363246 | -3.897   | Down     | Up       | \n",
       "| 1041 | 2010     | -3.897   | -0.782   |  2.680   | -1.010   |  2.178   | 5.654582 | -1.639   | Down     | Up       | \n",
       "| 1042 | 2010     | -1.639   | -3.897   | -0.782   |  2.680   | -1.010   | 5.079534 | -0.715   | Down     | Up       | \n",
       "| 1043 | 2010     | -0.715   | -1.639   | -3.897   | -0.782   |  2.680   | 5.082238 |  0.874   | Up       | Up       | \n",
       "\n",
       "\n"
      ],
      "text/plain": [
       "     Year Lag1   Lag2   Lag3   Lag4   Lag5   Volume   Today  Direction\n",
       "1038 2010 -1.010  2.178 -0.356  0.039  1.328 2.390427  2.680 Up       \n",
       "1039 2010  2.680 -1.010  2.178 -0.356  0.039 4.223070 -0.782 Down     \n",
       "1040 2010 -0.782  2.680 -1.010  2.178 -0.356 4.363246 -3.897 Down     \n",
       "1041 2010 -3.897 -0.782  2.680 -1.010  2.178 5.654582 -1.639 Down     \n",
       "1042 2010 -1.639 -3.897 -0.782  2.680 -1.010 5.079534 -0.715 Down     \n",
       "1043 2010 -0.715 -1.639 -3.897 -0.782  2.680 5.082238  0.874 Up       \n",
       "     Direction prediction\n",
       "1038 Up                  \n",
       "1039 Up                  \n",
       "1040 Up                  \n",
       "1041 Up                  \n",
       "1042 Up                  \n",
       "1043 Up                  "
      ]
     },
     "metadata": {},
     "output_type": "display_data"
    },
    {
     "data": {
      "text/plain": [
       "         \n",
       "lda.class Down Up\n",
       "     Down    3  0\n",
       "     Up     17 32"
      ]
     },
     "metadata": {},
     "output_type": "display_data"
    },
    {
     "data": {
      "text/html": [
       "0.673076923076923"
      ],
      "text/latex": [
       "0.673076923076923"
      ],
      "text/markdown": [
       "0.673076923076923"
      ],
      "text/plain": [
       "[1] 0.6730769"
      ]
     },
     "metadata": {},
     "output_type": "display_data"
    }
   ],
   "source": [
    "lda.fit = lda(Direction~Lag2,data=training)\n",
    "lda.pred = predict(lda.fit, test)\n",
    "lda.class = lda.pred$class\n",
    "prediction.lda=cbind(test, lda.class)\n",
    "colnames(prediction.lda)[10] = \"Direction prediction\"\n",
    "head(prediction.lda)\n",
    "table(lda.class, test$Direction)\n",
    "mean(lda.class == test$Direction)"
   ]
  },
  {
   "cell_type": "markdown",
   "metadata": {},
   "source": [
    "**Accuracy: 0.6730**"
   ]
  },
  {
   "cell_type": "markdown",
   "metadata": {},
   "source": [
    "    - QDA"
   ]
  },
  {
   "cell_type": "code",
   "execution_count": 20,
   "metadata": {},
   "outputs": [
    {
     "data": {
      "text/html": [
       "<table>\n",
       "<thead><tr><th></th><th scope=col>Year</th><th scope=col>Lag1</th><th scope=col>Lag2</th><th scope=col>Lag3</th><th scope=col>Lag4</th><th scope=col>Lag5</th><th scope=col>Volume</th><th scope=col>Today</th><th scope=col>Direction</th><th scope=col>Direction prediction</th></tr></thead>\n",
       "<tbody>\n",
       "\t<tr><th scope=row>1038</th><td>2010    </td><td>-1.010  </td><td> 2.178  </td><td>-0.356  </td><td> 0.039  </td><td> 1.328  </td><td>2.390427</td><td> 2.680  </td><td>Up      </td><td>Up      </td></tr>\n",
       "\t<tr><th scope=row>1039</th><td>2010    </td><td> 2.680  </td><td>-1.010  </td><td> 2.178  </td><td>-0.356  </td><td> 0.039  </td><td>4.223070</td><td>-0.782  </td><td>Down    </td><td>Up      </td></tr>\n",
       "\t<tr><th scope=row>1040</th><td>2010    </td><td>-0.782  </td><td> 2.680  </td><td>-1.010  </td><td> 2.178  </td><td>-0.356  </td><td>4.363246</td><td>-3.897  </td><td>Down    </td><td>Up      </td></tr>\n",
       "\t<tr><th scope=row>1041</th><td>2010    </td><td>-3.897  </td><td>-0.782  </td><td> 2.680  </td><td>-1.010  </td><td> 2.178  </td><td>5.654582</td><td>-1.639  </td><td>Down    </td><td>Up      </td></tr>\n",
       "\t<tr><th scope=row>1042</th><td>2010    </td><td>-1.639  </td><td>-3.897  </td><td>-0.782  </td><td> 2.680  </td><td>-1.010  </td><td>5.079534</td><td>-0.715  </td><td>Down    </td><td>Up      </td></tr>\n",
       "\t<tr><th scope=row>1043</th><td>2010    </td><td>-0.715  </td><td>-1.639  </td><td>-3.897  </td><td>-0.782  </td><td> 2.680  </td><td>5.082238</td><td> 0.874  </td><td>Up      </td><td>Up      </td></tr>\n",
       "</tbody>\n",
       "</table>\n"
      ],
      "text/latex": [
       "\\begin{tabular}{r|llllllllll}\n",
       "  & Year & Lag1 & Lag2 & Lag3 & Lag4 & Lag5 & Volume & Today & Direction & Direction prediction\\\\\n",
       "\\hline\n",
       "\t1038 & 2010     & -1.010   &  2.178   & -0.356   &  0.039   &  1.328   & 2.390427 &  2.680   & Up       & Up      \\\\\n",
       "\t1039 & 2010     &  2.680   & -1.010   &  2.178   & -0.356   &  0.039   & 4.223070 & -0.782   & Down     & Up      \\\\\n",
       "\t1040 & 2010     & -0.782   &  2.680   & -1.010   &  2.178   & -0.356   & 4.363246 & -3.897   & Down     & Up      \\\\\n",
       "\t1041 & 2010     & -3.897   & -0.782   &  2.680   & -1.010   &  2.178   & 5.654582 & -1.639   & Down     & Up      \\\\\n",
       "\t1042 & 2010     & -1.639   & -3.897   & -0.782   &  2.680   & -1.010   & 5.079534 & -0.715   & Down     & Up      \\\\\n",
       "\t1043 & 2010     & -0.715   & -1.639   & -3.897   & -0.782   &  2.680   & 5.082238 &  0.874   & Up       & Up      \\\\\n",
       "\\end{tabular}\n"
      ],
      "text/markdown": [
       "\n",
       "| <!--/--> | Year | Lag1 | Lag2 | Lag3 | Lag4 | Lag5 | Volume | Today | Direction | Direction prediction | \n",
       "|---|---|---|---|---|---|\n",
       "| 1038 | 2010     | -1.010   |  2.178   | -0.356   |  0.039   |  1.328   | 2.390427 |  2.680   | Up       | Up       | \n",
       "| 1039 | 2010     |  2.680   | -1.010   |  2.178   | -0.356   |  0.039   | 4.223070 | -0.782   | Down     | Up       | \n",
       "| 1040 | 2010     | -0.782   |  2.680   | -1.010   |  2.178   | -0.356   | 4.363246 | -3.897   | Down     | Up       | \n",
       "| 1041 | 2010     | -3.897   | -0.782   |  2.680   | -1.010   |  2.178   | 5.654582 | -1.639   | Down     | Up       | \n",
       "| 1042 | 2010     | -1.639   | -3.897   | -0.782   |  2.680   | -1.010   | 5.079534 | -0.715   | Down     | Up       | \n",
       "| 1043 | 2010     | -0.715   | -1.639   | -3.897   | -0.782   |  2.680   | 5.082238 |  0.874   | Up       | Up       | \n",
       "\n",
       "\n"
      ],
      "text/plain": [
       "     Year Lag1   Lag2   Lag3   Lag4   Lag5   Volume   Today  Direction\n",
       "1038 2010 -1.010  2.178 -0.356  0.039  1.328 2.390427  2.680 Up       \n",
       "1039 2010  2.680 -1.010  2.178 -0.356  0.039 4.223070 -0.782 Down     \n",
       "1040 2010 -0.782  2.680 -1.010  2.178 -0.356 4.363246 -3.897 Down     \n",
       "1041 2010 -3.897 -0.782  2.680 -1.010  2.178 5.654582 -1.639 Down     \n",
       "1042 2010 -1.639 -3.897 -0.782  2.680 -1.010 5.079534 -0.715 Down     \n",
       "1043 2010 -0.715 -1.639 -3.897 -0.782  2.680 5.082238  0.874 Up       \n",
       "     Direction prediction\n",
       "1038 Up                  \n",
       "1039 Up                  \n",
       "1040 Up                  \n",
       "1041 Up                  \n",
       "1042 Up                  \n",
       "1043 Up                  "
      ]
     },
     "metadata": {},
     "output_type": "display_data"
    },
    {
     "data": {
      "text/plain": [
       "         \n",
       "qda.class Down Up\n",
       "     Down    0  0\n",
       "     Up     20 32"
      ]
     },
     "metadata": {},
     "output_type": "display_data"
    },
    {
     "data": {
      "text/html": [
       "0.615384615384615"
      ],
      "text/latex": [
       "0.615384615384615"
      ],
      "text/markdown": [
       "0.615384615384615"
      ],
      "text/plain": [
       "[1] 0.6153846"
      ]
     },
     "metadata": {},
     "output_type": "display_data"
    }
   ],
   "source": [
    "qda.fit = qda(Direction~Lag2, data = training)\n",
    "qda.pred = predict(qda.fit, test)\n",
    "qda.class = qda.pred$class\n",
    "prediction.qda=cbind(test, qda.class)\n",
    "colnames(prediction.qda)[10] = \"Direction prediction\"\n",
    "head(prediction.qda)\n",
    "table(qda.class, test$Direction)\n",
    "mean(qda.class == test$Direction)"
   ]
  },
  {
   "cell_type": "markdown",
   "metadata": {},
   "source": [
    "**Accuracy: 0.6153**"
   ]
  },
  {
   "cell_type": "markdown",
   "metadata": {},
   "source": [
    "    - KNN(k=1)"
   ]
  },
  {
   "cell_type": "code",
   "execution_count": 21,
   "metadata": {},
   "outputs": [
    {
     "data": {
      "text/html": [
       "<table>\n",
       "<thead><tr><th></th><th scope=col>Year</th><th scope=col>Lag1</th><th scope=col>Lag2</th><th scope=col>Lag3</th><th scope=col>Lag4</th><th scope=col>Lag5</th><th scope=col>Volume</th><th scope=col>Today</th><th scope=col>Direction</th><th scope=col>Direction prediction</th></tr></thead>\n",
       "<tbody>\n",
       "\t<tr><th scope=row>1038</th><td>2010    </td><td>-1.010  </td><td> 2.178  </td><td>-0.356  </td><td> 0.039  </td><td> 1.328  </td><td>2.390427</td><td> 2.680  </td><td>Up      </td><td>Down    </td></tr>\n",
       "\t<tr><th scope=row>1039</th><td>2010    </td><td> 2.680  </td><td>-1.010  </td><td> 2.178  </td><td>-0.356  </td><td> 0.039  </td><td>4.223070</td><td>-0.782  </td><td>Down    </td><td>Down    </td></tr>\n",
       "\t<tr><th scope=row>1040</th><td>2010    </td><td>-0.782  </td><td> 2.680  </td><td>-1.010  </td><td> 2.178  </td><td>-0.356  </td><td>4.363246</td><td>-3.897  </td><td>Down    </td><td>Up      </td></tr>\n",
       "\t<tr><th scope=row>1041</th><td>2010    </td><td>-3.897  </td><td>-0.782  </td><td> 2.680  </td><td>-1.010  </td><td> 2.178  </td><td>5.654582</td><td>-1.639  </td><td>Down    </td><td>Up      </td></tr>\n",
       "\t<tr><th scope=row>1042</th><td>2010    </td><td>-1.639  </td><td>-3.897  </td><td>-0.782  </td><td> 2.680  </td><td>-1.010  </td><td>5.079534</td><td>-0.715  </td><td>Down    </td><td>Down    </td></tr>\n",
       "\t<tr><th scope=row>1043</th><td>2010    </td><td>-0.715  </td><td>-1.639  </td><td>-3.897  </td><td>-0.782  </td><td> 2.680  </td><td>5.082238</td><td> 0.874  </td><td>Up      </td><td>Up      </td></tr>\n",
       "</tbody>\n",
       "</table>\n"
      ],
      "text/latex": [
       "\\begin{tabular}{r|llllllllll}\n",
       "  & Year & Lag1 & Lag2 & Lag3 & Lag4 & Lag5 & Volume & Today & Direction & Direction prediction\\\\\n",
       "\\hline\n",
       "\t1038 & 2010     & -1.010   &  2.178   & -0.356   &  0.039   &  1.328   & 2.390427 &  2.680   & Up       & Down    \\\\\n",
       "\t1039 & 2010     &  2.680   & -1.010   &  2.178   & -0.356   &  0.039   & 4.223070 & -0.782   & Down     & Down    \\\\\n",
       "\t1040 & 2010     & -0.782   &  2.680   & -1.010   &  2.178   & -0.356   & 4.363246 & -3.897   & Down     & Up      \\\\\n",
       "\t1041 & 2010     & -3.897   & -0.782   &  2.680   & -1.010   &  2.178   & 5.654582 & -1.639   & Down     & Up      \\\\\n",
       "\t1042 & 2010     & -1.639   & -3.897   & -0.782   &  2.680   & -1.010   & 5.079534 & -0.715   & Down     & Down    \\\\\n",
       "\t1043 & 2010     & -0.715   & -1.639   & -3.897   & -0.782   &  2.680   & 5.082238 &  0.874   & Up       & Up      \\\\\n",
       "\\end{tabular}\n"
      ],
      "text/markdown": [
       "\n",
       "| <!--/--> | Year | Lag1 | Lag2 | Lag3 | Lag4 | Lag5 | Volume | Today | Direction | Direction prediction | \n",
       "|---|---|---|---|---|---|\n",
       "| 1038 | 2010     | -1.010   |  2.178   | -0.356   |  0.039   |  1.328   | 2.390427 |  2.680   | Up       | Down     | \n",
       "| 1039 | 2010     |  2.680   | -1.010   |  2.178   | -0.356   |  0.039   | 4.223070 | -0.782   | Down     | Down     | \n",
       "| 1040 | 2010     | -0.782   |  2.680   | -1.010   |  2.178   | -0.356   | 4.363246 | -3.897   | Down     | Up       | \n",
       "| 1041 | 2010     | -3.897   | -0.782   |  2.680   | -1.010   |  2.178   | 5.654582 | -1.639   | Down     | Up       | \n",
       "| 1042 | 2010     | -1.639   | -3.897   | -0.782   |  2.680   | -1.010   | 5.079534 | -0.715   | Down     | Down     | \n",
       "| 1043 | 2010     | -0.715   | -1.639   | -3.897   | -0.782   |  2.680   | 5.082238 |  0.874   | Up       | Up       | \n",
       "\n",
       "\n"
      ],
      "text/plain": [
       "     Year Lag1   Lag2   Lag3   Lag4   Lag5   Volume   Today  Direction\n",
       "1038 2010 -1.010  2.178 -0.356  0.039  1.328 2.390427  2.680 Up       \n",
       "1039 2010  2.680 -1.010  2.178 -0.356  0.039 4.223070 -0.782 Down     \n",
       "1040 2010 -0.782  2.680 -1.010  2.178 -0.356 4.363246 -3.897 Down     \n",
       "1041 2010 -3.897 -0.782  2.680 -1.010  2.178 5.654582 -1.639 Down     \n",
       "1042 2010 -1.639 -3.897 -0.782  2.680 -1.010 5.079534 -0.715 Down     \n",
       "1043 2010 -0.715 -1.639 -3.897 -0.782  2.680 5.082238  0.874 Up       \n",
       "     Direction prediction\n",
       "1038 Down                \n",
       "1039 Down                \n",
       "1040 Up                  \n",
       "1041 Up                  \n",
       "1042 Down                \n",
       "1043 Up                  "
      ]
     },
     "metadata": {},
     "output_type": "display_data"
    },
    {
     "data": {
      "text/plain": [
       "        \n",
       "knn.pred Down Up\n",
       "    Down    8 15\n",
       "    Up     12 17"
      ]
     },
     "metadata": {},
     "output_type": "display_data"
    },
    {
     "data": {
      "text/html": [
       "0.480769230769231"
      ],
      "text/latex": [
       "0.480769230769231"
      ],
      "text/markdown": [
       "0.480769230769231"
      ],
      "text/plain": [
       "[1] 0.4807692"
      ]
     },
     "metadata": {},
     "output_type": "display_data"
    }
   ],
   "source": [
    "test.x=cbind(test$index,test$Lag2)\n",
    "training.x=cbind(training$index,training$Lag2)\n",
    "test.x=cbind(test$Lag2)\n",
    "knn.pred=knn(training.x,test.x,training$Direction,k=1)\n",
    "prediction.knn=cbind(test,knn.pred)\n",
    "colnames(prediction.knn)[10]=\"Direction prediction\"\n",
    "head(prediction.knn)\n",
    "table(knn.pred ,test$Direction)\n",
    "mean(knn.pred == test$Direction)"
   ]
  },
  {
   "cell_type": "markdown",
   "metadata": {},
   "source": [
    "**Predictor: Lag2  With Training (1990 to 2008) + test(2009 - 2010);  \n",
    "Logistic Regression Accuracy: 0.5401  \n",
    "LDA Accuracy: 0.625  \n",
    "QDA Accuracy = 0.5865  \n",
    "KNN Accuracy: 0.5096  **\n",
    "\n",
    "**Predictor: Lag2 With Training (1990 to 2005) + test(2006 - 2010);  \n",
    "Logistic Regression Accuracy: 0.5332  \n",
    "LDA Accuracy: 0.6730  \n",
    "QDA Accuracy = 0.6153   \n",
    "KNN Accuracy: 0.4807  **"
   ]
  },
  {
   "cell_type": "code",
   "execution_count": 22,
   "metadata": {},
   "outputs": [],
   "source": [
    "#End"
   ]
  }
 ],
 "metadata": {
  "kernelspec": {
   "display_name": "R",
   "language": "R",
   "name": "ir"
  },
  "language_info": {
   "codemirror_mode": "r",
   "file_extension": ".r",
   "mimetype": "text/x-r-source",
   "name": "R",
   "pygments_lexer": "r",
   "version": "3.4.2"
  }
 },
 "nbformat": 4,
 "nbformat_minor": 2
}
