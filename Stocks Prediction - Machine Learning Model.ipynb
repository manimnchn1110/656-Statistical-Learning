{
 "cells": [
  {
   "cell_type": "markdown",
   "metadata": {},
   "source": [
    "# III. Data Preprocessing and Model"
   ]
  },
  {
   "cell_type": "markdown",
   "metadata": {},
   "source": [
    "#### In this part, I will use the collected dataset and use machine learning algorithms to build model to predict the tendency of stock prices. \n",
    "\n",
    "#### The algorithms I will use are Random Forest, Support Vector Machine(classifier), Neural Network. In order to find out more appropriate parameters for each algorithm, I will also tune each model and obtain the best estimators.\n",
    "\n",
    "####  I will use R to do the Data Prepossessing part and use Python to build machine learning models. Since we have already tried to build the model in R studio in assigment 3, we would like to try some new tools like Python in the final project. The underlying methods and algorithms would be same.\n",
    "\n",
    "- Required libraries"
   ]
  },
  {
   "cell_type": "code",
   "execution_count": 1,
   "metadata": {},
   "outputs": [],
   "source": [
    "import numpy as np \n",
    "import pandas as pd \n",
    "import matplotlib.pyplot as plt\n",
    "\n",
    "from sklearn.pipeline import Pipeline\n",
    "from sklearn.preprocessing import MinMaxScaler,normalize,Normalizer\n",
    "from sklearn.linear_model import LogisticRegression\n",
    "from sklearn.svm import LinearSVC, SVC\n",
    "from sklearn.model_selection import train_test_split, cross_val_score\n",
    "from sklearn.ensemble import VotingClassifier, RandomForestClassifier\n",
    "from sklearn.neural_network import MLPClassifier\n",
    "from sklearn.metrics import confusion_matrix, accuracy_score, fbeta_score, make_scorer, mean_squared_error\n",
    "from sklearn.model_selection import GridSearchCV\n",
    "from sklearn.linear_model import LogisticRegressionCV\n",
    "import itertools\n",
    "\n",
    "import numpy as np\n",
    "import matplotlib.pyplot as plt\n",
    "\n",
    "from sklearn.datasets import make_classification\n",
    "from sklearn.ensemble import ExtraTreesClassifier\n",
    "\n",
    "from sklearn.ensemble import RandomForestClassifier\n",
    "\n",
    "from scipy.stats import randint as sp_randint\n",
    "from sklearn.model_selection import RandomizedSearchCV\n",
    "from time import time\n",
    "\n",
    "import seaborn as sns"
   ]
  },
  {
   "cell_type": "markdown",
   "metadata": {},
   "source": [
    "## III.1 Data preposessing"
   ]
  },
  {
   "cell_type": "markdown",
   "metadata": {},
   "source": [
    "#### The original data is collected from bloomberg terminal. My partner and I did efforts to clean and preposess the data with using R and Python. However, the following part will not show the 'dirty work' we did (code will be attached). I will load the cleaned data directly.\n",
    "\n",
    "![](14 stocks.png)"
   ]
  },
  {
   "cell_type": "code",
   "execution_count": 2,
   "metadata": {},
   "outputs": [],
   "source": [
    "df = pd.read_csv('raw_data.csv')"
   ]
  },
  {
   "cell_type": "code",
   "execution_count": 3,
   "metadata": {},
   "outputs": [
    {
     "data": {
      "text/html": [
       "<div>\n",
       "<style scoped>\n",
       "    .dataframe tbody tr th:only-of-type {\n",
       "        vertical-align: middle;\n",
       "    }\n",
       "\n",
       "    .dataframe tbody tr th {\n",
       "        vertical-align: top;\n",
       "    }\n",
       "\n",
       "    .dataframe thead th {\n",
       "        text-align: right;\n",
       "    }\n",
       "</style>\n",
       "<table border=\"1\" class=\"dataframe\">\n",
       "  <thead>\n",
       "    <tr style=\"text-align: right;\">\n",
       "      <th></th>\n",
       "      <th>symbol</th>\n",
       "      <th>Date</th>\n",
       "      <th>Open</th>\n",
       "      <th>High</th>\n",
       "      <th>Low</th>\n",
       "      <th>Close</th>\n",
       "      <th>Adj.Close</th>\n",
       "      <th>Volume</th>\n",
       "      <th>revenue</th>\n",
       "      <th>gross_profit</th>\n",
       "      <th>...</th>\n",
       "      <th>MFI</th>\n",
       "      <th>Volat</th>\n",
       "      <th>CMO.Ad</th>\n",
       "      <th>CMO.Vo</th>\n",
       "      <th>RunMean</th>\n",
       "      <th>RunSD</th>\n",
       "      <th>GMMA</th>\n",
       "      <th>KST</th>\n",
       "      <th>DPO</th>\n",
       "      <th>DVI</th>\n",
       "    </tr>\n",
       "  </thead>\n",
       "  <tbody>\n",
       "    <tr>\n",
       "      <th>0</th>\n",
       "      <td>BIDU</td>\n",
       "      <td>2014-01-16</td>\n",
       "      <td>171.300003</td>\n",
       "      <td>174.570007</td>\n",
       "      <td>169.750000</td>\n",
       "      <td>173.000000</td>\n",
       "      <td>173.000000</td>\n",
       "      <td>2975000</td>\n",
       "      <td>9.522913e+09</td>\n",
       "      <td>5.866424e+09</td>\n",
       "      <td>...</td>\n",
       "      <td>42.611467</td>\n",
       "      <td>0.195193</td>\n",
       "      <td>5.660541</td>\n",
       "      <td>-36.456573</td>\n",
       "      <td>133.189018</td>\n",
       "      <td>190.302970</td>\n",
       "      <td>1.332843e+07</td>\n",
       "      <td>-315.754725</td>\n",
       "      <td>-11480300</td>\n",
       "      <td>0.596032</td>\n",
       "    </tr>\n",
       "    <tr>\n",
       "      <th>1</th>\n",
       "      <td>QCOM</td>\n",
       "      <td>2014-01-16</td>\n",
       "      <td>74.470001</td>\n",
       "      <td>74.879997</td>\n",
       "      <td>74.010002</td>\n",
       "      <td>74.720001</td>\n",
       "      <td>65.324356</td>\n",
       "      <td>10263200</td>\n",
       "      <td>6.622000e+09</td>\n",
       "      <td>3.916000e+09</td>\n",
       "      <td>...</td>\n",
       "      <td>39.304866</td>\n",
       "      <td>0.194706</td>\n",
       "      <td>-2.040986</td>\n",
       "      <td>2.451821</td>\n",
       "      <td>104.865723</td>\n",
       "      <td>173.466198</td>\n",
       "      <td>1.179582e+07</td>\n",
       "      <td>-294.546266</td>\n",
       "      <td>-8751740</td>\n",
       "      <td>0.768254</td>\n",
       "    </tr>\n",
       "    <tr>\n",
       "      <th>2</th>\n",
       "      <td>IBM</td>\n",
       "      <td>2014-01-16</td>\n",
       "      <td>187.529999</td>\n",
       "      <td>188.990005</td>\n",
       "      <td>186.800003</td>\n",
       "      <td>188.759995</td>\n",
       "      <td>163.875153</td>\n",
       "      <td>4770300</td>\n",
       "      <td>2.738500e+10</td>\n",
       "      <td>1.062700e+10</td>\n",
       "      <td>...</td>\n",
       "      <td>45.818767</td>\n",
       "      <td>0.192173</td>\n",
       "      <td>6.384432</td>\n",
       "      <td>-13.435674</td>\n",
       "      <td>121.638723</td>\n",
       "      <td>172.565988</td>\n",
       "      <td>8.283059e+06</td>\n",
       "      <td>-246.890280</td>\n",
       "      <td>-9011560</td>\n",
       "      <td>0.613492</td>\n",
       "    </tr>\n",
       "    <tr>\n",
       "      <th>3</th>\n",
       "      <td>CSCO</td>\n",
       "      <td>2014-01-16</td>\n",
       "      <td>22.850000</td>\n",
       "      <td>22.910000</td>\n",
       "      <td>22.629999</td>\n",
       "      <td>22.780001</td>\n",
       "      <td>19.831251</td>\n",
       "      <td>38918100</td>\n",
       "      <td>1.208500e+10</td>\n",
       "      <td>7.407000e+09</td>\n",
       "      <td>...</td>\n",
       "      <td>40.648559</td>\n",
       "      <td>0.182808</td>\n",
       "      <td>-0.972015</td>\n",
       "      <td>7.983797</td>\n",
       "      <td>123.149723</td>\n",
       "      <td>171.520173</td>\n",
       "      <td>2.360058e+07</td>\n",
       "      <td>-191.905480</td>\n",
       "      <td>25906940</td>\n",
       "      <td>0.378571</td>\n",
       "    </tr>\n",
       "    <tr>\n",
       "      <th>4</th>\n",
       "      <td>ADBE</td>\n",
       "      <td>2014-01-16</td>\n",
       "      <td>61.590000</td>\n",
       "      <td>61.980000</td>\n",
       "      <td>61.259998</td>\n",
       "      <td>61.630001</td>\n",
       "      <td>61.630001</td>\n",
       "      <td>3747800</td>\n",
       "      <td>1.000120e+09</td>\n",
       "      <td>8.516110e+08</td>\n",
       "      <td>...</td>\n",
       "      <td>43.238445</td>\n",
       "      <td>0.175726</td>\n",
       "      <td>1.249604</td>\n",
       "      <td>-4.414016</td>\n",
       "      <td>125.623723</td>\n",
       "      <td>170.311890</td>\n",
       "      <td>1.367419e+07</td>\n",
       "      <td>-113.246354</td>\n",
       "      <td>-9203390</td>\n",
       "      <td>0.365079</td>\n",
       "    </tr>\n",
       "  </tbody>\n",
       "</table>\n",
       "<p>5 rows × 51 columns</p>\n",
       "</div>"
      ],
      "text/plain": [
       "  symbol        Date        Open        High         Low       Close  \\\n",
       "0   BIDU  2014-01-16  171.300003  174.570007  169.750000  173.000000   \n",
       "1   QCOM  2014-01-16   74.470001   74.879997   74.010002   74.720001   \n",
       "2    IBM  2014-01-16  187.529999  188.990005  186.800003  188.759995   \n",
       "3   CSCO  2014-01-16   22.850000   22.910000   22.629999   22.780001   \n",
       "4   ADBE  2014-01-16   61.590000   61.980000   61.259998   61.630001   \n",
       "\n",
       "    Adj.Close    Volume       revenue  gross_profit    ...           MFI  \\\n",
       "0  173.000000   2975000  9.522913e+09  5.866424e+09    ...     42.611467   \n",
       "1   65.324356  10263200  6.622000e+09  3.916000e+09    ...     39.304866   \n",
       "2  163.875153   4770300  2.738500e+10  1.062700e+10    ...     45.818767   \n",
       "3   19.831251  38918100  1.208500e+10  7.407000e+09    ...     40.648559   \n",
       "4   61.630001   3747800  1.000120e+09  8.516110e+08    ...     43.238445   \n",
       "\n",
       "      Volat    CMO.Ad     CMO.Vo     RunMean       RunSD          GMMA  \\\n",
       "0  0.195193  5.660541 -36.456573  133.189018  190.302970  1.332843e+07   \n",
       "1  0.194706 -2.040986   2.451821  104.865723  173.466198  1.179582e+07   \n",
       "2  0.192173  6.384432 -13.435674  121.638723  172.565988  8.283059e+06   \n",
       "3  0.182808 -0.972015   7.983797  123.149723  171.520173  2.360058e+07   \n",
       "4  0.175726  1.249604  -4.414016  125.623723  170.311890  1.367419e+07   \n",
       "\n",
       "          KST       DPO       DVI  \n",
       "0 -315.754725 -11480300  0.596032  \n",
       "1 -294.546266  -8751740  0.768254  \n",
       "2 -246.890280  -9011560  0.613492  \n",
       "3 -191.905480  25906940  0.378571  \n",
       "4 -113.246354  -9203390  0.365079  \n",
       "\n",
       "[5 rows x 51 columns]"
      ]
     },
     "execution_count": 3,
     "metadata": {},
     "output_type": "execute_result"
    }
   ],
   "source": [
    "df.head()"
   ]
  },
  {
   "cell_type": "markdown",
   "metadata": {},
   "source": [
    "##### This main dataset including 14 stocks."
   ]
  },
  {
   "cell_type": "code",
   "execution_count": 4,
   "metadata": {},
   "outputs": [
    {
     "data": {
      "text/plain": [
       "['BIDU',\n",
       " 'QCOM',\n",
       " 'IBM',\n",
       " 'CSCO',\n",
       " 'ADBE',\n",
       " 'CRM',\n",
       " 'TXN',\n",
       " 'INTC',\n",
       " 'NVDA',\n",
       " 'MSFT',\n",
       " 'GOOGL',\n",
       " 'ORCL',\n",
       " 'AAPL',\n",
       " 'MU']"
      ]
     },
     "execution_count": 4,
     "metadata": {},
     "output_type": "execute_result"
    }
   ],
   "source": [
    "list(df.symbol.unique())"
   ]
  },
  {
   "cell_type": "markdown",
   "metadata": {},
   "source": [
    "##### The objective of this project "
   ]
  },
  {
   "cell_type": "code",
   "execution_count": 5,
   "metadata": {},
   "outputs": [],
   "source": [
    "df['tendency'] = np.where(df.Close - df.Open > 0, 'Up', 'Down')"
   ]
  },
  {
   "cell_type": "code",
   "execution_count": 6,
   "metadata": {},
   "outputs": [],
   "source": [
    "BIDU = df[df.symbol == 'BIDU']\n",
    "QCOM = df[df.symbol == 'QCOM']\n",
    "IBM = df[df.symbol == 'IBM']\n",
    "CSCO = df[df.symbol == 'CSCO']\n",
    "ADBE = df[df.symbol == 'ADBE']\n",
    "CRM = df[df.symbol == 'CRM']\n",
    "TXN = df[df.symbol == 'TXN']\n",
    "INTC = df[df.symbol == 'INTC']\n",
    "NVDA = df[df.symbol == 'NVDA']\n",
    "MSFT = df[df.symbol == 'MSFT']\n",
    "GOOGL = df[df.symbol == 'GOOGL']\n",
    "ORCL = df[df.symbol == 'ORCL']\n",
    "AAPL = df[df.symbol == 'AAPL']\n",
    "MU = df[df.symbol == 'MU']"
   ]
  },
  {
   "cell_type": "code",
   "execution_count": 7,
   "metadata": {},
   "outputs": [
    {
     "data": {
      "text/plain": [
       "Index(['symbol', 'Date', 'Open', 'High', 'Low', 'Close', 'Adj.Close', 'Volume',\n",
       "       'revenue', 'gross_profit', 'net_income', 'cash_from_operation',\n",
       "       'basic_earning_per_share', 'free_cash_flow', 'market_capital',\n",
       "       'enterprise_value', 'VWAP_volume', 'VWAP_bid_volume_percentage',\n",
       "       'VWAP_ask_volume_percentage', 'px_ask', 'px_bid', 'px_mid', 'px_volume',\n",
       "       'total_analyst_recommendation', 'turn_over', 'egy_rec', 'MACD', 'RSI',\n",
       "       'TRIX', 'SAR', 'ROC.Vo', 'ROC.Cl', 'CCI', 'ATR', 'SMI', 'ADX', 'Aroon',\n",
       "       'BB', 'ChaikinVol', 'CLV', 'EMV', 'MFI', 'Volat', 'CMO.Ad', 'CMO.Vo',\n",
       "       'RunMean', 'RunSD', 'GMMA', 'KST', 'DPO', 'DVI', 'tendency'],\n",
       "      dtype='object')"
      ]
     },
     "execution_count": 7,
     "metadata": {},
     "output_type": "execute_result"
    }
   ],
   "source": [
    "df.columns"
   ]
  },
  {
   "cell_type": "code",
   "execution_count": 8,
   "metadata": {},
   "outputs": [
    {
     "data": {
      "text/plain": [
       "52"
      ]
     },
     "execution_count": 8,
     "metadata": {},
     "output_type": "execute_result"
    }
   ],
   "source": [
    "len(df.columns)"
   ]
  },
  {
   "cell_type": "markdown",
   "metadata": {},
   "source": [
    "#### In this part, I concat 14 datasets and got 1 main dataset as 'raw_data.csv'. There are 52 columns including symbol which identify different stock tickets and Date which is the time series stap and the other independent variables and dependent variables(tendency) we already introduced in the previous parts. The techniqal predictors like MACD, RSI, TRIX was calculated with function in R studio with quantmod library and TTR library(code attached).\n",
    "\n",
    "#### Also, I seperated the main dataset into 14 subdataset according the tickets name."
   ]
  },
  {
   "cell_type": "code",
   "execution_count": 9,
   "metadata": {
    "scrolled": true
   },
   "outputs": [
    {
     "name": "stdout",
     "output_type": "stream",
     "text": [
      "<class 'pandas.core.frame.DataFrame'>\n",
      "RangeIndex: 18059 entries, 0 to 18058\n",
      "Data columns (total 52 columns):\n",
      "symbol                          18059 non-null object\n",
      "Date                            18059 non-null object\n",
      "Open                            18059 non-null float64\n",
      "High                            18059 non-null float64\n",
      "Low                             18059 non-null float64\n",
      "Close                           18059 non-null float64\n",
      "Adj.Close                       18059 non-null float64\n",
      "Volume                          18059 non-null int64\n",
      "revenue                         18059 non-null float64\n",
      "gross_profit                    18059 non-null float64\n",
      "net_income                      18059 non-null float64\n",
      "cash_from_operation             18059 non-null float64\n",
      "basic_earning_per_share         18059 non-null float64\n",
      "free_cash_flow                  18059 non-null float64\n",
      "market_capital                  18059 non-null float64\n",
      "enterprise_value                18059 non-null float64\n",
      "VWAP_volume                     18059 non-null int64\n",
      "VWAP_bid_volume_percentage      18059 non-null float64\n",
      "VWAP_ask_volume_percentage      18059 non-null float64\n",
      "px_ask                          18059 non-null float64\n",
      "px_bid                          18059 non-null float64\n",
      "px_mid                          18059 non-null float64\n",
      "px_volume                       18059 non-null int64\n",
      "total_analyst_recommendation    18059 non-null int64\n",
      "turn_over                       18059 non-null float64\n",
      "egy_rec                         18059 non-null float64\n",
      "MACD                            18059 non-null float64\n",
      "RSI                             18059 non-null float64\n",
      "TRIX                            18059 non-null float64\n",
      "SAR                             18059 non-null float64\n",
      "ROC.Vo                          18059 non-null float64\n",
      "ROC.Cl                          18059 non-null float64\n",
      "CCI                             18059 non-null float64\n",
      "ATR                             18059 non-null float64\n",
      "SMI                             18059 non-null float64\n",
      "ADX                             18059 non-null float64\n",
      "Aroon                           18059 non-null int64\n",
      "BB                              18059 non-null float64\n",
      "ChaikinVol                      18059 non-null float64\n",
      "CLV                             18059 non-null float64\n",
      "EMV                             18059 non-null float64\n",
      "MFI                             18059 non-null float64\n",
      "Volat                           18059 non-null float64\n",
      "CMO.Ad                          18059 non-null float64\n",
      "CMO.Vo                          18059 non-null float64\n",
      "RunMean                         18059 non-null float64\n",
      "RunSD                           18059 non-null float64\n",
      "GMMA                            18059 non-null float64\n",
      "KST                             18059 non-null float64\n",
      "DPO                             18059 non-null int64\n",
      "DVI                             18059 non-null float64\n",
      "tendency                        18059 non-null object\n",
      "dtypes: float64(43), int64(6), object(3)\n",
      "memory usage: 7.2+ MB\n"
     ]
    }
   ],
   "source": [
    "df.info()"
   ]
  },
  {
   "cell_type": "code",
   "execution_count": 10,
   "metadata": {},
   "outputs": [
    {
     "data": {
      "text/html": [
       "<div>\n",
       "<style scoped>\n",
       "    .dataframe tbody tr th:only-of-type {\n",
       "        vertical-align: middle;\n",
       "    }\n",
       "\n",
       "    .dataframe tbody tr th {\n",
       "        vertical-align: top;\n",
       "    }\n",
       "\n",
       "    .dataframe thead th {\n",
       "        text-align: right;\n",
       "    }\n",
       "</style>\n",
       "<table border=\"1\" class=\"dataframe\">\n",
       "  <thead>\n",
       "    <tr style=\"text-align: right;\">\n",
       "      <th></th>\n",
       "      <th>Open</th>\n",
       "      <th>High</th>\n",
       "      <th>Low</th>\n",
       "      <th>Close</th>\n",
       "      <th>Adj.Close</th>\n",
       "      <th>Volume</th>\n",
       "      <th>revenue</th>\n",
       "      <th>gross_profit</th>\n",
       "      <th>net_income</th>\n",
       "      <th>cash_from_operation</th>\n",
       "      <th>...</th>\n",
       "      <th>MFI</th>\n",
       "      <th>Volat</th>\n",
       "      <th>CMO.Ad</th>\n",
       "      <th>CMO.Vo</th>\n",
       "      <th>RunMean</th>\n",
       "      <th>RunSD</th>\n",
       "      <th>GMMA</th>\n",
       "      <th>KST</th>\n",
       "      <th>DPO</th>\n",
       "      <th>DVI</th>\n",
       "    </tr>\n",
       "  </thead>\n",
       "  <tbody>\n",
       "    <tr>\n",
       "      <th>count</th>\n",
       "      <td>18059.000000</td>\n",
       "      <td>18059.000000</td>\n",
       "      <td>18059.000000</td>\n",
       "      <td>18059.000000</td>\n",
       "      <td>18059.000000</td>\n",
       "      <td>1.805900e+04</td>\n",
       "      <td>1.805900e+04</td>\n",
       "      <td>1.805900e+04</td>\n",
       "      <td>1.805900e+04</td>\n",
       "      <td>1.805900e+04</td>\n",
       "      <td>...</td>\n",
       "      <td>18059.000000</td>\n",
       "      <td>18059.000000</td>\n",
       "      <td>18059.000000</td>\n",
       "      <td>18059.000000</td>\n",
       "      <td>18059.000000</td>\n",
       "      <td>18059.000000</td>\n",
       "      <td>1.805900e+04</td>\n",
       "      <td>18059.000000</td>\n",
       "      <td>1.805900e+04</td>\n",
       "      <td>18059.000000</td>\n",
       "    </tr>\n",
       "    <tr>\n",
       "      <th>mean</th>\n",
       "      <td>119.346919</td>\n",
       "      <td>120.399063</td>\n",
       "      <td>118.234261</td>\n",
       "      <td>119.349536</td>\n",
       "      <td>116.585815</td>\n",
       "      <td>1.718009e+07</td>\n",
       "      <td>1.277490e+10</td>\n",
       "      <td>6.809537e+09</td>\n",
       "      <td>2.588885e+09</td>\n",
       "      <td>4.031625e+09</td>\n",
       "      <td>...</td>\n",
       "      <td>59.868892</td>\n",
       "      <td>0.211419</td>\n",
       "      <td>-0.000447</td>\n",
       "      <td>-0.017308</td>\n",
       "      <td>118.931814</td>\n",
       "      <td>154.479312</td>\n",
       "      <td>1.721204e+07</td>\n",
       "      <td>-1.032719</td>\n",
       "      <td>-5.409197e+04</td>\n",
       "      <td>0.503411</td>\n",
       "    </tr>\n",
       "    <tr>\n",
       "      <th>std</th>\n",
       "      <td>175.215043</td>\n",
       "      <td>176.539832</td>\n",
       "      <td>173.697194</td>\n",
       "      <td>175.158512</td>\n",
       "      <td>175.453048</td>\n",
       "      <td>2.072964e+07</td>\n",
       "      <td>1.373257e+10</td>\n",
       "      <td>5.855213e+09</td>\n",
       "      <td>3.402457e+09</td>\n",
       "      <td>4.708811e+09</td>\n",
       "      <td>...</td>\n",
       "      <td>16.772479</td>\n",
       "      <td>0.073395</td>\n",
       "      <td>14.658404</td>\n",
       "      <td>11.136296</td>\n",
       "      <td>45.496788</td>\n",
       "      <td>87.742474</td>\n",
       "      <td>1.213101e+07</td>\n",
       "      <td>285.191008</td>\n",
       "      <td>1.954321e+07</td>\n",
       "      <td>0.248344</td>\n",
       "    </tr>\n",
       "    <tr>\n",
       "      <th>min</th>\n",
       "      <td>6.600000</td>\n",
       "      <td>6.670000</td>\n",
       "      <td>6.450000</td>\n",
       "      <td>6.630000</td>\n",
       "      <td>6.630000</td>\n",
       "      <td>5.206000e+05</td>\n",
       "      <td>6.954670e+08</td>\n",
       "      <td>2.170000e+08</td>\n",
       "      <td>-5.953000e+09</td>\n",
       "      <td>-6.580000e+08</td>\n",
       "      <td>...</td>\n",
       "      <td>9.376393</td>\n",
       "      <td>0.080242</td>\n",
       "      <td>-76.113940</td>\n",
       "      <td>-66.934727</td>\n",
       "      <td>32.618000</td>\n",
       "      <td>13.652954</td>\n",
       "      <td>1.517170e+06</td>\n",
       "      <td>-998.910743</td>\n",
       "      <td>-6.293755e+07</td>\n",
       "      <td>0.003968</td>\n",
       "    </tr>\n",
       "    <tr>\n",
       "      <th>25%</th>\n",
       "      <td>35.014999</td>\n",
       "      <td>35.254999</td>\n",
       "      <td>34.764999</td>\n",
       "      <td>35.009998</td>\n",
       "      <td>33.089050</td>\n",
       "      <td>3.825700e+06</td>\n",
       "      <td>3.028000e+09</td>\n",
       "      <td>1.511039e+09</td>\n",
       "      <td>3.620000e+08</td>\n",
       "      <td>7.350810e+08</td>\n",
       "      <td>...</td>\n",
       "      <td>48.563582</td>\n",
       "      <td>0.167519</td>\n",
       "      <td>-2.875123</td>\n",
       "      <td>-5.103133</td>\n",
       "      <td>81.966500</td>\n",
       "      <td>61.117030</td>\n",
       "      <td>9.322607e+06</td>\n",
       "      <td>-196.782029</td>\n",
       "      <td>-1.152518e+07</td>\n",
       "      <td>0.295238</td>\n",
       "    </tr>\n",
       "    <tr>\n",
       "      <th>50%</th>\n",
       "      <td>60.500000</td>\n",
       "      <td>61.127144</td>\n",
       "      <td>59.880001</td>\n",
       "      <td>60.599998</td>\n",
       "      <td>56.318432</td>\n",
       "      <td>9.504400e+06</td>\n",
       "      <td>9.522913e+09</td>\n",
       "      <td>7.276000e+09</td>\n",
       "      <td>2.045000e+09</td>\n",
       "      <td>3.174000e+09</td>\n",
       "      <td>...</td>\n",
       "      <td>62.952710</td>\n",
       "      <td>0.198005</td>\n",
       "      <td>0.060122</td>\n",
       "      <td>-0.042473</td>\n",
       "      <td>115.597520</td>\n",
       "      <td>158.334194</td>\n",
       "      <td>1.423622e+07</td>\n",
       "      <td>9.315163</td>\n",
       "      <td>-5.262550e+06</td>\n",
       "      <td>0.502381</td>\n",
       "    </tr>\n",
       "    <tr>\n",
       "      <th>75%</th>\n",
       "      <td>128.464996</td>\n",
       "      <td>129.610001</td>\n",
       "      <td>127.474998</td>\n",
       "      <td>128.629997</td>\n",
       "      <td>123.072307</td>\n",
       "      <td>2.399770e+07</td>\n",
       "      <td>1.637400e+10</td>\n",
       "      <td>9.388000e+09</td>\n",
       "      <td>2.950000e+09</td>\n",
       "      <td>4.722000e+09</td>\n",
       "      <td>...</td>\n",
       "      <td>72.935385</td>\n",
       "      <td>0.237753</td>\n",
       "      <td>2.971594</td>\n",
       "      <td>5.029891</td>\n",
       "      <td>145.487500</td>\n",
       "      <td>223.218946</td>\n",
       "      <td>2.129667e+07</td>\n",
       "      <td>201.682162</td>\n",
       "      <td>8.058325e+06</td>\n",
       "      <td>0.711111</td>\n",
       "    </tr>\n",
       "    <tr>\n",
       "      <th>max</th>\n",
       "      <td>1188.000000</td>\n",
       "      <td>1198.000000</td>\n",
       "      <td>1184.060059</td>\n",
       "      <td>1187.560059</td>\n",
       "      <td>1187.560059</td>\n",
       "      <td>3.652131e+08</td>\n",
       "      <td>8.829300e+10</td>\n",
       "      <td>3.391200e+10</td>\n",
       "      <td>2.471181e+10</td>\n",
       "      <td>3.372200e+10</td>\n",
       "      <td>...</td>\n",
       "      <td>95.782460</td>\n",
       "      <td>1.570447</td>\n",
       "      <td>75.351047</td>\n",
       "      <td>73.819299</td>\n",
       "      <td>311.772003</td>\n",
       "      <td>410.328487</td>\n",
       "      <td>1.874016e+08</td>\n",
       "      <td>929.178551</td>\n",
       "      <td>3.022941e+08</td>\n",
       "      <td>1.000000</td>\n",
       "    </tr>\n",
       "  </tbody>\n",
       "</table>\n",
       "<p>8 rows × 49 columns</p>\n",
       "</div>"
      ],
      "text/plain": [
       "               Open          High           Low         Close     Adj.Close  \\\n",
       "count  18059.000000  18059.000000  18059.000000  18059.000000  18059.000000   \n",
       "mean     119.346919    120.399063    118.234261    119.349536    116.585815   \n",
       "std      175.215043    176.539832    173.697194    175.158512    175.453048   \n",
       "min        6.600000      6.670000      6.450000      6.630000      6.630000   \n",
       "25%       35.014999     35.254999     34.764999     35.009998     33.089050   \n",
       "50%       60.500000     61.127144     59.880001     60.599998     56.318432   \n",
       "75%      128.464996    129.610001    127.474998    128.629997    123.072307   \n",
       "max     1188.000000   1198.000000   1184.060059   1187.560059   1187.560059   \n",
       "\n",
       "             Volume       revenue  gross_profit    net_income  \\\n",
       "count  1.805900e+04  1.805900e+04  1.805900e+04  1.805900e+04   \n",
       "mean   1.718009e+07  1.277490e+10  6.809537e+09  2.588885e+09   \n",
       "std    2.072964e+07  1.373257e+10  5.855213e+09  3.402457e+09   \n",
       "min    5.206000e+05  6.954670e+08  2.170000e+08 -5.953000e+09   \n",
       "25%    3.825700e+06  3.028000e+09  1.511039e+09  3.620000e+08   \n",
       "50%    9.504400e+06  9.522913e+09  7.276000e+09  2.045000e+09   \n",
       "75%    2.399770e+07  1.637400e+10  9.388000e+09  2.950000e+09   \n",
       "max    3.652131e+08  8.829300e+10  3.391200e+10  2.471181e+10   \n",
       "\n",
       "       cash_from_operation      ...                MFI         Volat  \\\n",
       "count         1.805900e+04      ...       18059.000000  18059.000000   \n",
       "mean          4.031625e+09      ...          59.868892      0.211419   \n",
       "std           4.708811e+09      ...          16.772479      0.073395   \n",
       "min          -6.580000e+08      ...           9.376393      0.080242   \n",
       "25%           7.350810e+08      ...          48.563582      0.167519   \n",
       "50%           3.174000e+09      ...          62.952710      0.198005   \n",
       "75%           4.722000e+09      ...          72.935385      0.237753   \n",
       "max           3.372200e+10      ...          95.782460      1.570447   \n",
       "\n",
       "             CMO.Ad        CMO.Vo       RunMean         RunSD          GMMA  \\\n",
       "count  18059.000000  18059.000000  18059.000000  18059.000000  1.805900e+04   \n",
       "mean      -0.000447     -0.017308    118.931814    154.479312  1.721204e+07   \n",
       "std       14.658404     11.136296     45.496788     87.742474  1.213101e+07   \n",
       "min      -76.113940    -66.934727     32.618000     13.652954  1.517170e+06   \n",
       "25%       -2.875123     -5.103133     81.966500     61.117030  9.322607e+06   \n",
       "50%        0.060122     -0.042473    115.597520    158.334194  1.423622e+07   \n",
       "75%        2.971594      5.029891    145.487500    223.218946  2.129667e+07   \n",
       "max       75.351047     73.819299    311.772003    410.328487  1.874016e+08   \n",
       "\n",
       "                KST           DPO           DVI  \n",
       "count  18059.000000  1.805900e+04  18059.000000  \n",
       "mean      -1.032719 -5.409197e+04      0.503411  \n",
       "std      285.191008  1.954321e+07      0.248344  \n",
       "min     -998.910743 -6.293755e+07      0.003968  \n",
       "25%     -196.782029 -1.152518e+07      0.295238  \n",
       "50%        9.315163 -5.262550e+06      0.502381  \n",
       "75%      201.682162  8.058325e+06      0.711111  \n",
       "max      929.178551  3.022941e+08      1.000000  \n",
       "\n",
       "[8 rows x 49 columns]"
      ]
     },
     "execution_count": 10,
     "metadata": {},
     "output_type": "execute_result"
    }
   ],
   "source": [
    "df.describe()"
   ]
  },
  {
   "cell_type": "markdown",
   "metadata": {},
   "source": [
    "#### Now I will seperate the dependent variable and independent variable. X will include all independent variables and y will represent the target output - tendency of stock price."
   ]
  },
  {
   "cell_type": "code",
   "execution_count": 11,
   "metadata": {},
   "outputs": [],
   "source": [
    "X = df.iloc[:,2:-1]"
   ]
  },
  {
   "cell_type": "code",
   "execution_count": 12,
   "metadata": {},
   "outputs": [],
   "source": [
    "y = df.tendency"
   ]
  },
  {
   "cell_type": "code",
   "execution_count": 13,
   "metadata": {},
   "outputs": [],
   "source": [
    "X_train, X_test, y_train, y_test = train_test_split(X, y, test_size=0.2, shuffle=False)"
   ]
  },
  {
   "cell_type": "code",
   "execution_count": 14,
   "metadata": {},
   "outputs": [],
   "source": [
    "def plot_confusion_matrix(cm, classes,\n",
    "                          normalize=False,\n",
    "                          title='Confusion matrix',\n",
    "                          cmap=plt.cm.Blues):\n",
    "    \"\"\"\n",
    "    This function prints and plots the confusion matrix.\n",
    "    Normalization can be applied by setting `normalize=True`.\n",
    "    \"\"\"\n",
    "    if normalize:\n",
    "        cm = cm.astype('float') / cm.sum(axis=1)[:, np.newaxis]\n",
    "        print(\"Normalized confusion matrix\")\n",
    "    else:\n",
    "        print('Confusion matrix, without normalization')\n",
    "\n",
    "    print(cm)\n",
    "\n",
    "    plt.imshow(cm, interpolation='nearest', cmap=cmap)\n",
    "    plt.title(title)\n",
    "    plt.colorbar()\n",
    "    tick_marks = np.arange(len(classes))\n",
    "    plt.xticks(tick_marks, classes, rotation=45)\n",
    "    plt.yticks(tick_marks, classes)\n",
    "\n",
    "    fmt = '.2f' if normalize else 'd'\n",
    "    thresh = cm.max() / 2.\n",
    "    for i, j in itertools.product(range(cm.shape[0]), range(cm.shape[1])):\n",
    "        plt.text(j, i, format(cm[i, j], fmt),\n",
    "                 horizontalalignment=\"center\",\n",
    "                 color=\"white\" if cm[i, j] > thresh else \"black\")\n",
    "\n",
    "    plt.tight_layout()\n",
    "    plt.ylabel('True label')\n",
    "    plt.xlabel('Predicted label')"
   ]
  },
  {
   "cell_type": "markdown",
   "metadata": {},
   "source": [
    "## III. 2 Random Forest Algorithm\n",
    "\n",
    "#### The first algorithm I will use is Random Forest Algorithm. It is an upgrated verision of decision tree since it randomly start, bag the tree, boost to sequenced tree, and then decorrelate those trees. Finally, it vote to make decision in classification problem. \n",
    "#### Meanwhile, it also reduce the overfiting and could indicate the importance of each independent variable.  \n",
    "#### That's the reason why I choose Random Forest Algorithm as the first method."
   ]
  },
  {
   "cell_type": "markdown",
   "metadata": {},
   "source": [
    "### Train"
   ]
  },
  {
   "cell_type": "code",
   "execution_count": 15,
   "metadata": {},
   "outputs": [],
   "source": [
    "rf=RandomForestClassifier()\n",
    "rf = rf.fit(X_train, y_train)"
   ]
  },
  {
   "cell_type": "code",
   "execution_count": 16,
   "metadata": {},
   "outputs": [],
   "source": [
    "new_layer = ['Up', 'Down']\n",
    "ticket_li = ['BIDU','QCOM','IBM','CSCO','ADBE','CRM','TXN','INTC','NVDA','MSFT','GOOGL','ORCL','AAPL','MU']"
   ]
  },
  {
   "cell_type": "markdown",
   "metadata": {},
   "source": [
    "### Predict"
   ]
  },
  {
   "cell_type": "code",
   "execution_count": 17,
   "metadata": {},
   "outputs": [
    {
     "name": "stdout",
     "output_type": "stream",
     "text": [
      "Confusion matrix, without normalization\n",
      "[[1256  475]\n",
      " [ 702 1179]]\n"
     ]
    },
    {
     "data": {
      "image/png": "[encoded data removed]",
      "text/plain": [
       "<matplotlib.figure.Figure at 0x1bb6837dcf8>"
      ]
     },
     "metadata": {},
     "output_type": "display_data"
    }
   ],
   "source": [
    "rf_prediction= rf.predict(X_test)\n",
    "xtab = confusion_matrix(y_test, rf_prediction)\n",
    "plot_confusion_matrix(xtab, classes=new_layer)"
   ]
  },
  {
   "cell_type": "code",
   "execution_count": 18,
   "metadata": {},
   "outputs": [
    {
     "name": "stdout",
     "output_type": "stream",
     "text": [
      "Accuracy: 0.6741417497231451\n"
     ]
    }
   ],
   "source": [
    "rf_acc = accuracy_score(y_test, rf_prediction)\n",
    "print('Accuracy:',rf_acc)"
   ]
  },
  {
   "cell_type": "markdown",
   "metadata": {},
   "source": [
    "#### The confusion matrix seems good. We have 66.86% accuracy at the first try. Now I would like to build two more models only for 'Up' class or  'Down' class."
   ]
  },
  {
   "cell_type": "code",
   "execution_count": 19,
   "metadata": {},
   "outputs": [
    {
     "data": {
      "text/plain": [
       "[['BIDU', 0.6405993278566094],\n",
       " ['QCOM', 0.6523541492773359],\n",
       " ['IBM', 0.670870319001387],\n",
       " ['CSCO', 0.6610859728506788],\n",
       " ['ADBE', 0.6802814142834132],\n",
       " ['CRM', 0.6659948789075003],\n",
       " ['TXN', 0.6783140403286034],\n",
       " ['INTC', 0.6622655122655123],\n",
       " ['NVDA', 0.6952483196415236],\n",
       " ['MSFT', 0.6508524485223514],\n",
       " ['GOOGL', 0.6435423347830543],\n",
       " ['ORCL', 0.633724705714997],\n",
       " ['AAPL', 0.6201923076923077],\n",
       " ['MU', 0.6654312920089619]]"
      ]
     },
     "execution_count": 19,
     "metadata": {},
     "output_type": "execute_result"
    }
   ],
   "source": [
    "rf_acc_li = []\n",
    "for ticket_name in ticket_li:\n",
    "    ticket_df = df[df.symbol == ticket_name]\n",
    "    ticket_X = ticket_df.iloc[:,2:-1]\n",
    "    tiecket_y = ticket_df.tendency\n",
    "    ticket_X_train, ticket_X_test, ticket_y_train, ticket_y_test = train_test_split(ticket_X, tiecket_y, test_size=0.2, shuffle=False)\n",
    "    y_adj = np.array(ticket_y_train)\n",
    "    scores = (cross_val_score(rf, ticket_X_train, y_adj, cv=10, scoring='accuracy')).mean()\n",
    "    rf_acc_li.append([ticket_name, scores])\n",
    "rf_acc_li"
   ]
  },
  {
   "cell_type": "markdown",
   "metadata": {},
   "source": [
    "#### The performance of sub dataset looks similar to the main dataset. The accuracy rate between 61.06% and 69.14%. \n",
    "\n",
    "#### I think tune the Random Forest model will elevate the performance.\n",
    "\n",
    "#### Now I will check what kinds of parameters could be changed."
   ]
  },
  {
   "cell_type": "markdown",
   "metadata": {},
   "source": [
    "### Parameters"
   ]
  },
  {
   "cell_type": "code",
   "execution_count": 20,
   "metadata": {},
   "outputs": [
    {
     "data": {
      "text/plain": [
       "dict_keys(['bootstrap', 'class_weight', 'criterion', 'max_depth', 'max_features', 'max_leaf_nodes', 'min_impurity_decrease', 'min_impurity_split', 'min_samples_leaf', 'min_samples_split', 'min_weight_fraction_leaf', 'n_estimators', 'n_jobs', 'oob_score', 'random_state', 'verbose', 'warm_start'])"
      ]
     },
     "execution_count": 20,
     "metadata": {},
     "output_type": "execute_result"
    }
   ],
   "source": [
    "rf.get_params().keys()"
   ]
  },
  {
   "cell_type": "markdown",
   "metadata": {},
   "source": [
    "### Tune with gridsearch"
   ]
  },
  {
   "cell_type": "code",
   "execution_count": null,
   "metadata": {},
   "outputs": [],
   "source": [
    "%%time\n",
    "#tuning\n",
    "param_grid = { \n",
    "    'n_estimators': [100, 200, 700],\n",
    "    'max_features': ['auto','sqrt', 'log2']\n",
    "}\n",
    "\n",
    "CV_rf_grid = GridSearchCV(estimator=rf, param_grid=param_grid, cv= 5)\n",
    "CV_rf_grid.fit(X_train, y_train)\n",
    "print (CV_rf_grid.best_params_)"
   ]
  },
  {
   "cell_type": "markdown",
   "metadata": {},
   "source": [
    "#### It took 16min 27s to tune the random forest model. And I got a better parameter now. I will use this better parameter to fit the dataset and predict the tendency of stock prices."
   ]
  },
  {
   "cell_type": "code",
   "execution_count": 22,
   "metadata": {},
   "outputs": [
    {
     "name": "stdout",
     "output_type": "stream",
     "text": [
      "Confusion matrix, without normalization\n",
      "[[1234  497]\n",
      " [ 562 1319]]\n"
     ]
    },
    {
     "data": {
      "image/png": "[encoded data removed]",
      "text/plain": [
       "<matplotlib.figure.Figure at 0x16bcd9546a0>"
      ]
     },
     "metadata": {},
     "output_type": "display_data"
    }
   ],
   "source": [
    "rf_best_grid = CV_rf_grid.best_estimator_\n",
    "rf_best_grid = rf_best_grid.fit(X_train, y_train)\n",
    "rf_best_prediction_grid = rf_best_grid.predict(X_test)\n",
    "xtab = confusion_matrix(y_test, rf_best_prediction_grid)\n",
    "plot_confusion_matrix(xtab, classes=new_layer)"
   ]
  },
  {
   "cell_type": "code",
   "execution_count": 23,
   "metadata": {},
   "outputs": [
    {
     "name": "stdout",
     "output_type": "stream",
     "text": [
      "Accuracy: 0.7068106312292359\n"
     ]
    }
   ],
   "source": [
    "rf_best_acc_grid = accuracy_score(y_test, rf_best_prediction_grid)\n",
    "print('Accuracy:',rf_best_acc_grid) "
   ]
  },
  {
   "cell_type": "markdown",
   "metadata": {},
   "source": [
    "#### The result seems good. The accuracy was improved from 66.86% to 71.34 %.\n",
    "\n",
    "#### Now, I will try the random search method to tune the model."
   ]
  },
  {
   "cell_type": "markdown",
   "metadata": {},
   "source": [
    "### Tuning with random search"
   ]
  },
  {
   "cell_type": "code",
   "execution_count": 24,
   "metadata": {},
   "outputs": [],
   "source": [
    "param_dist = {\"max_depth\": [3, None],\n",
    "              \"max_features\": sp_randint(1, 11),\n",
    "              \"min_samples_split\": sp_randint(2, 11),\n",
    "              \"min_samples_leaf\": sp_randint(1, 11),\n",
    "              \"bootstrap\": [True, False],\n",
    "              \"criterion\": [\"gini\", \"entropy\"]}\n",
    "\n",
    "# run randomized search\n",
    "n_iter_search = 100\n",
    "CV_rf_random = RandomizedSearchCV(rf, param_distributions=param_dist,n_iter=n_iter_search)"
   ]
  },
  {
   "cell_type": "code",
   "execution_count": 25,
   "metadata": {},
   "outputs": [
    {
     "data": {
      "text/plain": [
       "RandomizedSearchCV(cv=None, error_score='raise',\n",
       "          estimator=RandomForestClassifier(bootstrap=True, class_weight=None, criterion='gini',\n",
       "            max_depth=None, max_features='auto', max_leaf_nodes=None,\n",
       "            min_impurity_decrease=0.0, min_impurity_split=None,\n",
       "            min_samples_leaf=1, min_samples_split=2,\n",
       "            min_weight_fraction_leaf=0.0, n_estimators=10, n_jobs=1,\n",
       "            oob_score=False, random_state=None, verbose=0,\n",
       "            warm_start=False),\n",
       "          fit_params=None, iid=True, n_iter=100, n_jobs=1,\n",
       "          param_distributions={'max_depth': [3, None], 'max_features': <scipy.stats._distn_infrastructure.rv_frozen object at 0x0000016BCB561278>, 'min_samples_split': <scipy.stats._distn_infrastructure.rv_frozen object at 0x0000016BCBCE0A90>, 'min_samples_leaf': <scipy.stats._distn_infrastructure.rv_frozen object at 0x0000016BCD95F358>, 'bootstrap': [True, False], 'criterion': ['gini', 'entropy']},\n",
       "          pre_dispatch='2*n_jobs', random_state=None, refit=True,\n",
       "          return_train_score='warn', scoring=None, verbose=0)"
      ]
     },
     "execution_count": 25,
     "metadata": {},
     "output_type": "execute_result"
    }
   ],
   "source": [
    "start = time()\n",
    "CV_rf_random.fit(X_train, y_train)"
   ]
  },
  {
   "cell_type": "code",
   "execution_count": 26,
   "metadata": {},
   "outputs": [],
   "source": [
    "def report(results, n_top=3):\n",
    "    for i in range(1, n_top + 1):\n",
    "        candidates = np.flatnonzero(results['rank_test_score'] == i)\n",
    "        for candidate in candidates:\n",
    "            print(\"Model with rank: {0}\".format(i))\n",
    "            print(\"Mean validation score: {0:.3f} (std: {1:.3f})\".format(\n",
    "                  results['mean_test_score'][candidate],\n",
    "                  results['std_test_score'][candidate]))\n",
    "            print(\"Parameters: {0}\".format(results['params'][candidate]))\n",
    "            print(\"\")"
   ]
  },
  {
   "cell_type": "code",
   "execution_count": 27,
   "metadata": {},
   "outputs": [
    {
     "name": "stdout",
     "output_type": "stream",
     "text": [
      "RandomizedSearchCV took 132.46 seconds for 100 candidates parameter settings.\n",
      "Model with rank: 1\n",
      "Mean validation score: 0.706 (std: 0.013)\n",
      "Parameters: {'bootstrap': False, 'criterion': 'gini', 'max_depth': 3, 'max_features': 10, 'min_samples_leaf': 10, 'min_samples_split': 5}\n",
      "\n",
      "Model with rank: 2\n",
      "Mean validation score: 0.705 (std: 0.014)\n",
      "Parameters: {'bootstrap': True, 'criterion': 'entropy', 'max_depth': 3, 'max_features': 10, 'min_samples_leaf': 6, 'min_samples_split': 6}\n",
      "\n",
      "Model with rank: 3\n",
      "Mean validation score: 0.705 (std: 0.011)\n",
      "Parameters: {'bootstrap': True, 'criterion': 'entropy', 'max_depth': 3, 'max_features': 9, 'min_samples_leaf': 9, 'min_samples_split': 5}\n",
      "\n"
     ]
    }
   ],
   "source": [
    "print(\"RandomizedSearchCV took %.2f seconds for %d candidates\"\n",
    "      \" parameter settings.\" % ((time() - start), n_iter_search))\n",
    "report(CV_rf_random.cv_results_)"
   ]
  },
  {
   "cell_type": "code",
   "execution_count": 28,
   "metadata": {},
   "outputs": [
    {
     "name": "stdout",
     "output_type": "stream",
     "text": [
      "Confusion matrix, without normalization\n",
      "[[1320  411]\n",
      " [ 650 1231]]\n"
     ]
    },
    {
     "data": {
      "image/png": "[encoded data removed]",
      "text/plain": [
       "<matplotlib.figure.Figure at 0x16bcb568080>"
      ]
     },
     "metadata": {},
     "output_type": "display_data"
    }
   ],
   "source": [
    "rf_best_random = CV_rf_random.best_estimator_\n",
    "rf_best_random = rf_best_random.fit(X_train, y_train)\n",
    "rf_best_prediction_random = rf_best_random.predict(X_test)\n",
    "xtab = confusion_matrix(y_test, rf_best_prediction_random)\n",
    "plot_confusion_matrix(xtab, classes=new_layer)"
   ]
  },
  {
   "cell_type": "code",
   "execution_count": 29,
   "metadata": {},
   "outputs": [
    {
     "name": "stdout",
     "output_type": "stream",
     "text": [
      "Accuracy: 0.7062569213732004\n"
     ]
    }
   ],
   "source": [
    "rf_best_acc_random = accuracy_score(y_test, rf_best_prediction_random)\n",
    "print('Accuracy:',rf_best_acc_random) "
   ]
  },
  {
   "cell_type": "markdown",
   "metadata": {},
   "source": [
    "#### This report print top three best estimator and their accuracy performance. \n",
    "\n",
    "#### And now, I realize that using the random search approach to tune is faster than the grid search method and the accuracy rates are lower than the best estimator the grid search tuner found.\n",
    "\n",
    "#### Comparing the grid search and random search method, I got the best accuracy rate xx.xx% and I will use this best estimator to pridiect the tendency of stock price of sub datasets of 14 stocks."
   ]
  },
  {
   "cell_type": "code",
   "execution_count": 30,
   "metadata": {},
   "outputs": [],
   "source": [
    "if rf_best_acc_random > rf_best_acc_grid:\n",
    "    rf_best_m = rf_best_random\n",
    "else:\n",
    "    rf_best_m = rf_best_grid"
   ]
  },
  {
   "cell_type": "code",
   "execution_count": 31,
   "metadata": {},
   "outputs": [
    {
     "data": {
      "text/plain": [
       "[['BIDU', 0.6946788648244959],\n",
       " ['QCOM', 0.6822745976658027],\n",
       " ['IBM', 0.6931914363953199],\n",
       " ['CSCO', 0.7006410256410256],\n",
       " ['ADBE', 0.6839860738918421],\n",
       " ['CRM', 0.718227088445535],\n",
       " ['TXN', 0.7159353995519042],\n",
       " ['INTC', 0.7148319934034219],\n",
       " ['NVDA', 0.7281646751306945],\n",
       " ['MSFT', 0.7061265514420854],\n",
       " ['GOOGL', 0.7006578658349075],\n",
       " ['ORCL', 0.6697484796756642],\n",
       " ['AAPL', 0.6703808446455506],\n",
       " ['MU', 0.6963125466766245]]"
      ]
     },
     "execution_count": 31,
     "metadata": {},
     "output_type": "execute_result"
    }
   ],
   "source": [
    "rf_best_acc_li = []\n",
    "for ticket_name in ticket_li:\n",
    "    ticket_df = df[df.symbol == ticket_name]\n",
    "    ticket_X = ticket_df.iloc[:,2:-1]\n",
    "    tiecket_y = ticket_df.tendency\n",
    "    ticket_X_train, ticket_X_test, ticket_y_train, ticket_y_test = train_test_split(ticket_X, tiecket_y, test_size=0.2, shuffle=False)\n",
    "    y_adj = np.array(ticket_y_train)\n",
    "    scores = (cross_val_score(rf_best_m, ticket_X_train, y_adj, cv=10, scoring='accuracy')).mean()\n",
    "    rf_best_acc_li.append([ticket_name, scores])\n",
    "rf_best_acc_li  "
   ]
  },
  {
   "cell_type": "markdown",
   "metadata": {},
   "source": [
    "### Summary:\n",
    "#### In a word, the original accuracy(default parameter) and the accuracy after tuning perform very well. Also, the model perform well when assigning it to each stock.\n",
    "\n",
    "Main Accuracy:\n",
    "    - Original:66.86%\n",
    "    - After tuning: 71.34%\n",
    "Each Stock Accuracy:\n",
    "    - BIDU: 62.80% to 68.88%\n",
    "    - QCOM: 62.53% to 68.41%\n",
    "    - IBM: 64.58% to 69.70%\n",
    "    - CSCO: 64.29 to 69.67%\n",
    "    - ADBE: 64.61% to 68.97%\n",
    "    - CRM: 66.03% to 71.44%\n",
    "    - TXN: 67.06% to 72.65%\n",
    "    - INTC: 65.92% to 71.48%\n",
    "    - NVDA: 69.14% to 73.49%\n",
    "    - MSFT: 63.92% to 71.38%\n",
    "    - GOOGL: 66.76 to 70.64%\n",
    "    - ORCL: 61.06% to 67.75%\n",
    "    - AAPL: 64.03 to 67.13%\n",
    "    - MU: 64.12% to 69.43%\n",
    "### Importance \n",
    "#### Also, the random forest method will show the importance of each feature. I would like to check and plot the importance of each variable."
   ]
  },
  {
   "cell_type": "code",
   "execution_count": 32,
   "metadata": {},
   "outputs": [],
   "source": [
    "importances = rf_best_m.feature_importances_"
   ]
  },
  {
   "cell_type": "code",
   "execution_count": 33,
   "metadata": {},
   "outputs": [],
   "source": [
    "importances_df = pd.DataFrame({'variables':list(X_train.columns), 'importances rate': list(importances)})"
   ]
  },
  {
   "cell_type": "code",
   "execution_count": 34,
   "metadata": {},
   "outputs": [],
   "source": [
    "importance_rank = importances_df.sort_values(by='importances rate', ascending=False)"
   ]
  },
  {
   "cell_type": "code",
   "execution_count": 35,
   "metadata": {},
   "outputs": [
    {
     "data": {
      "text/plain": [
       "<matplotlib.axes._subplots.AxesSubplot at 0x16bcda84198>"
      ]
     },
     "execution_count": 35,
     "metadata": {},
     "output_type": "execute_result"
    },
    {
     "data": {
      "image/png": "[encoded data removed]",
      "text/plain": [
       "<matplotlib.figure.Figure at 0x16bcb5647f0>"
      ]
     },
     "metadata": {},
     "output_type": "display_data"
    }
   ],
   "source": [
    "f, ax = plt.subplots(figsize=(15,15))\n",
    "\n",
    "sns.barplot(y=\"variables\", x=\"importances rate\", data=importance_rank, ax=ax)"
   ]
  },
  {
   "cell_type": "markdown",
   "metadata": {},
   "source": [
    "#### According to the importance report for Random Forest Algorithm, we got a chart that showed the CLV predictor is the most significant variable. And the other technical predictors also performed well. \n",
    "\n",
    "#### While, the financial information like Gross Profit, Revenue, Cash from Operation, Free Cash Flow and Market Capital seems insignificant for daily tendency of stock prices.  Also, the basic price information like Close, Low, High, Open and Adj.Close got a lower importances rate.\n",
    "\n",
    "#### I will remove tail 15 of independent variables."
   ]
  },
  {
   "cell_type": "code",
   "execution_count": 36,
   "metadata": {},
   "outputs": [],
   "source": [
    "df_removed = df.drop(\n",
    "    ['revenue', 'gross_profit','net_income','cash_from_operation', 'free_cash_flow', 'market_capital',\n",
    "     'px_mid', 'px_ask', 'px_bid',\n",
    "     'Close', 'Low', 'High', 'Open', 'Adj.Close',\n",
    "     'total_analyst_recommendation'], axis=1)"
   ]
  },
  {
   "cell_type": "code",
   "execution_count": 37,
   "metadata": {},
   "outputs": [
    {
     "data": {
      "text/html": [
       "<div>\n",
       "<style scoped>\n",
       "    .dataframe tbody tr th:only-of-type {\n",
       "        vertical-align: middle;\n",
       "    }\n",
       "\n",
       "    .dataframe tbody tr th {\n",
       "        vertical-align: top;\n",
       "    }\n",
       "\n",
       "    .dataframe thead th {\n",
       "        text-align: right;\n",
       "    }\n",
       "</style>\n",
       "<table border=\"1\" class=\"dataframe\">\n",
       "  <thead>\n",
       "    <tr style=\"text-align: right;\">\n",
       "      <th></th>\n",
       "      <th>symbol</th>\n",
       "      <th>Date</th>\n",
       "      <th>Volume</th>\n",
       "      <th>basic_earning_per_share</th>\n",
       "      <th>enterprise_value</th>\n",
       "      <th>VWAP_volume</th>\n",
       "      <th>VWAP_bid_volume_percentage</th>\n",
       "      <th>VWAP_ask_volume_percentage</th>\n",
       "      <th>px_volume</th>\n",
       "      <th>turn_over</th>\n",
       "      <th>...</th>\n",
       "      <th>Volat</th>\n",
       "      <th>CMO.Ad</th>\n",
       "      <th>CMO.Vo</th>\n",
       "      <th>RunMean</th>\n",
       "      <th>RunSD</th>\n",
       "      <th>GMMA</th>\n",
       "      <th>KST</th>\n",
       "      <th>DPO</th>\n",
       "      <th>DVI</th>\n",
       "      <th>tendency</th>\n",
       "    </tr>\n",
       "  </thead>\n",
       "  <tbody>\n",
       "    <tr>\n",
       "      <th>0</th>\n",
       "      <td>BIDU</td>\n",
       "      <td>2014-01-16</td>\n",
       "      <td>2975000</td>\n",
       "      <td>7.952</td>\n",
       "      <td>5.747847e+10</td>\n",
       "      <td>2914381</td>\n",
       "      <td>56.0385</td>\n",
       "      <td>56.0385</td>\n",
       "      <td>2975256</td>\n",
       "      <td>512783600.0</td>\n",
       "      <td>...</td>\n",
       "      <td>0.195193</td>\n",
       "      <td>5.660541</td>\n",
       "      <td>-36.456573</td>\n",
       "      <td>133.189018</td>\n",
       "      <td>190.302970</td>\n",
       "      <td>1.332843e+07</td>\n",
       "      <td>-315.754725</td>\n",
       "      <td>-11480300</td>\n",
       "      <td>0.596032</td>\n",
       "      <td>Up</td>\n",
       "    </tr>\n",
       "    <tr>\n",
       "      <th>1</th>\n",
       "      <td>QCOM</td>\n",
       "      <td>2014-01-16</td>\n",
       "      <td>10263200</td>\n",
       "      <td>1.110</td>\n",
       "      <td>9.463863e+10</td>\n",
       "      <td>10162472</td>\n",
       "      <td>53.2438</td>\n",
       "      <td>46.7562</td>\n",
       "      <td>10270124</td>\n",
       "      <td>766335500.0</td>\n",
       "      <td>...</td>\n",
       "      <td>0.194706</td>\n",
       "      <td>-2.040986</td>\n",
       "      <td>2.451821</td>\n",
       "      <td>104.865723</td>\n",
       "      <td>173.466198</td>\n",
       "      <td>1.179582e+07</td>\n",
       "      <td>-294.546266</td>\n",
       "      <td>-8751740</td>\n",
       "      <td>0.768254</td>\n",
       "      <td>Up</td>\n",
       "    </tr>\n",
       "    <tr>\n",
       "      <th>2</th>\n",
       "      <td>IBM</td>\n",
       "      <td>2014-01-16</td>\n",
       "      <td>4770300</td>\n",
       "      <td>2.300</td>\n",
       "      <td>2.280000e+11</td>\n",
       "      <td>4721754</td>\n",
       "      <td>58.0024</td>\n",
       "      <td>41.9976</td>\n",
       "      <td>4775167</td>\n",
       "      <td>898555500.0</td>\n",
       "      <td>...</td>\n",
       "      <td>0.192173</td>\n",
       "      <td>6.384432</td>\n",
       "      <td>-13.435674</td>\n",
       "      <td>121.638723</td>\n",
       "      <td>172.565988</td>\n",
       "      <td>8.283059e+06</td>\n",
       "      <td>-246.890280</td>\n",
       "      <td>-9011560</td>\n",
       "      <td>0.613492</td>\n",
       "      <td>Up</td>\n",
       "    </tr>\n",
       "    <tr>\n",
       "      <th>3</th>\n",
       "      <td>CSCO</td>\n",
       "      <td>2014-01-16</td>\n",
       "      <td>38918100</td>\n",
       "      <td>0.370</td>\n",
       "      <td>7.933212e+10</td>\n",
       "      <td>38599217</td>\n",
       "      <td>36.3774</td>\n",
       "      <td>63.6226</td>\n",
       "      <td>38925362</td>\n",
       "      <td>886703300.0</td>\n",
       "      <td>...</td>\n",
       "      <td>0.182808</td>\n",
       "      <td>-0.972015</td>\n",
       "      <td>7.983797</td>\n",
       "      <td>123.149723</td>\n",
       "      <td>171.520173</td>\n",
       "      <td>2.360058e+07</td>\n",
       "      <td>-191.905480</td>\n",
       "      <td>25906940</td>\n",
       "      <td>0.378571</td>\n",
       "      <td>Down</td>\n",
       "    </tr>\n",
       "    <tr>\n",
       "      <th>4</th>\n",
       "      <td>ADBE</td>\n",
       "      <td>2014-01-16</td>\n",
       "      <td>3747800</td>\n",
       "      <td>0.090</td>\n",
       "      <td>3.326501e+10</td>\n",
       "      <td>3666702</td>\n",
       "      <td>47.6594</td>\n",
       "      <td>52.3406</td>\n",
       "      <td>3747779</td>\n",
       "      <td>230889800.0</td>\n",
       "      <td>...</td>\n",
       "      <td>0.175726</td>\n",
       "      <td>1.249604</td>\n",
       "      <td>-4.414016</td>\n",
       "      <td>125.623723</td>\n",
       "      <td>170.311890</td>\n",
       "      <td>1.367419e+07</td>\n",
       "      <td>-113.246354</td>\n",
       "      <td>-9203390</td>\n",
       "      <td>0.365079</td>\n",
       "      <td>Up</td>\n",
       "    </tr>\n",
       "  </tbody>\n",
       "</table>\n",
       "<p>5 rows × 37 columns</p>\n",
       "</div>"
      ],
      "text/plain": [
       "  symbol        Date    Volume  basic_earning_per_share  enterprise_value  \\\n",
       "0   BIDU  2014-01-16   2975000                    7.952      5.747847e+10   \n",
       "1   QCOM  2014-01-16  10263200                    1.110      9.463863e+10   \n",
       "2    IBM  2014-01-16   4770300                    2.300      2.280000e+11   \n",
       "3   CSCO  2014-01-16  38918100                    0.370      7.933212e+10   \n",
       "4   ADBE  2014-01-16   3747800                    0.090      3.326501e+10   \n",
       "\n",
       "   VWAP_volume  VWAP_bid_volume_percentage  VWAP_ask_volume_percentage  \\\n",
       "0      2914381                     56.0385                     56.0385   \n",
       "1     10162472                     53.2438                     46.7562   \n",
       "2      4721754                     58.0024                     41.9976   \n",
       "3     38599217                     36.3774                     63.6226   \n",
       "4      3666702                     47.6594                     52.3406   \n",
       "\n",
       "   px_volume    turn_over    ...        Volat    CMO.Ad     CMO.Vo  \\\n",
       "0    2975256  512783600.0    ...     0.195193  5.660541 -36.456573   \n",
       "1   10270124  766335500.0    ...     0.194706 -2.040986   2.451821   \n",
       "2    4775167  898555500.0    ...     0.192173  6.384432 -13.435674   \n",
       "3   38925362  886703300.0    ...     0.182808 -0.972015   7.983797   \n",
       "4    3747779  230889800.0    ...     0.175726  1.249604  -4.414016   \n",
       "\n",
       "      RunMean       RunSD          GMMA         KST       DPO       DVI  \\\n",
       "0  133.189018  190.302970  1.332843e+07 -315.754725 -11480300  0.596032   \n",
       "1  104.865723  173.466198  1.179582e+07 -294.546266  -8751740  0.768254   \n",
       "2  121.638723  172.565988  8.283059e+06 -246.890280  -9011560  0.613492   \n",
       "3  123.149723  171.520173  2.360058e+07 -191.905480  25906940  0.378571   \n",
       "4  125.623723  170.311890  1.367419e+07 -113.246354  -9203390  0.365079   \n",
       "\n",
       "   tendency  \n",
       "0        Up  \n",
       "1        Up  \n",
       "2        Up  \n",
       "3      Down  \n",
       "4        Up  \n",
       "\n",
       "[5 rows x 37 columns]"
      ]
     },
     "execution_count": 37,
     "metadata": {},
     "output_type": "execute_result"
    }
   ],
   "source": [
    "df_removed.head()"
   ]
  },
  {
   "cell_type": "code",
   "execution_count": 38,
   "metadata": {},
   "outputs": [],
   "source": [
    "X = df_removed.iloc[0:,2:-1]"
   ]
  },
  {
   "cell_type": "code",
   "execution_count": 39,
   "metadata": {},
   "outputs": [],
   "source": [
    "y = df_removed.tendency"
   ]
  },
  {
   "cell_type": "code",
   "execution_count": 40,
   "metadata": {},
   "outputs": [],
   "source": [
    "X_train, X_test, y_train, y_test = train_test_split(X, y, test_size=0.2, shuffle=False)"
   ]
  },
  {
   "cell_type": "markdown",
   "metadata": {},
   "source": [
    "## III.3 Support Vector Machine - Classifier\n",
    "\n",
    "#### The second method I will try is Support Vector Machine - Classifier. We hope SVM could help to accommodate non-linear class boundaries between 'Up' and 'Down'. In real world, multiple elements will influence the change of stock price. Those parameters might be on different dimension(3-D or more dimension) with different features. A good SVM classifier could help to change the dimension of the variables and find a 'line' to seperate the two classes 'Up' and 'Down'."
   ]
  },
  {
   "cell_type": "markdown",
   "metadata": {},
   "source": [
    "### Train"
   ]
  },
  {
   "cell_type": "code",
   "execution_count": 41,
   "metadata": {},
   "outputs": [],
   "source": [
    "svm = SVC()\n",
    "svm = svm.fit(X_train, y_train)"
   ]
  },
  {
   "cell_type": "markdown",
   "metadata": {},
   "source": [
    "### Predict"
   ]
  },
  {
   "cell_type": "code",
   "execution_count": 42,
   "metadata": {},
   "outputs": [
    {
     "name": "stdout",
     "output_type": "stream",
     "text": [
      "Confusion matrix, without normalization\n",
      "[[   0 1731]\n",
      " [   0 1881]]\n"
     ]
    },
    {
     "data": {
      "image/png": "[encoded data removed]",
      "text/plain": [
       "<matplotlib.figure.Figure at 0x16bcb564438>"
      ]
     },
     "metadata": {},
     "output_type": "display_data"
    }
   ],
   "source": [
    "svm_prediction= svm.predict(X_test)\n",
    "xtab = confusion_matrix(y_test, svm_prediction)\n",
    "plot_confusion_matrix(xtab, classes=new_layer)"
   ]
  },
  {
   "cell_type": "markdown",
   "metadata": {},
   "source": [
    "##### However, the result looks not good. It assigned almost all results to 'Down' tendency and seems could not classify the two differnt tendencies,\n",
    "\n",
    "##### Let's see the accuracy for main dataset and each stock dataset."
   ]
  },
  {
   "cell_type": "markdown",
   "metadata": {},
   "source": [
    "### Accuracy"
   ]
  },
  {
   "cell_type": "code",
   "execution_count": 43,
   "metadata": {},
   "outputs": [
    {
     "name": "stdout",
     "output_type": "stream",
     "text": [
      "Accuracy: 0.520764119601329\n"
     ]
    }
   ],
   "source": [
    "svm_acc = accuracy_score(y_test, svm_prediction)\n",
    "print('Accuracy:',svm_acc)"
   ]
  },
  {
   "cell_type": "code",
   "execution_count": 44,
   "metadata": {},
   "outputs": [
    {
     "data": {
      "text/plain": [
       "[['BIDU', 0.526558999253174],\n",
       " ['QCOM', 0.5279878530949348],\n",
       " ['IBM', 0.5154411607809666],\n",
       " ['CSCO', 0.5289592760180996],\n",
       " ['ADBE', 0.5478266997613085],\n",
       " ['CRM', 0.5029033749422098],\n",
       " ['TXN', 0.5555451829723674],\n",
       " ['INTC', 0.5257884972170687],\n",
       " ['NVDA', 0.526101568334578],\n",
       " ['MSFT', 0.5232173974892421],\n",
       " ['GOOGL', 0.517868177891022],\n",
       " ['ORCL', 0.5342992282798108],\n",
       " ['AAPL', 0.5096719457013574],\n",
       " ['MU', 0.5125840179238238]]"
      ]
     },
     "execution_count": 44,
     "metadata": {},
     "output_type": "execute_result"
    }
   ],
   "source": [
    "svm_acc_li = []\n",
    "for ticket_name in ticket_li:\n",
    "    ticket_df = df_removed[df_removed.symbol == ticket_name]\n",
    "    ticket_X = ticket_df.iloc[:,2:-1]\n",
    "    tiecket_y = ticket_df.tendency\n",
    "    ticket_X_train, ticket_X_test, ticket_y_train, ticket_y_test = train_test_split(ticket_X, tiecket_y, test_size=0.2, shuffle=False)\n",
    "    y_adj = np.array(ticket_y_train)\n",
    "    scores = (cross_val_score(svm, ticket_X_train, y_adj, cv=10, scoring='accuracy')).mean()\n",
    "    svm_acc_li.append([ticket_name, scores])\n",
    "svm_acc_li"
   ]
  },
  {
   "cell_type": "markdown",
   "metadata": {},
   "source": [
    "#### Poorly, the accuracy for main dataset is 52.07% and the accuracy for each stock is also low. The best accuracy is the model for TXN stock, which is 55.55%.\n",
    "\n",
    "#### I would like to tune the SVM - classifier and hope it will improve the accuracy of the SVM - classifier model.\n",
    "\n",
    "#### Check what kinds of parameters could be changed first:"
   ]
  },
  {
   "cell_type": "code",
   "execution_count": 45,
   "metadata": {},
   "outputs": [
    {
     "data": {
      "text/plain": [
       "dict_keys(['C', 'cache_size', 'class_weight', 'coef0', 'decision_function_shape', 'degree', 'gamma', 'kernel', 'max_iter', 'probability', 'random_state', 'shrinking', 'tol', 'verbose'])"
      ]
     },
     "execution_count": 45,
     "metadata": {},
     "output_type": "execute_result"
    }
   ],
   "source": [
    "svm.get_params().keys()"
   ]
  },
  {
   "cell_type": "markdown",
   "metadata": {},
   "source": [
    "##### Since in the privious model, the random search approach is relatively fast. I would like to try the random search first to tune.\n",
    "\n",
    "### Tune"
   ]
  },
  {
   "cell_type": "code",
   "execution_count": 46,
   "metadata": {},
   "outputs": [],
   "source": [
    "param_grid = {'kernel': ['rbf','sigmoid','poly'], \n",
    "              'C': [1.0, 3.0, 10., 30., 100., 300.],\n",
    "              'gamma': [0.01, 0.03, 0.1, 0.3, 1.0, 3.0]}\n",
    "# run randomized search\n",
    "n_iter_search = 100\n",
    "CV_svm_random = RandomizedSearchCV(svm, param_distributions=param_grid,n_iter=n_iter_search)"
   ]
  },
  {
   "cell_type": "code",
   "execution_count": 47,
   "metadata": {},
   "outputs": [
    {
     "data": {
      "text/plain": [
       "RandomizedSearchCV(cv=None, error_score='raise',\n",
       "          estimator=SVC(C=1.0, cache_size=200, class_weight=None, coef0=0.0,\n",
       "  decision_function_shape='ovr', degree=3, gamma='auto', kernel='rbf',\n",
       "  max_iter=-1, probability=False, random_state=None, shrinking=True,\n",
       "  tol=0.001, verbose=False),\n",
       "          fit_params=None, iid=True, n_iter=100, n_jobs=1,\n",
       "          param_distributions={'kernel': ['rbf', 'sigmoid', 'poly'], 'C': [1.0, 3.0, 10.0, 30.0, 100.0, 300.0], 'gamma': [0.01, 0.03, 0.1, 0.3, 1.0, 3.0]},\n",
       "          pre_dispatch='2*n_jobs', random_state=None, refit=True,\n",
       "          return_train_score='warn', scoring=None, verbose=0)"
      ]
     },
     "execution_count": 47,
     "metadata": {},
     "output_type": "execute_result"
    }
   ],
   "source": [
    "start = time()\n",
    "CV_svm_random.fit(X_train, y_train)"
   ]
  },
  {
   "cell_type": "code",
   "execution_count": 48,
   "metadata": {},
   "outputs": [
    {
     "name": "stdout",
     "output_type": "stream",
     "text": [
      "RandomizedSearchCV took 6838.47 seconds for 100 candidates parameter settings.\n",
      "Model with rank: 1\n",
      "Mean validation score: 0.521 (std: 0.000)\n",
      "Parameters: {'kernel': 'sigmoid', 'gamma': 0.3, 'C': 30.0}\n",
      "\n",
      "Model with rank: 1\n",
      "Mean validation score: 0.521 (std: 0.000)\n",
      "Parameters: {'kernel': 'rbf', 'gamma': 0.03, 'C': 30.0}\n",
      "\n",
      "Model with rank: 1\n",
      "Mean validation score: 0.521 (std: 0.000)\n",
      "Parameters: {'kernel': 'sigmoid', 'gamma': 0.03, 'C': 1.0}\n",
      "\n",
      "Model with rank: 1\n",
      "Mean validation score: 0.521 (std: 0.000)\n",
      "Parameters: {'kernel': 'poly', 'gamma': 3.0, 'C': 100.0}\n",
      "\n",
      "Model with rank: 1\n",
      "Mean validation score: 0.521 (std: 0.000)\n",
      "Parameters: {'kernel': 'poly', 'gamma': 0.01, 'C': 3.0}\n",
      "\n",
      "Model with rank: 1\n",
      "Mean validation score: 0.521 (std: 0.000)\n",
      "Parameters: {'kernel': 'poly', 'gamma': 0.3, 'C': 1.0}\n",
      "\n",
      "Model with rank: 1\n",
      "Mean validation score: 0.521 (std: 0.000)\n",
      "Parameters: {'kernel': 'sigmoid', 'gamma': 0.03, 'C': 100.0}\n",
      "\n",
      "Model with rank: 1\n",
      "Mean validation score: 0.521 (std: 0.000)\n",
      "Parameters: {'kernel': 'rbf', 'gamma': 0.1, 'C': 3.0}\n",
      "\n",
      "Model with rank: 1\n",
      "Mean validation score: 0.521 (std: 0.000)\n",
      "Parameters: {'kernel': 'sigmoid', 'gamma': 0.3, 'C': 100.0}\n",
      "\n",
      "Model with rank: 1\n",
      "Mean validation score: 0.521 (std: 0.000)\n",
      "Parameters: {'kernel': 'rbf', 'gamma': 0.01, 'C': 1.0}\n",
      "\n",
      "Model with rank: 1\n",
      "Mean validation score: 0.521 (std: 0.000)\n",
      "Parameters: {'kernel': 'rbf', 'gamma': 0.03, 'C': 3.0}\n",
      "\n",
      "Model with rank: 1\n",
      "Mean validation score: 0.521 (std: 0.000)\n",
      "Parameters: {'kernel': 'sigmoid', 'gamma': 1.0, 'C': 3.0}\n",
      "\n",
      "Model with rank: 1\n",
      "Mean validation score: 0.521 (std: 0.000)\n",
      "Parameters: {'kernel': 'poly', 'gamma': 0.01, 'C': 300.0}\n",
      "\n",
      "Model with rank: 1\n",
      "Mean validation score: 0.521 (std: 0.000)\n",
      "Parameters: {'kernel': 'rbf', 'gamma': 3.0, 'C': 1.0}\n",
      "\n",
      "Model with rank: 1\n",
      "Mean validation score: 0.521 (std: 0.000)\n",
      "Parameters: {'kernel': 'poly', 'gamma': 0.1, 'C': 30.0}\n",
      "\n",
      "Model with rank: 1\n",
      "Mean validation score: 0.521 (std: 0.000)\n",
      "Parameters: {'kernel': 'rbf', 'gamma': 0.01, 'C': 30.0}\n",
      "\n",
      "Model with rank: 1\n",
      "Mean validation score: 0.521 (std: 0.000)\n",
      "Parameters: {'kernel': 'rbf', 'gamma': 0.1, 'C': 10.0}\n",
      "\n",
      "Model with rank: 1\n",
      "Mean validation score: 0.521 (std: 0.000)\n",
      "Parameters: {'kernel': 'sigmoid', 'gamma': 0.1, 'C': 1.0}\n",
      "\n",
      "Model with rank: 1\n",
      "Mean validation score: 0.521 (std: 0.000)\n",
      "Parameters: {'kernel': 'poly', 'gamma': 3.0, 'C': 1.0}\n",
      "\n",
      "Model with rank: 1\n",
      "Mean validation score: 0.521 (std: 0.000)\n",
      "Parameters: {'kernel': 'rbf', 'gamma': 1.0, 'C': 1.0}\n",
      "\n",
      "Model with rank: 1\n",
      "Mean validation score: 0.521 (std: 0.000)\n",
      "Parameters: {'kernel': 'sigmoid', 'gamma': 0.01, 'C': 100.0}\n",
      "\n",
      "Model with rank: 1\n",
      "Mean validation score: 0.521 (std: 0.000)\n",
      "Parameters: {'kernel': 'rbf', 'gamma': 0.1, 'C': 30.0}\n",
      "\n",
      "Model with rank: 1\n",
      "Mean validation score: 0.521 (std: 0.000)\n",
      "Parameters: {'kernel': 'rbf', 'gamma': 0.3, 'C': 1.0}\n",
      "\n",
      "Model with rank: 1\n",
      "Mean validation score: 0.521 (std: 0.000)\n",
      "Parameters: {'kernel': 'rbf', 'gamma': 0.1, 'C': 100.0}\n",
      "\n",
      "Model with rank: 1\n",
      "Mean validation score: 0.521 (std: 0.000)\n",
      "Parameters: {'kernel': 'sigmoid', 'gamma': 1.0, 'C': 30.0}\n",
      "\n",
      "Model with rank: 1\n",
      "Mean validation score: 0.521 (std: 0.000)\n",
      "Parameters: {'kernel': 'sigmoid', 'gamma': 1.0, 'C': 10.0}\n",
      "\n",
      "Model with rank: 1\n",
      "Mean validation score: 0.521 (std: 0.000)\n",
      "Parameters: {'kernel': 'rbf', 'gamma': 0.3, 'C': 30.0}\n",
      "\n",
      "Model with rank: 1\n",
      "Mean validation score: 0.521 (std: 0.000)\n",
      "Parameters: {'kernel': 'rbf', 'gamma': 0.1, 'C': 1.0}\n",
      "\n",
      "Model with rank: 1\n",
      "Mean validation score: 0.521 (std: 0.000)\n",
      "Parameters: {'kernel': 'rbf', 'gamma': 0.01, 'C': 3.0}\n",
      "\n",
      "Model with rank: 1\n",
      "Mean validation score: 0.521 (std: 0.000)\n",
      "Parameters: {'kernel': 'sigmoid', 'gamma': 3.0, 'C': 10.0}\n",
      "\n",
      "Model with rank: 1\n",
      "Mean validation score: 0.521 (std: 0.000)\n",
      "Parameters: {'kernel': 'rbf', 'gamma': 3.0, 'C': 3.0}\n",
      "\n",
      "Model with rank: 1\n",
      "Mean validation score: 0.521 (std: 0.000)\n",
      "Parameters: {'kernel': 'rbf', 'gamma': 0.1, 'C': 300.0}\n",
      "\n",
      "Model with rank: 1\n",
      "Mean validation score: 0.521 (std: 0.000)\n",
      "Parameters: {'kernel': 'rbf', 'gamma': 0.01, 'C': 300.0}\n",
      "\n",
      "Model with rank: 1\n",
      "Mean validation score: 0.521 (std: 0.000)\n",
      "Parameters: {'kernel': 'sigmoid', 'gamma': 3.0, 'C': 30.0}\n",
      "\n",
      "Model with rank: 1\n",
      "Mean validation score: 0.521 (std: 0.000)\n",
      "Parameters: {'kernel': 'poly', 'gamma': 3.0, 'C': 300.0}\n",
      "\n",
      "Model with rank: 1\n",
      "Mean validation score: 0.521 (std: 0.000)\n",
      "Parameters: {'kernel': 'poly', 'gamma': 3.0, 'C': 30.0}\n",
      "\n",
      "Model with rank: 1\n",
      "Mean validation score: 0.521 (std: 0.000)\n",
      "Parameters: {'kernel': 'sigmoid', 'gamma': 0.01, 'C': 10.0}\n",
      "\n",
      "Model with rank: 1\n",
      "Mean validation score: 0.521 (std: 0.000)\n",
      "Parameters: {'kernel': 'poly', 'gamma': 0.01, 'C': 100.0}\n",
      "\n",
      "Model with rank: 1\n",
      "Mean validation score: 0.521 (std: 0.000)\n",
      "Parameters: {'kernel': 'sigmoid', 'gamma': 0.3, 'C': 1.0}\n",
      "\n",
      "Model with rank: 1\n",
      "Mean validation score: 0.521 (std: 0.000)\n",
      "Parameters: {'kernel': 'rbf', 'gamma': 0.03, 'C': 100.0}\n",
      "\n",
      "Model with rank: 1\n",
      "Mean validation score: 0.521 (std: 0.000)\n",
      "Parameters: {'kernel': 'rbf', 'gamma': 0.3, 'C': 100.0}\n",
      "\n",
      "Model with rank: 1\n",
      "Mean validation score: 0.521 (std: 0.000)\n",
      "Parameters: {'kernel': 'rbf', 'gamma': 3.0, 'C': 30.0}\n",
      "\n",
      "Model with rank: 1\n",
      "Mean validation score: 0.521 (std: 0.000)\n",
      "Parameters: {'kernel': 'poly', 'gamma': 1.0, 'C': 300.0}\n",
      "\n",
      "Model with rank: 1\n",
      "Mean validation score: 0.521 (std: 0.000)\n",
      "Parameters: {'kernel': 'poly', 'gamma': 0.03, 'C': 3.0}\n",
      "\n",
      "Model with rank: 1\n",
      "Mean validation score: 0.521 (std: 0.000)\n",
      "Parameters: {'kernel': 'poly', 'gamma': 0.01, 'C': 10.0}\n",
      "\n",
      "Model with rank: 1\n",
      "Mean validation score: 0.521 (std: 0.000)\n",
      "Parameters: {'kernel': 'rbf', 'gamma': 1.0, 'C': 10.0}\n",
      "\n",
      "Model with rank: 1\n",
      "Mean validation score: 0.521 (std: 0.000)\n",
      "Parameters: {'kernel': 'rbf', 'gamma': 0.3, 'C': 300.0}\n",
      "\n",
      "Model with rank: 1\n",
      "Mean validation score: 0.521 (std: 0.000)\n",
      "Parameters: {'kernel': 'poly', 'gamma': 0.3, 'C': 10.0}\n",
      "\n",
      "Model with rank: 1\n",
      "Mean validation score: 0.521 (std: 0.000)\n",
      "Parameters: {'kernel': 'poly', 'gamma': 0.3, 'C': 300.0}\n",
      "\n",
      "Model with rank: 1\n",
      "Mean validation score: 0.521 (std: 0.000)\n",
      "Parameters: {'kernel': 'sigmoid', 'gamma': 0.03, 'C': 10.0}\n",
      "\n",
      "Model with rank: 1\n",
      "Mean validation score: 0.521 (std: 0.000)\n",
      "Parameters: {'kernel': 'sigmoid', 'gamma': 0.3, 'C': 300.0}\n",
      "\n",
      "Model with rank: 1\n",
      "Mean validation score: 0.521 (std: 0.000)\n",
      "Parameters: {'kernel': 'rbf', 'gamma': 1.0, 'C': 3.0}\n",
      "\n",
      "Model with rank: 1\n",
      "Mean validation score: 0.521 (std: 0.000)\n",
      "Parameters: {'kernel': 'sigmoid', 'gamma': 1.0, 'C': 300.0}\n",
      "\n",
      "Model with rank: 1\n",
      "Mean validation score: 0.521 (std: 0.000)\n",
      "Parameters: {'kernel': 'poly', 'gamma': 0.03, 'C': 300.0}\n",
      "\n",
      "Model with rank: 1\n",
      "Mean validation score: 0.521 (std: 0.000)\n",
      "Parameters: {'kernel': 'sigmoid', 'gamma': 0.1, 'C': 100.0}\n",
      "\n",
      "Model with rank: 1\n",
      "Mean validation score: 0.521 (std: 0.000)\n",
      "Parameters: {'kernel': 'poly', 'gamma': 0.03, 'C': 1.0}\n",
      "\n",
      "Model with rank: 1\n",
      "Mean validation score: 0.521 (std: 0.000)\n",
      "Parameters: {'kernel': 'sigmoid', 'gamma': 0.03, 'C': 3.0}\n",
      "\n",
      "Model with rank: 1\n",
      "Mean validation score: 0.521 (std: 0.000)\n",
      "Parameters: {'kernel': 'sigmoid', 'gamma': 3.0, 'C': 3.0}\n",
      "\n",
      "Model with rank: 1\n",
      "Mean validation score: 0.521 (std: 0.000)\n",
      "Parameters: {'kernel': 'sigmoid', 'gamma': 0.1, 'C': 10.0}\n",
      "\n",
      "Model with rank: 1\n",
      "Mean validation score: 0.521 (std: 0.000)\n",
      "Parameters: {'kernel': 'sigmoid', 'gamma': 0.01, 'C': 30.0}\n",
      "\n",
      "Model with rank: 1\n",
      "Mean validation score: 0.521 (std: 0.000)\n",
      "Parameters: {'kernel': 'sigmoid', 'gamma': 0.01, 'C': 300.0}\n",
      "\n",
      "Model with rank: 1\n",
      "Mean validation score: 0.521 (std: 0.000)\n",
      "Parameters: {'kernel': 'poly', 'gamma': 0.1, 'C': 3.0}\n",
      "\n",
      "Model with rank: 1\n",
      "Mean validation score: 0.521 (std: 0.000)\n",
      "Parameters: {'kernel': 'poly', 'gamma': 3.0, 'C': 10.0}\n",
      "\n",
      "Model with rank: 1\n",
      "Mean validation score: 0.521 (std: 0.000)\n",
      "Parameters: {'kernel': 'poly', 'gamma': 1.0, 'C': 10.0}\n",
      "\n",
      "Model with rank: 1\n",
      "Mean validation score: 0.521 (std: 0.000)\n",
      "Parameters: {'kernel': 'sigmoid', 'gamma': 0.01, 'C': 3.0}\n",
      "\n",
      "Model with rank: 1\n",
      "Mean validation score: 0.521 (std: 0.000)\n",
      "Parameters: {'kernel': 'sigmoid', 'gamma': 1.0, 'C': 1.0}\n",
      "\n",
      "Model with rank: 1\n",
      "Mean validation score: 0.521 (std: 0.000)\n",
      "Parameters: {'kernel': 'sigmoid', 'gamma': 3.0, 'C': 300.0}\n",
      "\n",
      "Model with rank: 1\n",
      "Mean validation score: 0.521 (std: 0.000)\n",
      "Parameters: {'kernel': 'poly', 'gamma': 0.3, 'C': 100.0}\n",
      "\n",
      "Model with rank: 1\n",
      "Mean validation score: 0.521 (std: 0.000)\n",
      "Parameters: {'kernel': 'rbf', 'gamma': 0.03, 'C': 300.0}\n",
      "\n",
      "Model with rank: 1\n",
      "Mean validation score: 0.521 (std: 0.000)\n",
      "Parameters: {'kernel': 'sigmoid', 'gamma': 0.03, 'C': 300.0}\n",
      "\n",
      "Model with rank: 1\n",
      "Mean validation score: 0.521 (std: 0.000)\n",
      "Parameters: {'kernel': 'sigmoid', 'gamma': 0.1, 'C': 3.0}\n",
      "\n",
      "Model with rank: 1\n",
      "Mean validation score: 0.521 (std: 0.000)\n",
      "Parameters: {'kernel': 'poly', 'gamma': 0.1, 'C': 100.0}\n",
      "\n",
      "Model with rank: 1\n",
      "Mean validation score: 0.521 (std: 0.000)\n",
      "Parameters: {'kernel': 'poly', 'gamma': 0.01, 'C': 30.0}\n",
      "\n",
      "Model with rank: 1\n",
      "Mean validation score: 0.521 (std: 0.000)\n",
      "Parameters: {'kernel': 'sigmoid', 'gamma': 3.0, 'C': 1.0}\n",
      "\n",
      "Model with rank: 1\n",
      "Mean validation score: 0.521 (std: 0.000)\n",
      "Parameters: {'kernel': 'sigmoid', 'gamma': 0.03, 'C': 30.0}\n",
      "\n",
      "Model with rank: 1\n",
      "Mean validation score: 0.521 (std: 0.000)\n",
      "Parameters: {'kernel': 'rbf', 'gamma': 1.0, 'C': 100.0}\n",
      "\n",
      "Model with rank: 1\n",
      "Mean validation score: 0.521 (std: 0.000)\n",
      "Parameters: {'kernel': 'poly', 'gamma': 0.1, 'C': 300.0}\n",
      "\n",
      "Model with rank: 1\n",
      "Mean validation score: 0.521 (std: 0.000)\n",
      "Parameters: {'kernel': 'rbf', 'gamma': 0.3, 'C': 3.0}\n",
      "\n",
      "Model with rank: 1\n",
      "Mean validation score: 0.521 (std: 0.000)\n",
      "Parameters: {'kernel': 'rbf', 'gamma': 0.01, 'C': 10.0}\n",
      "\n",
      "Model with rank: 1\n",
      "Mean validation score: 0.521 (std: 0.000)\n",
      "Parameters: {'kernel': 'poly', 'gamma': 1.0, 'C': 30.0}\n",
      "\n",
      "Model with rank: 1\n",
      "Mean validation score: 0.521 (std: 0.000)\n",
      "Parameters: {'kernel': 'poly', 'gamma': 1.0, 'C': 100.0}\n",
      "\n",
      "Model with rank: 1\n",
      "Mean validation score: 0.521 (std: 0.000)\n",
      "Parameters: {'kernel': 'poly', 'gamma': 0.03, 'C': 30.0}\n",
      "\n",
      "Model with rank: 1\n",
      "Mean validation score: 0.521 (std: 0.000)\n",
      "Parameters: {'kernel': 'poly', 'gamma': 0.1, 'C': 1.0}\n",
      "\n",
      "Model with rank: 1\n",
      "Mean validation score: 0.521 (std: 0.000)\n",
      "Parameters: {'kernel': 'poly', 'gamma': 0.1, 'C': 10.0}\n",
      "\n",
      "Model with rank: 1\n",
      "Mean validation score: 0.521 (std: 0.000)\n",
      "Parameters: {'kernel': 'rbf', 'gamma': 1.0, 'C': 30.0}\n",
      "\n",
      "Model with rank: 1\n",
      "Mean validation score: 0.521 (std: 0.000)\n",
      "Parameters: {'kernel': 'sigmoid', 'gamma': 3.0, 'C': 100.0}\n",
      "\n",
      "Model with rank: 1\n",
      "Mean validation score: 0.521 (std: 0.000)\n",
      "Parameters: {'kernel': 'sigmoid', 'gamma': 0.1, 'C': 300.0}\n",
      "\n",
      "Model with rank: 1\n",
      "Mean validation score: 0.521 (std: 0.000)\n",
      "Parameters: {'kernel': 'rbf', 'gamma': 3.0, 'C': 300.0}\n",
      "\n",
      "Model with rank: 1\n",
      "Mean validation score: 0.521 (std: 0.000)\n",
      "Parameters: {'kernel': 'rbf', 'gamma': 3.0, 'C': 10.0}\n",
      "\n",
      "Model with rank: 1\n",
      "Mean validation score: 0.521 (std: 0.000)\n",
      "Parameters: {'kernel': 'poly', 'gamma': 0.01, 'C': 1.0}\n",
      "\n",
      "Model with rank: 1\n",
      "Mean validation score: 0.521 (std: 0.000)\n",
      "Parameters: {'kernel': 'rbf', 'gamma': 0.03, 'C': 1.0}\n",
      "\n",
      "Model with rank: 1\n",
      "Mean validation score: 0.521 (std: 0.000)\n",
      "Parameters: {'kernel': 'rbf', 'gamma': 0.01, 'C': 100.0}\n",
      "\n",
      "Model with rank: 1\n",
      "Mean validation score: 0.521 (std: 0.000)\n",
      "Parameters: {'kernel': 'sigmoid', 'gamma': 0.3, 'C': 10.0}\n",
      "\n",
      "Model with rank: 1\n",
      "Mean validation score: 0.521 (std: 0.000)\n",
      "Parameters: {'kernel': 'poly', 'gamma': 0.03, 'C': 100.0}\n",
      "\n",
      "Model with rank: 1\n",
      "Mean validation score: 0.521 (std: 0.000)\n",
      "Parameters: {'kernel': 'sigmoid', 'gamma': 0.01, 'C': 1.0}\n",
      "\n",
      "Model with rank: 1\n",
      "Mean validation score: 0.521 (std: 0.000)\n",
      "Parameters: {'kernel': 'rbf', 'gamma': 0.03, 'C': 10.0}\n",
      "\n",
      "Model with rank: 1\n",
      "Mean validation score: 0.521 (std: 0.000)\n",
      "Parameters: {'kernel': 'rbf', 'gamma': 0.3, 'C': 10.0}\n",
      "\n",
      "Model with rank: 1\n",
      "Mean validation score: 0.521 (std: 0.000)\n",
      "Parameters: {'kernel': 'sigmoid', 'gamma': 0.3, 'C': 3.0}\n",
      "\n",
      "Model with rank: 1\n",
      "Mean validation score: 0.521 (std: 0.000)\n",
      "Parameters: {'kernel': 'sigmoid', 'gamma': 1.0, 'C': 100.0}\n",
      "\n",
      "Model with rank: 1\n",
      "Mean validation score: 0.521 (std: 0.000)\n",
      "Parameters: {'kernel': 'rbf', 'gamma': 1.0, 'C': 300.0}\n",
      "\n"
     ]
    }
   ],
   "source": [
    "print(\"RandomizedSearchCV took %.2f seconds for %d candidates\"\n",
    "      \" parameter settings.\" % ((time() - start), n_iter_search))\n",
    "report(CV_svm_random.cv_results_)"
   ]
  },
  {
   "cell_type": "code",
   "execution_count": 49,
   "metadata": {},
   "outputs": [
    {
     "name": "stdout",
     "output_type": "stream",
     "text": [
      "Confusion matrix, without normalization\n",
      "[[   0 1731]\n",
      " [   0 1881]]\n"
     ]
    },
    {
     "data": {
      "image/png": "[encoded data removed]",
      "text/plain": [
       "<matplotlib.figure.Figure at 0x16bcd8958d0>"
      ]
     },
     "metadata": {},
     "output_type": "display_data"
    }
   ],
   "source": [
    "svm_best_random = CV_svm_random.best_estimator_\n",
    "svm_best_random = svm_best_random.fit(X_train, y_train)\n",
    "svm_best_prediction_random = svm_best_random.predict(X_test)\n",
    "xtab = confusion_matrix(y_test, svm_best_prediction_random)\n",
    "plot_confusion_matrix(xtab, classes=new_layer)"
   ]
  },
  {
   "cell_type": "code",
   "execution_count": 50,
   "metadata": {},
   "outputs": [
    {
     "name": "stdout",
     "output_type": "stream",
     "text": [
      "Accuracy: 0.520764119601329\n"
     ]
    }
   ],
   "source": [
    "svm_best_acc_random = accuracy_score(y_test, svm_best_prediction_random)\n",
    "print('Accuracy:',svm_best_acc_random)"
   ]
  },
  {
   "cell_type": "code",
   "execution_count": 51,
   "metadata": {},
   "outputs": [
    {
     "data": {
      "text/plain": [
       "[['BIDU', 0.526558999253174],\n",
       " ['QCOM', 0.5279878530949348],\n",
       " ['IBM', 0.5154411607809666],\n",
       " ['CSCO', 0.5289592760180996],\n",
       " ['ADBE', 0.5478266997613085],\n",
       " ['CRM', 0.5029033749422098],\n",
       " ['TXN', 0.5555451829723674],\n",
       " ['INTC', 0.5257884972170687],\n",
       " ['NVDA', 0.526101568334578],\n",
       " ['MSFT', 0.5232173974892421],\n",
       " ['GOOGL', 0.517868177891022],\n",
       " ['ORCL', 0.5342992282798108],\n",
       " ['AAPL', 0.5096719457013574],\n",
       " ['MU', 0.5125840179238238]]"
      ]
     },
     "execution_count": 51,
     "metadata": {},
     "output_type": "execute_result"
    }
   ],
   "source": [
    "svm_best_acc_li = []\n",
    "for ticket_name in ticket_li:\n",
    "    ticket_df = df_removed[df_removed.symbol == ticket_name]\n",
    "    ticket_X = ticket_df.iloc[:,2:-1]\n",
    "    tiecket_y = ticket_df.tendency\n",
    "    ticket_X_train, ticket_X_test, ticket_y_train, ticket_y_test = train_test_split(ticket_X, tiecket_y, test_size=0.2, shuffle=False)\n",
    "    y_adj = np.array(ticket_y_train)\n",
    "    scores = (cross_val_score(svm_best_random, ticket_X_train, y_adj, cv=10, scoring='accuracy')).mean()\n",
    "    svm_best_acc_li.append([ticket_name, scores])\n",
    "svm_best_acc_li"
   ]
  },
  {
   "cell_type": "markdown",
   "metadata": {},
   "source": [
    "### Summary:\n",
    "#### It seems that the SVM-classifer's performance is very low for predicting tendency of stock prices.  \n",
    "\n",
    "Main Accuracy:\n",
    "    - Original:52.07%\n",
    "    - After tuning: 52.07%\n",
    "Each Stock Accuracy:\n",
    "    - BIDU: 52.65% to 52.65%\n",
    "    - QCOM: 52.79% to 52.79%\n",
    "    - IBM: 51.54% to 51.54%\n",
    "    - CSCO: 52.89% to 52.89%\n",
    "    - ADBE: 54.78% to 54.78%\n",
    "    - CRM: 50.29% to 50.29%\n",
    "    - TXN: 55.55% to 55.55%\n",
    "    - INTC: 52.57% to 52.57%\n",
    "    - NVDA: 52.61% to 52.61%\n",
    "    - MSFT: 52.32% to 52.32%\n",
    "    - GOOGL: 51.78% to 51.78%\n",
    "    - ORCL: 53.42% to 53.42%\n",
    "    - AAPL: 50.96% to 50.96%\n",
    "    - MU: 51.25% to 51.25%\n",
    "\n",
    "#### We assume that the support vector machine could seperate different class in a way to improve the dimension of the dataset. However, in this project, we failed to find a way to do that. \n",
    "\n",
    "#### On the other hand, the SVM might be just not the suitable way to predict tendency of stock prices with the predictors we collected.\n"
   ]
  },
  {
   "cell_type": "markdown",
   "metadata": {},
   "source": [
    "## III.3 Neural Network\n",
    "#### The third method we choose is Neural Network. \n",
    "#### Rather than fiting dataset into a simple regression, linear or non-linear algorithm, Neural Network method simulate the processes that human or animal recognized the object. \n",
    "#### An artificial neural network includes one input layer, multiple hidden layers with nodes(kernel) and bias,  one output layer including defined target classes. \n",
    "#### Each layers and nodes will be randomly generated when launching the training process. Input variables will be normalized firstly and multiple with each neural weights and plus an bias and connect with next layer. \n",
    "#### The target of each training process is reduce the difference between real labels and the predicted result. We could use sigmoid, adam or other algorithms to calculate the loss.\n",
    "#### The revised information will transfer back to each layer and kernel and modify the weights and bias.\n",
    "#### Finally, we will  get a neural network with relatively accurate weights and bias on each layer.\n",
    "\n",
    "#### Before fiting the variable into neural network, we should normalize the input variables for each row first. Since the Neural Network Algorithm assume that the input variable is an number between 0 to 1."
   ]
  },
  {
   "cell_type": "code",
   "execution_count": 52,
   "metadata": {},
   "outputs": [],
   "source": [
    "from sklearn.preprocessing import Normalizer"
   ]
  },
  {
   "cell_type": "code",
   "execution_count": 53,
   "metadata": {},
   "outputs": [
    {
     "data": {
      "text/html": [
       "<div>\n",
       "<style scoped>\n",
       "    .dataframe tbody tr th:only-of-type {\n",
       "        vertical-align: middle;\n",
       "    }\n",
       "\n",
       "    .dataframe tbody tr th {\n",
       "        vertical-align: top;\n",
       "    }\n",
       "\n",
       "    .dataframe thead th {\n",
       "        text-align: right;\n",
       "    }\n",
       "</style>\n",
       "<table border=\"1\" class=\"dataframe\">\n",
       "  <thead>\n",
       "    <tr style=\"text-align: right;\">\n",
       "      <th></th>\n",
       "      <th>symbol</th>\n",
       "      <th>Date</th>\n",
       "      <th>Volume</th>\n",
       "      <th>basic_earning_per_share</th>\n",
       "      <th>enterprise_value</th>\n",
       "      <th>VWAP_volume</th>\n",
       "      <th>VWAP_bid_volume_percentage</th>\n",
       "      <th>VWAP_ask_volume_percentage</th>\n",
       "      <th>px_volume</th>\n",
       "      <th>turn_over</th>\n",
       "      <th>...</th>\n",
       "      <th>Volat</th>\n",
       "      <th>CMO.Ad</th>\n",
       "      <th>CMO.Vo</th>\n",
       "      <th>RunMean</th>\n",
       "      <th>RunSD</th>\n",
       "      <th>GMMA</th>\n",
       "      <th>KST</th>\n",
       "      <th>DPO</th>\n",
       "      <th>DVI</th>\n",
       "      <th>tendency</th>\n",
       "    </tr>\n",
       "  </thead>\n",
       "  <tbody>\n",
       "    <tr>\n",
       "      <th>0</th>\n",
       "      <td>BIDU</td>\n",
       "      <td>2014-01-16</td>\n",
       "      <td>2975000</td>\n",
       "      <td>7.952</td>\n",
       "      <td>5.747847e+10</td>\n",
       "      <td>2914381</td>\n",
       "      <td>56.0385</td>\n",
       "      <td>56.0385</td>\n",
       "      <td>2975256</td>\n",
       "      <td>512783600.0</td>\n",
       "      <td>...</td>\n",
       "      <td>0.195193</td>\n",
       "      <td>5.660541</td>\n",
       "      <td>-36.456573</td>\n",
       "      <td>133.189018</td>\n",
       "      <td>190.302970</td>\n",
       "      <td>1.332843e+07</td>\n",
       "      <td>-315.754725</td>\n",
       "      <td>-11480300</td>\n",
       "      <td>0.596032</td>\n",
       "      <td>Up</td>\n",
       "    </tr>\n",
       "    <tr>\n",
       "      <th>1</th>\n",
       "      <td>QCOM</td>\n",
       "      <td>2014-01-16</td>\n",
       "      <td>10263200</td>\n",
       "      <td>1.110</td>\n",
       "      <td>9.463863e+10</td>\n",
       "      <td>10162472</td>\n",
       "      <td>53.2438</td>\n",
       "      <td>46.7562</td>\n",
       "      <td>10270124</td>\n",
       "      <td>766335500.0</td>\n",
       "      <td>...</td>\n",
       "      <td>0.194706</td>\n",
       "      <td>-2.040986</td>\n",
       "      <td>2.451821</td>\n",
       "      <td>104.865723</td>\n",
       "      <td>173.466198</td>\n",
       "      <td>1.179582e+07</td>\n",
       "      <td>-294.546266</td>\n",
       "      <td>-8751740</td>\n",
       "      <td>0.768254</td>\n",
       "      <td>Up</td>\n",
       "    </tr>\n",
       "    <tr>\n",
       "      <th>2</th>\n",
       "      <td>IBM</td>\n",
       "      <td>2014-01-16</td>\n",
       "      <td>4770300</td>\n",
       "      <td>2.300</td>\n",
       "      <td>2.280000e+11</td>\n",
       "      <td>4721754</td>\n",
       "      <td>58.0024</td>\n",
       "      <td>41.9976</td>\n",
       "      <td>4775167</td>\n",
       "      <td>898555500.0</td>\n",
       "      <td>...</td>\n",
       "      <td>0.192173</td>\n",
       "      <td>6.384432</td>\n",
       "      <td>-13.435674</td>\n",
       "      <td>121.638723</td>\n",
       "      <td>172.565988</td>\n",
       "      <td>8.283059e+06</td>\n",
       "      <td>-246.890280</td>\n",
       "      <td>-9011560</td>\n",
       "      <td>0.613492</td>\n",
       "      <td>Up</td>\n",
       "    </tr>\n",
       "    <tr>\n",
       "      <th>3</th>\n",
       "      <td>CSCO</td>\n",
       "      <td>2014-01-16</td>\n",
       "      <td>38918100</td>\n",
       "      <td>0.370</td>\n",
       "      <td>7.933212e+10</td>\n",
       "      <td>38599217</td>\n",
       "      <td>36.3774</td>\n",
       "      <td>63.6226</td>\n",
       "      <td>38925362</td>\n",
       "      <td>886703300.0</td>\n",
       "      <td>...</td>\n",
       "      <td>0.182808</td>\n",
       "      <td>-0.972015</td>\n",
       "      <td>7.983797</td>\n",
       "      <td>123.149723</td>\n",
       "      <td>171.520173</td>\n",
       "      <td>2.360058e+07</td>\n",
       "      <td>-191.905480</td>\n",
       "      <td>25906940</td>\n",
       "      <td>0.378571</td>\n",
       "      <td>Down</td>\n",
       "    </tr>\n",
       "    <tr>\n",
       "      <th>4</th>\n",
       "      <td>ADBE</td>\n",
       "      <td>2014-01-16</td>\n",
       "      <td>3747800</td>\n",
       "      <td>0.090</td>\n",
       "      <td>3.326501e+10</td>\n",
       "      <td>3666702</td>\n",
       "      <td>47.6594</td>\n",
       "      <td>52.3406</td>\n",
       "      <td>3747779</td>\n",
       "      <td>230889800.0</td>\n",
       "      <td>...</td>\n",
       "      <td>0.175726</td>\n",
       "      <td>1.249604</td>\n",
       "      <td>-4.414016</td>\n",
       "      <td>125.623723</td>\n",
       "      <td>170.311890</td>\n",
       "      <td>1.367419e+07</td>\n",
       "      <td>-113.246354</td>\n",
       "      <td>-9203390</td>\n",
       "      <td>0.365079</td>\n",
       "      <td>Up</td>\n",
       "    </tr>\n",
       "  </tbody>\n",
       "</table>\n",
       "<p>5 rows × 37 columns</p>\n",
       "</div>"
      ],
      "text/plain": [
       "  symbol        Date    Volume  basic_earning_per_share  enterprise_value  \\\n",
       "0   BIDU  2014-01-16   2975000                    7.952      5.747847e+10   \n",
       "1   QCOM  2014-01-16  10263200                    1.110      9.463863e+10   \n",
       "2    IBM  2014-01-16   4770300                    2.300      2.280000e+11   \n",
       "3   CSCO  2014-01-16  38918100                    0.370      7.933212e+10   \n",
       "4   ADBE  2014-01-16   3747800                    0.090      3.326501e+10   \n",
       "\n",
       "   VWAP_volume  VWAP_bid_volume_percentage  VWAP_ask_volume_percentage  \\\n",
       "0      2914381                     56.0385                     56.0385   \n",
       "1     10162472                     53.2438                     46.7562   \n",
       "2      4721754                     58.0024                     41.9976   \n",
       "3     38599217                     36.3774                     63.6226   \n",
       "4      3666702                     47.6594                     52.3406   \n",
       "\n",
       "   px_volume    turn_over    ...        Volat    CMO.Ad     CMO.Vo  \\\n",
       "0    2975256  512783600.0    ...     0.195193  5.660541 -36.456573   \n",
       "1   10270124  766335500.0    ...     0.194706 -2.040986   2.451821   \n",
       "2    4775167  898555500.0    ...     0.192173  6.384432 -13.435674   \n",
       "3   38925362  886703300.0    ...     0.182808 -0.972015   7.983797   \n",
       "4    3747779  230889800.0    ...     0.175726  1.249604  -4.414016   \n",
       "\n",
       "      RunMean       RunSD          GMMA         KST       DPO       DVI  \\\n",
       "0  133.189018  190.302970  1.332843e+07 -315.754725 -11480300  0.596032   \n",
       "1  104.865723  173.466198  1.179582e+07 -294.546266  -8751740  0.768254   \n",
       "2  121.638723  172.565988  8.283059e+06 -246.890280  -9011560  0.613492   \n",
       "3  123.149723  171.520173  2.360058e+07 -191.905480  25906940  0.378571   \n",
       "4  125.623723  170.311890  1.367419e+07 -113.246354  -9203390  0.365079   \n",
       "\n",
       "   tendency  \n",
       "0        Up  \n",
       "1        Up  \n",
       "2        Up  \n",
       "3      Down  \n",
       "4        Up  \n",
       "\n",
       "[5 rows x 37 columns]"
      ]
     },
     "execution_count": 53,
     "metadata": {},
     "output_type": "execute_result"
    }
   ],
   "source": [
    "df_removed.head()"
   ]
  },
  {
   "cell_type": "markdown",
   "metadata": {},
   "source": [
    "#### I will build a function to convert the original data to normalized data from 0 to 1. The method I use is 'max' normalization, which is a method to calculate the 'position' of a value between the max value and min value."
   ]
  },
  {
   "cell_type": "code",
   "execution_count": 54,
   "metadata": {},
   "outputs": [],
   "source": [
    "def normalize_variable(nn_df,variable_names):\n",
    "    variables_li = []\n",
    "    for variable in variable_names:\n",
    "        variables_li.append(nn_df[variable])\n",
    "    encoder = Normalizer()\n",
    "    to_array = np.asarray(variables_li)\n",
    "    norm_result = encoder.fit_transform(to_array)\n",
    "    norm_result = norm_result.T\n",
    "    return norm_result"
   ]
  },
  {
   "cell_type": "markdown",
   "metadata": {},
   "source": [
    "#### The Normalizer function can not recognize the categorical data. So I convert the 'Up' and 'Down' to 1 and 0."
   ]
  },
  {
   "cell_type": "code",
   "execution_count": 55,
   "metadata": {},
   "outputs": [],
   "source": [
    "df_removed.tendency  = np.where(df_removed.tendency == 'Up', 1, 0)"
   ]
  },
  {
   "cell_type": "code",
   "execution_count": 56,
   "metadata": {},
   "outputs": [],
   "source": [
    "norm_result = normalize_variable(df_removed, list(df_removed.columns)[2:-1])"
   ]
  },
  {
   "cell_type": "markdown",
   "metadata": {},
   "source": [
    "##### The result of normalization looks like array."
   ]
  },
  {
   "cell_type": "markdown",
   "metadata": {},
   "source": [
    "##### In order to create train and test samples, I convert the normalization array to dataframe."
   ]
  },
  {
   "cell_type": "code",
   "execution_count": 58,
   "metadata": {},
   "outputs": [],
   "source": [
    "X = pd.DataFrame(norm_result)"
   ]
  },
  {
   "cell_type": "code",
   "execution_count": 59,
   "metadata": {},
   "outputs": [
    {
     "data": {
      "text/html": [
       "<div>\n",
       "<style scoped>\n",
       "    .dataframe tbody tr th:only-of-type {\n",
       "        vertical-align: middle;\n",
       "    }\n",
       "\n",
       "    .dataframe tbody tr th {\n",
       "        vertical-align: top;\n",
       "    }\n",
       "\n",
       "    .dataframe thead th {\n",
       "        text-align: right;\n",
       "    }\n",
       "</style>\n",
       "<table border=\"1\" class=\"dataframe\">\n",
       "  <thead>\n",
       "    <tr style=\"text-align: right;\">\n",
       "      <th></th>\n",
       "      <th>Volume</th>\n",
       "      <th>basic_earning_per_share</th>\n",
       "      <th>enterprise_value</th>\n",
       "      <th>VWAP_volume</th>\n",
       "      <th>VWAP_bid_volume_percentage</th>\n",
       "      <th>VWAP_ask_volume_percentage</th>\n",
       "      <th>px_volume</th>\n",
       "      <th>turn_over</th>\n",
       "      <th>egy_rec</th>\n",
       "      <th>MACD</th>\n",
       "      <th>...</th>\n",
       "      <th>MFI</th>\n",
       "      <th>Volat</th>\n",
       "      <th>CMO.Ad</th>\n",
       "      <th>CMO.Vo</th>\n",
       "      <th>RunMean</th>\n",
       "      <th>RunSD</th>\n",
       "      <th>GMMA</th>\n",
       "      <th>KST</th>\n",
       "      <th>DPO</th>\n",
       "      <th>DVI</th>\n",
       "    </tr>\n",
       "  </thead>\n",
       "  <tbody>\n",
       "    <tr>\n",
       "      <th>0</th>\n",
       "      <td>0.000822</td>\n",
       "      <td>0.011293</td>\n",
       "      <td>0.004262</td>\n",
       "      <td>0.000844</td>\n",
       "      <td>0.008215</td>\n",
       "      <td>0.008229</td>\n",
       "      <td>0.000822</td>\n",
       "      <td>0.002010</td>\n",
       "      <td>0.007938</td>\n",
       "      <td>0.003456</td>\n",
       "      <td>...</td>\n",
       "      <td>0.005100</td>\n",
       "      <td>0.006490</td>\n",
       "      <td>0.002874</td>\n",
       "      <td>-0.024361</td>\n",
       "      <td>0.007783</td>\n",
       "      <td>0.007971</td>\n",
       "      <td>0.004710</td>\n",
       "      <td>-0.008239</td>\n",
       "      <td>-0.004371</td>\n",
       "      <td>0.007901</td>\n",
       "    </tr>\n",
       "    <tr>\n",
       "      <th>1</th>\n",
       "      <td>0.002837</td>\n",
       "      <td>0.001576</td>\n",
       "      <td>0.007017</td>\n",
       "      <td>0.002945</td>\n",
       "      <td>0.007805</td>\n",
       "      <td>0.006866</td>\n",
       "      <td>0.002838</td>\n",
       "      <td>0.003004</td>\n",
       "      <td>0.008080</td>\n",
       "      <td>0.004164</td>\n",
       "      <td>...</td>\n",
       "      <td>0.004704</td>\n",
       "      <td>0.006474</td>\n",
       "      <td>-0.001036</td>\n",
       "      <td>0.001638</td>\n",
       "      <td>0.006128</td>\n",
       "      <td>0.007266</td>\n",
       "      <td>0.004168</td>\n",
       "      <td>-0.007686</td>\n",
       "      <td>-0.003332</td>\n",
       "      <td>0.010184</td>\n",
       "    </tr>\n",
       "    <tr>\n",
       "      <th>2</th>\n",
       "      <td>0.001318</td>\n",
       "      <td>0.003266</td>\n",
       "      <td>0.016904</td>\n",
       "      <td>0.001368</td>\n",
       "      <td>0.008503</td>\n",
       "      <td>0.006167</td>\n",
       "      <td>0.001319</td>\n",
       "      <td>0.003523</td>\n",
       "      <td>0.006247</td>\n",
       "      <td>0.005342</td>\n",
       "      <td>...</td>\n",
       "      <td>0.005484</td>\n",
       "      <td>0.006390</td>\n",
       "      <td>0.003241</td>\n",
       "      <td>-0.008978</td>\n",
       "      <td>0.007108</td>\n",
       "      <td>0.007228</td>\n",
       "      <td>0.002927</td>\n",
       "      <td>-0.006442</td>\n",
       "      <td>-0.003431</td>\n",
       "      <td>0.008133</td>\n",
       "    </tr>\n",
       "    <tr>\n",
       "      <th>3</th>\n",
       "      <td>0.010757</td>\n",
       "      <td>0.000525</td>\n",
       "      <td>0.005882</td>\n",
       "      <td>0.011184</td>\n",
       "      <td>0.005333</td>\n",
       "      <td>0.009343</td>\n",
       "      <td>0.010755</td>\n",
       "      <td>0.003476</td>\n",
       "      <td>0.007227</td>\n",
       "      <td>0.005029</td>\n",
       "      <td>...</td>\n",
       "      <td>0.004865</td>\n",
       "      <td>0.006079</td>\n",
       "      <td>-0.000493</td>\n",
       "      <td>0.005335</td>\n",
       "      <td>0.007197</td>\n",
       "      <td>0.007184</td>\n",
       "      <td>0.008340</td>\n",
       "      <td>-0.005007</td>\n",
       "      <td>0.009865</td>\n",
       "      <td>0.005019</td>\n",
       "    </tr>\n",
       "    <tr>\n",
       "      <th>4</th>\n",
       "      <td>0.001036</td>\n",
       "      <td>0.000128</td>\n",
       "      <td>0.002466</td>\n",
       "      <td>0.001062</td>\n",
       "      <td>0.006987</td>\n",
       "      <td>0.007686</td>\n",
       "      <td>0.001036</td>\n",
       "      <td>0.000905</td>\n",
       "      <td>0.007724</td>\n",
       "      <td>0.004143</td>\n",
       "      <td>...</td>\n",
       "      <td>0.005175</td>\n",
       "      <td>0.005843</td>\n",
       "      <td>0.000634</td>\n",
       "      <td>-0.002950</td>\n",
       "      <td>0.007341</td>\n",
       "      <td>0.007134</td>\n",
       "      <td>0.004832</td>\n",
       "      <td>-0.002955</td>\n",
       "      <td>-0.003504</td>\n",
       "      <td>0.004840</td>\n",
       "    </tr>\n",
       "  </tbody>\n",
       "</table>\n",
       "<p>5 rows × 34 columns</p>\n",
       "</div>"
      ],
      "text/plain": [
       "     Volume  basic_earning_per_share  enterprise_value  VWAP_volume  \\\n",
       "0  0.000822                 0.011293          0.004262     0.000844   \n",
       "1  0.002837                 0.001576          0.007017     0.002945   \n",
       "2  0.001318                 0.003266          0.016904     0.001368   \n",
       "3  0.010757                 0.000525          0.005882     0.011184   \n",
       "4  0.001036                 0.000128          0.002466     0.001062   \n",
       "\n",
       "   VWAP_bid_volume_percentage  VWAP_ask_volume_percentage  px_volume  \\\n",
       "0                    0.008215                    0.008229   0.000822   \n",
       "1                    0.007805                    0.006866   0.002838   \n",
       "2                    0.008503                    0.006167   0.001319   \n",
       "3                    0.005333                    0.009343   0.010755   \n",
       "4                    0.006987                    0.007686   0.001036   \n",
       "\n",
       "   turn_over   egy_rec      MACD    ...          MFI     Volat    CMO.Ad  \\\n",
       "0   0.002010  0.007938  0.003456    ...     0.005100  0.006490  0.002874   \n",
       "1   0.003004  0.008080  0.004164    ...     0.004704  0.006474 -0.001036   \n",
       "2   0.003523  0.006247  0.005342    ...     0.005484  0.006390  0.003241   \n",
       "3   0.003476  0.007227  0.005029    ...     0.004865  0.006079 -0.000493   \n",
       "4   0.000905  0.007724  0.004143    ...     0.005175  0.005843  0.000634   \n",
       "\n",
       "     CMO.Vo   RunMean     RunSD      GMMA       KST       DPO       DVI  \n",
       "0 -0.024361  0.007783  0.007971  0.004710 -0.008239 -0.004371  0.007901  \n",
       "1  0.001638  0.006128  0.007266  0.004168 -0.007686 -0.003332  0.010184  \n",
       "2 -0.008978  0.007108  0.007228  0.002927 -0.006442 -0.003431  0.008133  \n",
       "3  0.005335  0.007197  0.007184  0.008340 -0.005007  0.009865  0.005019  \n",
       "4 -0.002950  0.007341  0.007134  0.004832 -0.002955 -0.003504  0.004840  \n",
       "\n",
       "[5 rows x 34 columns]"
      ]
     },
     "execution_count": 59,
     "metadata": {},
     "output_type": "execute_result"
    }
   ],
   "source": [
    "X.columns = list(df_removed.columns)[2:-1]\n",
    "X.head()"
   ]
  },
  {
   "cell_type": "code",
   "execution_count": 60,
   "metadata": {},
   "outputs": [],
   "source": [
    "y = df_removed.tendency"
   ]
  },
  {
   "cell_type": "code",
   "execution_count": 61,
   "metadata": {},
   "outputs": [],
   "source": [
    "X_train, X_test, y_train, y_test = train_test_split(X, y, test_size=0.2, shuffle=False)"
   ]
  },
  {
   "cell_type": "markdown",
   "metadata": {},
   "source": [
    "#### Train"
   ]
  },
  {
   "cell_type": "code",
   "execution_count": 62,
   "metadata": {},
   "outputs": [],
   "source": [
    "nn = MLPClassifier(solver='lbfgs', alpha=1e-5, hidden_layer_sizes=(16, 3), random_state=1)\n",
    "nn = nn.fit(X_train, y_train)"
   ]
  },
  {
   "cell_type": "markdown",
   "metadata": {},
   "source": [
    "#### Predict"
   ]
  },
  {
   "cell_type": "code",
   "execution_count": 63,
   "metadata": {},
   "outputs": [
    {
     "name": "stdout",
     "output_type": "stream",
     "text": [
      "Confusion matrix, without normalization\n",
      "[[1213  518]\n",
      " [ 539 1342]]\n"
     ]
    },
    {
     "data": {
      "image/png": "[encoded data removed]",
      "text/plain": [
       "<matplotlib.figure.Figure at 0x16bccdba588>"
      ]
     },
     "metadata": {},
     "output_type": "display_data"
    }
   ],
   "source": [
    "nn_prediction = nn.predict(X_test)\n",
    "xtab = confusion_matrix(y_test, nn_prediction)\n",
    "plot_confusion_matrix(xtab, classes=new_layer)"
   ]
  },
  {
   "cell_type": "code",
   "execution_count": 64,
   "metadata": {},
   "outputs": [
    {
     "name": "stdout",
     "output_type": "stream",
     "text": [
      "Accuracy: 0.7073643410852714\n"
     ]
    }
   ],
   "source": [
    "nn_acc = accuracy_score(y_test, nn_prediction)\n",
    "print('Accuracy:',nn_acc)"
   ]
  },
  {
   "cell_type": "code",
   "execution_count": 65,
   "metadata": {},
   "outputs": [],
   "source": [
    "new_layer = [1 , 0]"
   ]
  },
  {
   "cell_type": "code",
   "execution_count": 66,
   "metadata": {},
   "outputs": [
    {
     "data": {
      "text/plain": [
       "[['BIDU', 0.6677277819268111],\n",
       " ['QCOM', 0.6784577311133565],\n",
       " ['IBM', 0.6988678473629929],\n",
       " ['CSCO', 0.6996983408748114],\n",
       " ['ADBE', 0.6761808270731743],\n",
       " ['CRM', 0.7114216366158113],\n",
       " ['TXN', 0.7313853622106049],\n",
       " ['INTC', 0.7037208822923108],\n",
       " ['NVDA', 0.7368838685586259],\n",
       " ['MSFT', 0.7013093459938119],\n",
       " ['GOOGL', 0.6977176045922477],\n",
       " ['ORCL', 0.6976354066645329],\n",
       " ['AAPL', 0.7022058823529411],\n",
       " ['MU', 0.7254107542942494]]"
      ]
     },
     "execution_count": 66,
     "metadata": {},
     "output_type": "execute_result"
    }
   ],
   "source": [
    "nn_acc_li = []\n",
    "for ticket_name in ticket_li:\n",
    "    ticket_df = df_removed[df_removed.symbol == ticket_name]\n",
    "    norm_result = normalize_variable(ticket_df, list(ticket_df.columns)[2:-1])\n",
    "    ticket_X = pd.DataFrame(norm_result)\n",
    "    ticket_X.columns = list(ticket_df.columns)[2:-1]\n",
    "    tiecket_y = ticket_df.tendency\n",
    "    ticket_X_train, ticket_X_test, ticket_y_train, ticket_y_test = train_test_split(ticket_X, tiecket_y, test_size=0.2, shuffle=False)\n",
    "    y_adj = np.array(ticket_y_train)\n",
    "    scores = (cross_val_score(nn, ticket_X_train, y_adj, cv=10, scoring='accuracy')).mean()\n",
    "    nn_acc_li.append([ticket_name, scores])\n",
    "nn_acc_li"
   ]
  },
  {
   "cell_type": "markdown",
   "metadata": {},
   "source": [
    "##### I randomly map a neural network and got a relatively great result with accuracy 70.73%. And for seperated 'Up' and 'Down' class model, the performance of Neural Network seems good.  I will tune the Neural Network model and find if I could find appropriate parameters to build a more accurate Neural Network model.\n",
    "\n",
    "##### Now, I will check what kinds of parameters could be tuned."
   ]
  },
  {
   "cell_type": "markdown",
   "metadata": {},
   "source": [
    "#### Parameters"
   ]
  },
  {
   "cell_type": "code",
   "execution_count": 67,
   "metadata": {},
   "outputs": [
    {
     "data": {
      "text/plain": [
       "dict_keys(['activation', 'alpha', 'batch_size', 'beta_1', 'beta_2', 'early_stopping', 'epsilon', 'hidden_layer_sizes', 'learning_rate', 'learning_rate_init', 'max_iter', 'momentum', 'nesterovs_momentum', 'power_t', 'random_state', 'shuffle', 'solver', 'tol', 'validation_fraction', 'verbose', 'warm_start'])"
      ]
     },
     "execution_count": 67,
     "metadata": {},
     "output_type": "execute_result"
    }
   ],
   "source": [
    "nn.get_params().keys()"
   ]
  },
  {
   "cell_type": "code",
   "execution_count": 68,
   "metadata": {},
   "outputs": [
    {
     "data": {
      "text/plain": [
       "tuple"
      ]
     },
     "execution_count": 68,
     "metadata": {},
     "output_type": "execute_result"
    }
   ],
   "source": [
    "type((sp_randint(1,100),(sp_randint(1,100))))"
   ]
  },
  {
   "cell_type": "markdown",
   "metadata": {},
   "source": [
    "#### Tuning with gridsearch"
   ]
  },
  {
   "cell_type": "code",
   "execution_count": 69,
   "metadata": {},
   "outputs": [
    {
     "name": "stdout",
     "output_type": "stream",
     "text": [
      "{'hidden_layer_sizes': (16, 6), 'learning_rate_init': 0.0001}\n"
     ]
    }
   ],
   "source": [
    "#Tune\n",
    "param_grid =  {'hidden_layer_sizes':[(5, 3),(10, 3), (20, 3), (50, 3),(100,3),(5,6),(10, 6), (16, 6), (20,6), (50, 6), (100, 6)], \n",
    "             'learning_rate_init': [0.0001, 0.0005, 0.001, 0.005, 0.01, 0.05, 0.1, 0.5]}\n",
    "CV_nn_grid = GridSearchCV(nn, param_grid,refit = True)\n",
    "CV_nn_grid.fit(X_train, y_train)\n",
    "print (CV_nn_grid.best_params_)"
   ]
  },
  {
   "cell_type": "code",
   "execution_count": 70,
   "metadata": {},
   "outputs": [
    {
     "name": "stdout",
     "output_type": "stream",
     "text": [
      "Confusion matrix, without normalization\n",
      "[[1176  555]\n",
      " [ 511 1370]]\n"
     ]
    },
    {
     "data": {
      "image/png": "[encoded data removed]",
      "text/plain": [
       "<matplotlib.figure.Figure at 0x16bccdbe7b8>"
      ]
     },
     "metadata": {},
     "output_type": "display_data"
    }
   ],
   "source": [
    "nn_best_grid = CV_nn_grid.best_estimator_\n",
    "nn_best_grid = nn_best_grid.fit(X_train, y_train)\n",
    "nn_best_prediction_grid = nn_best_grid.predict(X_test)\n",
    "xtab = confusion_matrix(y_test, nn_best_prediction_grid)\n",
    "plot_confusion_matrix(xtab, classes=new_layer)"
   ]
  },
  {
   "cell_type": "code",
   "execution_count": 71,
   "metadata": {},
   "outputs": [
    {
     "name": "stdout",
     "output_type": "stream",
     "text": [
      "Accuracy: 0.7048726467331119\n"
     ]
    }
   ],
   "source": [
    "nn_best_acc_grid = accuracy_score(y_test, nn_best_prediction_grid)\n",
    "print('Accuracy:',nn_best_acc_grid)"
   ]
  },
  {
   "cell_type": "markdown",
   "metadata": {},
   "source": [
    "##### After tuning with grid search, the accuracy only improve 0.23%."
   ]
  },
  {
   "cell_type": "markdown",
   "metadata": {},
   "source": [
    "#### Tuning with randomsearch"
   ]
  },
  {
   "cell_type": "code",
   "execution_count": 74,
   "metadata": {},
   "outputs": [],
   "source": [
    "#Tune\n",
    "param_random = {'hidden_layer_sizes':[(5, 3),(10, 3), (20, 3), (50, 3),(100,3),(5,6),(10, 6), (16, 6), (20,6), (50, 6), (100, 6)], \n",
    "             'learning_rate_init': [0.0001, 0.0005, 0.001, 0.005, 0.01, 0.05, 0.1, 0.5]}\n",
    "n_iter_search = 88\n",
    "CV_nn_random = RandomizedSearchCV(nn, param_distributions=param_random,n_iter=n_iter_search)"
   ]
  },
  {
   "cell_type": "code",
   "execution_count": 75,
   "metadata": {},
   "outputs": [
    {
     "data": {
      "text/plain": [
       "RandomizedSearchCV(cv=None, error_score='raise',\n",
       "          estimator=MLPClassifier(activation='relu', alpha=1e-05, batch_size='auto', beta_1=0.9,\n",
       "       beta_2=0.999, early_stopping=False, epsilon=1e-08,\n",
       "       hidden_layer_sizes=(16, 3), learning_rate='constant',\n",
       "       learning_rate_init=0.001, max_iter=200, momentum=0.9,\n",
       "       nesterovs_momentum=True, power_t=0.5, random_state=1, shuffle=True,\n",
       "       solver='lbfgs', tol=0.0001, validation_fraction=0.1, verbose=False,\n",
       "       warm_start=False),\n",
       "          fit_params=None, iid=True, n_iter=88, n_jobs=1,\n",
       "          param_distributions={'hidden_layer_sizes': [(5, 3), (10, 3), (20, 3), (50, 3), (100, 3), (5, 6), (10, 6), (16, 6), (20, 6), (50, 6), (100, 6)], 'learning_rate_init': [0.0001, 0.0005, 0.001, 0.005, 0.01, 0.05, 0.1, 0.5]},\n",
       "          pre_dispatch='2*n_jobs', random_state=None, refit=True,\n",
       "          return_train_score='warn', scoring=None, verbose=0)"
      ]
     },
     "execution_count": 75,
     "metadata": {},
     "output_type": "execute_result"
    }
   ],
   "source": [
    "start = time()\n",
    "CV_nn_random.fit(X_train, y_train)"
   ]
  },
  {
   "cell_type": "code",
   "execution_count": 76,
   "metadata": {
    "scrolled": true
   },
   "outputs": [
    {
     "name": "stdout",
     "output_type": "stream",
     "text": [
      "RandomizedSearchCV took 509.03 seconds for 88 candidates parameter settings.\n",
      "Model with rank: 1\n",
      "Mean validation score: 0.708 (std: 0.010)\n",
      "Parameters: {'learning_rate_init': 0.0001, 'hidden_layer_sizes': (16, 6)}\n",
      "\n",
      "Model with rank: 1\n",
      "Mean validation score: 0.708 (std: 0.010)\n",
      "Parameters: {'learning_rate_init': 0.0005, 'hidden_layer_sizes': (16, 6)}\n",
      "\n",
      "Model with rank: 1\n",
      "Mean validation score: 0.708 (std: 0.010)\n",
      "Parameters: {'learning_rate_init': 0.001, 'hidden_layer_sizes': (16, 6)}\n",
      "\n",
      "Model with rank: 1\n",
      "Mean validation score: 0.708 (std: 0.010)\n",
      "Parameters: {'learning_rate_init': 0.005, 'hidden_layer_sizes': (16, 6)}\n",
      "\n",
      "Model with rank: 1\n",
      "Mean validation score: 0.708 (std: 0.010)\n",
      "Parameters: {'learning_rate_init': 0.01, 'hidden_layer_sizes': (16, 6)}\n",
      "\n",
      "Model with rank: 1\n",
      "Mean validation score: 0.708 (std: 0.010)\n",
      "Parameters: {'learning_rate_init': 0.05, 'hidden_layer_sizes': (16, 6)}\n",
      "\n",
      "Model with rank: 1\n",
      "Mean validation score: 0.708 (std: 0.010)\n",
      "Parameters: {'learning_rate_init': 0.1, 'hidden_layer_sizes': (16, 6)}\n",
      "\n",
      "Model with rank: 1\n",
      "Mean validation score: 0.708 (std: 0.010)\n",
      "Parameters: {'learning_rate_init': 0.5, 'hidden_layer_sizes': (16, 6)}\n",
      "\n",
      "Model with rank: 1\n",
      "Mean validation score: 0.708 (std: 0.012)\n",
      "Parameters: {'learning_rate_init': 0.0001, 'hidden_layer_sizes': (50, 6)}\n",
      "\n",
      "Model with rank: 1\n",
      "Mean validation score: 0.708 (std: 0.012)\n",
      "Parameters: {'learning_rate_init': 0.0005, 'hidden_layer_sizes': (50, 6)}\n",
      "\n",
      "Model with rank: 1\n",
      "Mean validation score: 0.708 (std: 0.012)\n",
      "Parameters: {'learning_rate_init': 0.001, 'hidden_layer_sizes': (50, 6)}\n",
      "\n",
      "Model with rank: 1\n",
      "Mean validation score: 0.708 (std: 0.012)\n",
      "Parameters: {'learning_rate_init': 0.005, 'hidden_layer_sizes': (50, 6)}\n",
      "\n",
      "Model with rank: 1\n",
      "Mean validation score: 0.708 (std: 0.012)\n",
      "Parameters: {'learning_rate_init': 0.01, 'hidden_layer_sizes': (50, 6)}\n",
      "\n",
      "Model with rank: 1\n",
      "Mean validation score: 0.708 (std: 0.012)\n",
      "Parameters: {'learning_rate_init': 0.05, 'hidden_layer_sizes': (50, 6)}\n",
      "\n",
      "Model with rank: 1\n",
      "Mean validation score: 0.708 (std: 0.012)\n",
      "Parameters: {'learning_rate_init': 0.1, 'hidden_layer_sizes': (50, 6)}\n",
      "\n",
      "Model with rank: 1\n",
      "Mean validation score: 0.708 (std: 0.012)\n",
      "Parameters: {'learning_rate_init': 0.5, 'hidden_layer_sizes': (50, 6)}\n",
      "\n"
     ]
    }
   ],
   "source": [
    "print(\"RandomizedSearchCV took %.2f seconds for %d candidates\"\n",
    "      \" parameter settings.\" % ((time() - start), n_iter_search))\n",
    "report(CV_nn_random.cv_results_)"
   ]
  },
  {
   "cell_type": "code",
   "execution_count": 77,
   "metadata": {},
   "outputs": [
    {
     "name": "stdout",
     "output_type": "stream",
     "text": [
      "Confusion matrix, without normalization\n",
      "[[1176  555]\n",
      " [ 511 1370]]\n"
     ]
    },
    {
     "data": {
      "image/png": "[encoded data removed]",
      "text/plain": [
       "<matplotlib.figure.Figure at 0x16bcd71a860>"
      ]
     },
     "metadata": {},
     "output_type": "display_data"
    }
   ],
   "source": [
    "nn_best_random = CV_nn_random.best_estimator_\n",
    "nn_best_random =nn_best_grid.fit(X_train, y_train)\n",
    "nn_best_prediction_random = nn_best_random.predict(X_test)\n",
    "xtab = confusion_matrix(y_test, nn_best_prediction_random)\n",
    "plot_confusion_matrix(xtab, classes=new_layer)"
   ]
  },
  {
   "cell_type": "code",
   "execution_count": 78,
   "metadata": {},
   "outputs": [
    {
     "name": "stdout",
     "output_type": "stream",
     "text": [
      "Accuracy: 0.7048726467331119\n"
     ]
    }
   ],
   "source": [
    "nn_best_acc_random = accuracy_score(y_test, nn_best_prediction_random)\n",
    "print('Accuracy:',nn_best_acc_random)"
   ]
  },
  {
   "cell_type": "code",
   "execution_count": 79,
   "metadata": {},
   "outputs": [],
   "source": [
    "if nn_best_acc_random > nn_best_acc_grid:\n",
    "    nn_best_m = nn_best_random\n",
    "else:\n",
    "    nn_best_m = nn_best_grid"
   ]
  },
  {
   "cell_type": "code",
   "execution_count": 80,
   "metadata": {},
   "outputs": [
    {
     "data": {
      "text/plain": [
       "[['BIDU', 0.6793035847647498],\n",
       " ['QCOM', 0.6881013047489347],\n",
       " ['IBM', 0.7105459831430705],\n",
       " ['CSCO', 0.7055429864253393],\n",
       " ['ADBE', 0.7013031015244036],\n",
       " ['CRM', 0.7134745190084997],\n",
       " ['TXN', 0.7236463778939506],\n",
       " ['INTC', 0.717862296433725],\n",
       " ['NVDA', 0.7329817027632562],\n",
       " ['MSFT', 0.7090759806536506],\n",
       " ['GOOGL', 0.6899597665802693],\n",
       " ['ORCL', 0.6880837689818272],\n",
       " ['AAPL', 0.7050339366515838],\n",
       " ['MU', 0.7069921583271098]]"
      ]
     },
     "execution_count": 80,
     "metadata": {},
     "output_type": "execute_result"
    }
   ],
   "source": [
    "nn_best_acc_li = []\n",
    "for ticket_name in ticket_li:\n",
    "    ticket_df = df_removed[df_removed.symbol == ticket_name]\n",
    "    norm_result = normalize_variable(ticket_df, list(ticket_df.columns)[2:-1])\n",
    "    ticket_X = pd.DataFrame(norm_result)\n",
    "    ticket_X.columns = list(ticket_df.columns)[2:-1]\n",
    "    tiecket_y = ticket_df.tendency\n",
    "    ticket_X_train, ticket_X_test, ticket_y_train, ticket_y_test = train_test_split(ticket_X, tiecket_y, test_size=0.2, shuffle=False)\n",
    "    y_adj = np.array(ticket_y_train)\n",
    "    scores = (cross_val_score(nn_best_m, ticket_X_train, y_adj, cv=10, scoring='accuracy')).mean()\n",
    "    nn_best_acc_li.append([ticket_name, scores])\n",
    "nn_best_acc_li"
   ]
  },
  {
   "cell_type": "markdown",
   "metadata": {},
   "source": [
    "### Summary:\n",
    "#### The Neural Network model perform well. The accuracy before and after tuning perform very well. Also, the model perform well when assigned to each stock.\n",
    "\n",
    "Main Accuracy:\n",
    "    - Original:\n",
    "    - After tuning: \n",
    "Each Stock Accuracy:\n",
    "    - BIDU: % to %\n",
    "    - QCOM: % to %\n",
    "    - IBM: % to %\n",
    "    - CSCO: % to %\n",
    "    - ADBE: % to %\n",
    "    - CRM: % to %\n",
    "    - TXN: % to %\n",
    "    - INTC: % to %\n",
    "    - NVDA: % to %\n",
    "    - MSFT: % to %\n",
    "    - GOOGL: % to %\n",
    "    - ORCL: % to %\n",
    "    - AAPL: % to %\n",
    "    - MU: % to %\n",
    "    \n",
    "#### The tuning result seems similar to the random map I draw and even lower than it.  It seems tuning only slightly elevate the performance of the Neural Network model. In order to improve the performance of Neural Network Model, I think more data are required to fit the Neural Network Model rather than continually tune the model.\n",
    "  "
   ]
  },
  {
   "cell_type": "markdown",
   "metadata": {},
   "source": [
    "## IV. Conclusion"
   ]
  },
  {
   "cell_type": "markdown",
   "metadata": {},
   "source": [
    "### IV.1 Objective:\n",
    "#### The objective of this project is to predict the tendency of stock prices with using Machine Learning Algorithms. "
   ]
  },
  {
   "cell_type": "markdown",
   "metadata": {},
   "source": [
    "### IV.2 Data & Variables:\n",
    "#### In order to reach this target, we collect the real data from Bloomberg. There are 49 independent variables as following:"
   ]
  },
  {
   "cell_type": "code",
   "execution_count": 82,
   "metadata": {},
   "outputs": [
    {
     "name": "stdout",
     "output_type": "stream",
     "text": [
      "['Open', 'High', 'Low', 'Close', 'Adj.Close', 'Volume', 'revenue', 'gross_profit', 'net_income', 'cash_from_operation', 'basic_earning_per_share', 'free_cash_flow', 'market_capital', 'enterprise_value', 'VWAP_volume', 'VWAP_bid_volume_percentage', 'VWAP_ask_volume_percentage', 'px_ask', 'px_bid', 'px_mid', 'px_volume', 'total_analyst_recommendation', 'turn_over', 'egy_rec', 'MACD', 'RSI', 'TRIX', 'SAR', 'ROC.Vo', 'ROC.Cl', 'CCI', 'ATR', 'SMI', 'ADX', 'Aroon', 'BB', 'ChaikinVol', 'CLV', 'EMV', 'MFI', 'Volat', 'CMO.Ad', 'CMO.Vo', 'RunMean', 'RunSD', 'GMMA', 'KST', 'DPO', 'DVI', 'tendency']\n"
     ]
    }
   ],
   "source": [
    "print(list(df.columns)[2:])"
   ]
  },
  {
   "cell_type": "markdown",
   "metadata": {},
   "source": [
    "#### The dependent variable is tendency.\n",
    "\n",
    "Tendency: \n",
    "- 'Up': Close price - Open price > 0\n",
    "- 'Down': Close price - Open price < 0\n",
    "\n",
    "#### Originally, there are 49 independent variables including basic price information, price and volume information, financial information and technical predictor. \n",
    "\n",
    "#### After fiting random forest, I find some insignificant variables and remove tailed 15 variables from the dataset. \n",
    "\n",
    "The variables removed:\n",
    "- Financial Information:\n",
    "    - revenue\n",
    "    - gross_profit\n",
    "    - net_income\n",
    "    - cash_from_operation\n",
    "    - free_cash_flow\n",
    "    - market_capital\n",
    "- percentage of buy&sell volume:\n",
    "    - px_mid\n",
    "    - px_ask\n",
    "    - px_bid\n",
    "- price information:\n",
    "    - Close\n",
    "    - Low \n",
    "    - High\n",
    "    - Open\n",
    "    - Adj.Close\n",
    "- Investor's Interest:\n",
    "    - total_analyst_recommendation\n",
    "\n",
    "#### Since the financial information is quarterly data, it is hard to influence the daily tendency of stock price. The percentage information is too normalized that could not reflect the change of stock price. \n",
    "\n",
    "#### At the first glance, it surprice us that the basic price information are influence little of the tendency of stock price. After consideration, we find that the target, tendency of stock price, represent the differences between Open price and Close price. This differences already take those basic price information into account, that might be why the basic price information insignificant to predict the tendency.\n",
    "\n",
    "#### After removing tailed 15 insignificant variables, there are 34 independent variables for following two algorithms, SVM and Neural Network."
   ]
  },
  {
   "cell_type": "markdown",
   "metadata": {},
   "source": [
    "### IV.3 Method and Model:\n",
    "\n",
    "#### The dataset: \n",
    "- 1 * Main Dataset including 14 stocks \n",
    "- 14 * each stock dataset \n",
    "\n",
    "#### Algorithms:\n",
    "- Random Forest\n",
    "- SVM\n",
    "- Neural Network\n",
    "\n",
    "\n",
    "#### I will use the accuracy to represent the performance of each algorithms.\n",
    "\n",
    "#### - Random Forest"
   ]
  },
  {
   "cell_type": "code",
   "execution_count": 83,
   "metadata": {},
   "outputs": [],
   "source": [
    "rf_acc_clean_li = []\n",
    "for i in range(len(rf_acc_li)):\n",
    "    possibility = rf_acc_li[i][1]\n",
    "    rf_acc_clean_li.append(possibility)\n",
    "\n",
    "rf_best_acc_clean_li = []\n",
    "for i in range(len(rf_best_acc_li)):\n",
    "    possibility = rf_best_acc_li[i][1]\n",
    "    rf_best_acc_clean_li.append(possibility)"
   ]
  },
  {
   "cell_type": "code",
   "execution_count": 85,
   "metadata": {},
   "outputs": [],
   "source": [
    "rf_acc_df = pd.DataFrame({'stock_name':ticket_li, 'before_tuning':rf_acc_clean_li, 'after_tuning':rf_best_acc_clean_li})\n",
    "rf_acc_main = {'stock_name':'main', 'before_tuning':rf_acc, 'after_tuning':rf_best_acc_grid}\n",
    "rf_acc_df.loc[-1] = rf_acc_main"
   ]
  },
  {
   "cell_type": "code",
   "execution_count": 86,
   "metadata": {},
   "outputs": [
    {
     "data": {
      "text/html": [
       "<div>\n",
       "<style scoped>\n",
       "    .dataframe tbody tr th:only-of-type {\n",
       "        vertical-align: middle;\n",
       "    }\n",
       "\n",
       "    .dataframe tbody tr th {\n",
       "        vertical-align: top;\n",
       "    }\n",
       "\n",
       "    .dataframe thead th {\n",
       "        text-align: right;\n",
       "    }\n",
       "</style>\n",
       "<table border=\"1\" class=\"dataframe\">\n",
       "  <thead>\n",
       "    <tr style=\"text-align: right;\">\n",
       "      <th></th>\n",
       "      <th>after_tuning</th>\n",
       "      <th>before_tuning</th>\n",
       "      <th>stock_name</th>\n",
       "    </tr>\n",
       "  </thead>\n",
       "  <tbody>\n",
       "    <tr>\n",
       "      <th>0</th>\n",
       "      <td>0.694679</td>\n",
       "      <td>0.634839</td>\n",
       "      <td>BIDU</td>\n",
       "    </tr>\n",
       "    <tr>\n",
       "      <th>1</th>\n",
       "      <td>0.682275</td>\n",
       "      <td>0.640712</td>\n",
       "      <td>QCOM</td>\n",
       "    </tr>\n",
       "    <tr>\n",
       "      <th>2</th>\n",
       "      <td>0.693191</td>\n",
       "      <td>0.655596</td>\n",
       "      <td>IBM</td>\n",
       "    </tr>\n",
       "    <tr>\n",
       "      <th>3</th>\n",
       "      <td>0.700641</td>\n",
       "      <td>0.658220</td>\n",
       "      <td>CSCO</td>\n",
       "    </tr>\n",
       "    <tr>\n",
       "      <th>4</th>\n",
       "      <td>0.683986</td>\n",
       "      <td>0.682073</td>\n",
       "      <td>ADBE</td>\n",
       "    </tr>\n",
       "    <tr>\n",
       "      <th>5</th>\n",
       "      <td>0.718227</td>\n",
       "      <td>0.670924</td>\n",
       "      <td>CRM</td>\n",
       "    </tr>\n",
       "    <tr>\n",
       "      <th>6</th>\n",
       "      <td>0.715935</td>\n",
       "      <td>0.690842</td>\n",
       "      <td>TXN</td>\n",
       "    </tr>\n",
       "    <tr>\n",
       "      <th>7</th>\n",
       "      <td>0.714832</td>\n",
       "      <td>0.663255</td>\n",
       "      <td>INTC</td>\n",
       "    </tr>\n",
       "    <tr>\n",
       "      <th>8</th>\n",
       "      <td>0.728165</td>\n",
       "      <td>0.684625</td>\n",
       "      <td>NVDA</td>\n",
       "    </tr>\n",
       "    <tr>\n",
       "      <th>9</th>\n",
       "      <td>0.706127</td>\n",
       "      <td>0.656613</td>\n",
       "      <td>MSFT</td>\n",
       "    </tr>\n",
       "    <tr>\n",
       "      <th>10</th>\n",
       "      <td>0.700658</td>\n",
       "      <td>0.645494</td>\n",
       "      <td>GOOGL</td>\n",
       "    </tr>\n",
       "    <tr>\n",
       "      <th>11</th>\n",
       "      <td>0.669748</td>\n",
       "      <td>0.626152</td>\n",
       "      <td>ORCL</td>\n",
       "    </tr>\n",
       "    <tr>\n",
       "      <th>12</th>\n",
       "      <td>0.670381</td>\n",
       "      <td>0.641214</td>\n",
       "      <td>AAPL</td>\n",
       "    </tr>\n",
       "    <tr>\n",
       "      <th>13</th>\n",
       "      <td>0.696313</td>\n",
       "      <td>0.659625</td>\n",
       "      <td>MU</td>\n",
       "    </tr>\n",
       "    <tr>\n",
       "      <th>-1</th>\n",
       "      <td>0.706811</td>\n",
       "      <td>0.682447</td>\n",
       "      <td>main</td>\n",
       "    </tr>\n",
       "  </tbody>\n",
       "</table>\n",
       "</div>"
      ],
      "text/plain": [
       "     after_tuning  before_tuning stock_name\n",
       " 0       0.694679       0.634839       BIDU\n",
       " 1       0.682275       0.640712       QCOM\n",
       " 2       0.693191       0.655596        IBM\n",
       " 3       0.700641       0.658220       CSCO\n",
       " 4       0.683986       0.682073       ADBE\n",
       " 5       0.718227       0.670924        CRM\n",
       " 6       0.715935       0.690842        TXN\n",
       " 7       0.714832       0.663255       INTC\n",
       " 8       0.728165       0.684625       NVDA\n",
       " 9       0.706127       0.656613       MSFT\n",
       " 10      0.700658       0.645494      GOOGL\n",
       " 11      0.669748       0.626152       ORCL\n",
       " 12      0.670381       0.641214       AAPL\n",
       " 13      0.696313       0.659625         MU\n",
       "-1       0.706811       0.682447       main"
      ]
     },
     "execution_count": 86,
     "metadata": {},
     "output_type": "execute_result"
    }
   ],
   "source": [
    "rf_acc_df"
   ]
  },
  {
   "cell_type": "code",
   "execution_count": 104,
   "metadata": {},
   "outputs": [
    {
     "data": {
      "image/png": "[encoded data removed]",
      "text/plain": [
       "<matplotlib.figure.Figure at 0x16bcced4a90>"
      ]
     },
     "metadata": {},
     "output_type": "display_data"
    }
   ],
   "source": [
    "sns.set(style=\"whitegrid\")\n",
    "\n",
    "# Initialize the matplotlib figure\n",
    "f, ax = plt.subplots(figsize=(15, 10))\n",
    "\n",
    "# Plot the total crashes\n",
    "sns.set_color_codes(\"pastel\")\n",
    "sns.barplot(x=\"after_tuning\", y=\"stock_name\", data=rf_acc_df,\n",
    "            label=\"after_tuning\", color=\"b\")\n",
    "\n",
    "# Plot the crashes where alcohol was involved\n",
    "sns.set_color_codes(\"muted\")\n",
    "sns.barplot(x=\"before_tuning\", y=\"stock_name\", data=rf_acc_df,\n",
    "            label=\"before_tuning\", color=\"b\")\n",
    "\n",
    "# Add a legend and informative axis label\n",
    "ax.legend(ncol=2, loc=\"lower right\", frameon=True)\n",
    "ax.set(xlim=(0, 1), ylabel=\"\",\n",
    "       xlabel=\"Accuracy\")\n",
    "sns.despine(left=True, bottom=True)"
   ]
  },
  {
   "cell_type": "markdown",
   "metadata": {},
   "source": [
    "#### - SVM"
   ]
  },
  {
   "cell_type": "code",
   "execution_count": 107,
   "metadata": {},
   "outputs": [],
   "source": [
    "svm_acc_clean_li = []\n",
    "for i in range(len(svm_acc_li)):\n",
    "    possibility = rf_acc_li[i][1]\n",
    "    svm_acc_clean_li.append(possibility)\n",
    "\n",
    "svm_best_acc_clean_li = []\n",
    "for i in range(len(svm_best_acc_li)):\n",
    "    possibility = svm_best_acc_li[i][1]\n",
    "    svm_best_acc_clean_li.append(possibility)"
   ]
  },
  {
   "cell_type": "code",
   "execution_count": 108,
   "metadata": {},
   "outputs": [],
   "source": [
    "svm_acc_df = pd.DataFrame({'stock_name':ticket_li, 'before_tuning':svm_acc_clean_li, 'after_tuning':svm_best_acc_clean_li})\n",
    "svm_acc_main ={'stock_name':'main', 'before_tuning':svm_acc, 'after_tuning':svm_best_acc_random}\n",
    "svm_acc_df.loc[-1] = svm_acc_main"
   ]
  },
  {
   "cell_type": "code",
   "execution_count": 109,
   "metadata": {},
   "outputs": [
    {
     "data": {
      "text/html": [
       "<div>\n",
       "<style scoped>\n",
       "    .dataframe tbody tr th:only-of-type {\n",
       "        vertical-align: middle;\n",
       "    }\n",
       "\n",
       "    .dataframe tbody tr th {\n",
       "        vertical-align: top;\n",
       "    }\n",
       "\n",
       "    .dataframe thead th {\n",
       "        text-align: right;\n",
       "    }\n",
       "</style>\n",
       "<table border=\"1\" class=\"dataframe\">\n",
       "  <thead>\n",
       "    <tr style=\"text-align: right;\">\n",
       "      <th></th>\n",
       "      <th>after_tuning</th>\n",
       "      <th>before_tuning</th>\n",
       "      <th>stock_name</th>\n",
       "    </tr>\n",
       "  </thead>\n",
       "  <tbody>\n",
       "    <tr>\n",
       "      <th>0</th>\n",
       "      <td>0.526559</td>\n",
       "      <td>0.634839</td>\n",
       "      <td>BIDU</td>\n",
       "    </tr>\n",
       "    <tr>\n",
       "      <th>1</th>\n",
       "      <td>0.527988</td>\n",
       "      <td>0.640712</td>\n",
       "      <td>QCOM</td>\n",
       "    </tr>\n",
       "    <tr>\n",
       "      <th>2</th>\n",
       "      <td>0.515441</td>\n",
       "      <td>0.655596</td>\n",
       "      <td>IBM</td>\n",
       "    </tr>\n",
       "    <tr>\n",
       "      <th>3</th>\n",
       "      <td>0.528959</td>\n",
       "      <td>0.658220</td>\n",
       "      <td>CSCO</td>\n",
       "    </tr>\n",
       "    <tr>\n",
       "      <th>4</th>\n",
       "      <td>0.547827</td>\n",
       "      <td>0.682073</td>\n",
       "      <td>ADBE</td>\n",
       "    </tr>\n",
       "    <tr>\n",
       "      <th>5</th>\n",
       "      <td>0.502903</td>\n",
       "      <td>0.670924</td>\n",
       "      <td>CRM</td>\n",
       "    </tr>\n",
       "    <tr>\n",
       "      <th>6</th>\n",
       "      <td>0.555545</td>\n",
       "      <td>0.690842</td>\n",
       "      <td>TXN</td>\n",
       "    </tr>\n",
       "    <tr>\n",
       "      <th>7</th>\n",
       "      <td>0.525788</td>\n",
       "      <td>0.663255</td>\n",
       "      <td>INTC</td>\n",
       "    </tr>\n",
       "    <tr>\n",
       "      <th>8</th>\n",
       "      <td>0.526102</td>\n",
       "      <td>0.684625</td>\n",
       "      <td>NVDA</td>\n",
       "    </tr>\n",
       "    <tr>\n",
       "      <th>9</th>\n",
       "      <td>0.523217</td>\n",
       "      <td>0.656613</td>\n",
       "      <td>MSFT</td>\n",
       "    </tr>\n",
       "    <tr>\n",
       "      <th>10</th>\n",
       "      <td>0.517868</td>\n",
       "      <td>0.645494</td>\n",
       "      <td>GOOGL</td>\n",
       "    </tr>\n",
       "    <tr>\n",
       "      <th>11</th>\n",
       "      <td>0.534299</td>\n",
       "      <td>0.626152</td>\n",
       "      <td>ORCL</td>\n",
       "    </tr>\n",
       "    <tr>\n",
       "      <th>12</th>\n",
       "      <td>0.509672</td>\n",
       "      <td>0.641214</td>\n",
       "      <td>AAPL</td>\n",
       "    </tr>\n",
       "    <tr>\n",
       "      <th>13</th>\n",
       "      <td>0.512584</td>\n",
       "      <td>0.659625</td>\n",
       "      <td>MU</td>\n",
       "    </tr>\n",
       "    <tr>\n",
       "      <th>-1</th>\n",
       "      <td>0.520764</td>\n",
       "      <td>0.520764</td>\n",
       "      <td>main</td>\n",
       "    </tr>\n",
       "  </tbody>\n",
       "</table>\n",
       "</div>"
      ],
      "text/plain": [
       "     after_tuning  before_tuning stock_name\n",
       " 0       0.526559       0.634839       BIDU\n",
       " 1       0.527988       0.640712       QCOM\n",
       " 2       0.515441       0.655596        IBM\n",
       " 3       0.528959       0.658220       CSCO\n",
       " 4       0.547827       0.682073       ADBE\n",
       " 5       0.502903       0.670924        CRM\n",
       " 6       0.555545       0.690842        TXN\n",
       " 7       0.525788       0.663255       INTC\n",
       " 8       0.526102       0.684625       NVDA\n",
       " 9       0.523217       0.656613       MSFT\n",
       " 10      0.517868       0.645494      GOOGL\n",
       " 11      0.534299       0.626152       ORCL\n",
       " 12      0.509672       0.641214       AAPL\n",
       " 13      0.512584       0.659625         MU\n",
       "-1       0.520764       0.520764       main"
      ]
     },
     "execution_count": 109,
     "metadata": {},
     "output_type": "execute_result"
    }
   ],
   "source": [
    "svm_acc_df"
   ]
  },
  {
   "cell_type": "code",
   "execution_count": 110,
   "metadata": {},
   "outputs": [
    {
     "data": {
      "image/png": "[encoded data removed]",
      "text/plain": [
       "<matplotlib.figure.Figure at 0x16bcf576fd0>"
      ]
     },
     "metadata": {},
     "output_type": "display_data"
    }
   ],
   "source": [
    "sns.set(style=\"whitegrid\")\n",
    "\n",
    "# Initialize the matplotlib figure\n",
    "f, ax = plt.subplots(figsize=(15, 10))\n",
    "\n",
    "# Plot the total crashes\n",
    "sns.set_color_codes(\"pastel\")\n",
    "sns.barplot(x=\"after_tuning\", y=\"stock_name\", data=svm_acc_df,\n",
    "            label=\"after_tuning\", color=\"b\")\n",
    "\n",
    "# Plot the crashes where alcohol was involved\n",
    "sns.set_color_codes(\"muted\")\n",
    "sns.barplot(x=\"before_tuning\", y=\"stock_name\", data=svm_acc_df,\n",
    "            label=\"before_tuning\", color=\"b\")\n",
    "\n",
    "# Add a legend and informative axis label\n",
    "ax.legend(ncol=2, loc=\"lower right\", frameon=True)\n",
    "ax.set(xlim=(0, 1), ylabel=\"\",\n",
    "       xlabel=\"Accuracy\")\n",
    "sns.despine(left=True, bottom=True)"
   ]
  },
  {
   "cell_type": "markdown",
   "metadata": {},
   "source": [
    "#### - Neural Network"
   ]
  },
  {
   "cell_type": "code",
   "execution_count": 99,
   "metadata": {},
   "outputs": [],
   "source": [
    "nn_acc_clean_li = []\n",
    "for i in range(len(svm_acc_li)):\n",
    "    possibility = rf_acc_li[i][1]\n",
    "    nn_acc_clean_li.append(possibility)\n",
    "\n",
    "nn_best_acc_clean_li = []\n",
    "for i in range(len(rf_best_acc_li)):\n",
    "    possibility = rf_best_acc_li[i][1]\n",
    "    nn_best_acc_clean_li.append(possibility)"
   ]
  },
  {
   "cell_type": "code",
   "execution_count": 100,
   "metadata": {},
   "outputs": [],
   "source": [
    "nn_acc_df = pd.DataFrame({'stock_name':ticket_li, 'before_tuning':nn_acc_clean_li, 'after_tuning':nn_best_acc_clean_li})\n",
    "nn_acc_main = {'stock_name':'main', 'before_tuning':nn_acc, 'after_tuning':nn_best_acc_random}\n",
    "nn_acc_df.loc[-1] = nn_acc_main"
   ]
  },
  {
   "cell_type": "code",
   "execution_count": 101,
   "metadata": {},
   "outputs": [
    {
     "data": {
      "text/html": [
       "<div>\n",
       "<style scoped>\n",
       "    .dataframe tbody tr th:only-of-type {\n",
       "        vertical-align: middle;\n",
       "    }\n",
       "\n",
       "    .dataframe tbody tr th {\n",
       "        vertical-align: top;\n",
       "    }\n",
       "\n",
       "    .dataframe thead th {\n",
       "        text-align: right;\n",
       "    }\n",
       "</style>\n",
       "<table border=\"1\" class=\"dataframe\">\n",
       "  <thead>\n",
       "    <tr style=\"text-align: right;\">\n",
       "      <th></th>\n",
       "      <th>after_tuning</th>\n",
       "      <th>before_tuning</th>\n",
       "      <th>stock_name</th>\n",
       "    </tr>\n",
       "  </thead>\n",
       "  <tbody>\n",
       "    <tr>\n",
       "      <th>0</th>\n",
       "      <td>0.694679</td>\n",
       "      <td>0.634839</td>\n",
       "      <td>BIDU</td>\n",
       "    </tr>\n",
       "    <tr>\n",
       "      <th>1</th>\n",
       "      <td>0.682275</td>\n",
       "      <td>0.640712</td>\n",
       "      <td>QCOM</td>\n",
       "    </tr>\n",
       "    <tr>\n",
       "      <th>2</th>\n",
       "      <td>0.693191</td>\n",
       "      <td>0.655596</td>\n",
       "      <td>IBM</td>\n",
       "    </tr>\n",
       "    <tr>\n",
       "      <th>3</th>\n",
       "      <td>0.700641</td>\n",
       "      <td>0.658220</td>\n",
       "      <td>CSCO</td>\n",
       "    </tr>\n",
       "    <tr>\n",
       "      <th>4</th>\n",
       "      <td>0.683986</td>\n",
       "      <td>0.682073</td>\n",
       "      <td>ADBE</td>\n",
       "    </tr>\n",
       "    <tr>\n",
       "      <th>5</th>\n",
       "      <td>0.718227</td>\n",
       "      <td>0.670924</td>\n",
       "      <td>CRM</td>\n",
       "    </tr>\n",
       "    <tr>\n",
       "      <th>6</th>\n",
       "      <td>0.715935</td>\n",
       "      <td>0.690842</td>\n",
       "      <td>TXN</td>\n",
       "    </tr>\n",
       "    <tr>\n",
       "      <th>7</th>\n",
       "      <td>0.714832</td>\n",
       "      <td>0.663255</td>\n",
       "      <td>INTC</td>\n",
       "    </tr>\n",
       "    <tr>\n",
       "      <th>8</th>\n",
       "      <td>0.728165</td>\n",
       "      <td>0.684625</td>\n",
       "      <td>NVDA</td>\n",
       "    </tr>\n",
       "    <tr>\n",
       "      <th>9</th>\n",
       "      <td>0.706127</td>\n",
       "      <td>0.656613</td>\n",
       "      <td>MSFT</td>\n",
       "    </tr>\n",
       "    <tr>\n",
       "      <th>10</th>\n",
       "      <td>0.700658</td>\n",
       "      <td>0.645494</td>\n",
       "      <td>GOOGL</td>\n",
       "    </tr>\n",
       "    <tr>\n",
       "      <th>11</th>\n",
       "      <td>0.669748</td>\n",
       "      <td>0.626152</td>\n",
       "      <td>ORCL</td>\n",
       "    </tr>\n",
       "    <tr>\n",
       "      <th>12</th>\n",
       "      <td>0.670381</td>\n",
       "      <td>0.641214</td>\n",
       "      <td>AAPL</td>\n",
       "    </tr>\n",
       "    <tr>\n",
       "      <th>13</th>\n",
       "      <td>0.696313</td>\n",
       "      <td>0.659625</td>\n",
       "      <td>MU</td>\n",
       "    </tr>\n",
       "    <tr>\n",
       "      <th>-1</th>\n",
       "      <td>0.704873</td>\n",
       "      <td>0.707364</td>\n",
       "      <td>main</td>\n",
       "    </tr>\n",
       "  </tbody>\n",
       "</table>\n",
       "</div>"
      ],
      "text/plain": [
       "     after_tuning  before_tuning stock_name\n",
       " 0       0.694679       0.634839       BIDU\n",
       " 1       0.682275       0.640712       QCOM\n",
       " 2       0.693191       0.655596        IBM\n",
       " 3       0.700641       0.658220       CSCO\n",
       " 4       0.683986       0.682073       ADBE\n",
       " 5       0.718227       0.670924        CRM\n",
       " 6       0.715935       0.690842        TXN\n",
       " 7       0.714832       0.663255       INTC\n",
       " 8       0.728165       0.684625       NVDA\n",
       " 9       0.706127       0.656613       MSFT\n",
       " 10      0.700658       0.645494      GOOGL\n",
       " 11      0.669748       0.626152       ORCL\n",
       " 12      0.670381       0.641214       AAPL\n",
       " 13      0.696313       0.659625         MU\n",
       "-1       0.704873       0.707364       main"
      ]
     },
     "execution_count": 101,
     "metadata": {},
     "output_type": "execute_result"
    }
   ],
   "source": [
    "nn_acc_df"
   ]
  },
  {
   "cell_type": "code",
   "execution_count": 106,
   "metadata": {},
   "outputs": [
    {
     "data": {
      "image/png": "[encoded data removed]",
      "text/plain": [
       "<matplotlib.figure.Figure at 0x16bcf6d3e10>"
      ]
     },
     "metadata": {},
     "output_type": "display_data"
    }
   ],
   "source": [
    "sns.set(style=\"whitegrid\")\n",
    "\n",
    "# Initialize the matplotlib figure\n",
    "f, ax = plt.subplots(figsize=(15, 10))\n",
    "\n",
    "# Plot the total crashes\n",
    "sns.set_color_codes(\"pastel\")\n",
    "sns.barplot(x=\"after_tuning\", y=\"stock_name\", data=nn_acc_df,\n",
    "            label=\"after_tuning\", color=\"b\")\n",
    "\n",
    "# Plot the crashes where alcohol was involved\n",
    "sns.set_color_codes(\"muted\")\n",
    "sns.barplot(x=\"before_tuning\", y=\"stock_name\", data=nn_acc_df,\n",
    "            label=\"before_tuning\", color=\"b\")\n",
    "\n",
    "# Add a legend and informative axis label\n",
    "ax.legend(ncol=2, loc=\"lower right\", frameon=True)\n",
    "ax.set(xlim=(0, 1), ylabel=\"\",\n",
    "       xlabel=\"Accuracy\")\n",
    "sns.despine(left=True, bottom=True)"
   ]
  },
  {
   "cell_type": "markdown",
   "metadata": {},
   "source": [
    "### IV. 4 Comparision and Discussion\n",
    "\n",
    "#### In a word, we think the Neural Network and Random Forest model perform better than SVM model. And we will choose Neural Network model rather than random forest model since we assume that if we collect more data to train the Neural Network model. The performance of Neural Network would be better than now."
   ]
  }
 ],
 "metadata": {
  "kernelspec": {
   "display_name": "Python 3",
   "language": "python",
   "name": "python3"
  },
  "language_info": {
   "codemirror_mode": {
    "name": "ipython",
    "version": 3
   },
   "file_extension": ".py",
   "mimetype": "text/x-python",
   "name": "python",
   "nbconvert_exporter": "python",
   "pygments_lexer": "ipython3",
   "version": "3.6.4"
  },
  "widgets": {
   "application/vnd.jupyter.widget-state+json": {
    "state": {},
    "version_major": 2,
    "version_minor": 0
   }
  }
 },
 "nbformat": 4,
 "nbformat_minor": 2
}
